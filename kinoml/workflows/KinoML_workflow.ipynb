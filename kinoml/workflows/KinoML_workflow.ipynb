{
 "cells": [
  {
   "cell_type": "markdown",
   "metadata": {},
   "source": [
    "## This notebook serves as an illustration of KinoML workflow"
   ]
  },
  {
   "cell_type": "markdown",
   "metadata": {},
   "source": [
    "### Premises\n",
    "\n",
    "The aim is to predict the binding free energy $\\Delta G$ of a given ligand and a given kinase.\n",
    "\n",
    "_**How ?**_ \n",
    "\n",
    "By building a machine learning (ML) algorithm and an observation model based on physics.\n",
    "\n",
    "### Challenges\n",
    "There are several publicly available data sets of bioactivity. However, none of them directly report $\\Delta G$.\n",
    "\n",
    "### Workaround\n",
    "Use observation models (which are directly derived from physics)."
   ]
  },
  {
   "cell_type": "markdown",
   "metadata": {},
   "source": [
    "### Toy example: ChEMBL\n",
    "We are going to use the ChEMBL data set an example, but the workflow stays the same on any other data set available in kinoml (e.g. KinomeScan)."
   ]
  },
  {
   "cell_type": "code",
   "execution_count": 1,
   "metadata": {},
   "outputs": [],
   "source": [
    "import warnings\n",
    "warnings.simplefilter(\"ignore\") \n",
    "import logging\n",
    "logging.basicConfig(level=logging.ERROR)"
   ]
  },
  {
   "cell_type": "code",
   "execution_count": 2,
   "metadata": {},
   "outputs": [
    {
     "data": {
      "application/vnd.jupyter.widget-view+json": {
       "model_id": "ea3686587fff46bfbc22711e015b71b7",
       "version_major": 2,
       "version_minor": 0
      },
      "text/plain": [
       "HBox(children=(FloatProgress(value=0.0, max=203380.0), HTML(value='')))"
      ]
     },
     "metadata": {},
     "output_type": "display_data"
    },
    {
     "name": "stdout",
     "output_type": "stream",
     "text": [
      "\n"
     ]
    }
   ],
   "source": [
    "from kinoml.datasets.chembl import ChEMBLDatasetProvider\n",
    "chembl = ChEMBLDatasetProvider.from_source()"
   ]
  },
  {
   "cell_type": "code",
   "execution_count": 3,
   "metadata": {},
   "outputs": [
    {
     "data": {
      "text/html": [
       "<div>\n",
       "<style scoped>\n",
       "    .dataframe tbody tr th:only-of-type {\n",
       "        vertical-align: middle;\n",
       "    }\n",
       "\n",
       "    .dataframe tbody tr th {\n",
       "        vertical-align: top;\n",
       "    }\n",
       "\n",
       "    .dataframe thead th {\n",
       "        text-align: right;\n",
       "    }\n",
       "</style>\n",
       "<table border=\"1\" class=\"dataframe\">\n",
       "  <thead>\n",
       "    <tr style=\"text-align: right;\">\n",
       "      <th></th>\n",
       "      <th>Systems</th>\n",
       "      <th>n_components</th>\n",
       "      <th>Measurement</th>\n",
       "      <th>MeasurementType</th>\n",
       "    </tr>\n",
       "  </thead>\n",
       "  <tbody>\n",
       "    <tr>\n",
       "      <th>0</th>\n",
       "      <td>P00533 &amp; Cc1cc(C)c(/C=C2\\C(=O)Nc3ncnc(Nc4ccc(F...</td>\n",
       "      <td>2</td>\n",
       "      <td>7.387216</td>\n",
       "      <td>pIC50Measurement</td>\n",
       "    </tr>\n",
       "    <tr>\n",
       "      <th>1</th>\n",
       "      <td>P35968 &amp; Cc1cc(C)c(/C=C2\\C(=O)Nc3ncnc(Nc4ccc(F...</td>\n",
       "      <td>2</td>\n",
       "      <td>4.782516</td>\n",
       "      <td>pIC50Measurement</td>\n",
       "    </tr>\n",
       "    <tr>\n",
       "      <th>2</th>\n",
       "      <td>P00533 &amp; Cc1cc(C(=O)N2CCOCC2)[nH]c1/C=C1\\C(=O)...</td>\n",
       "      <td>2</td>\n",
       "      <td>6.769551</td>\n",
       "      <td>pIC50Measurement</td>\n",
       "    </tr>\n",
       "    <tr>\n",
       "      <th>3</th>\n",
       "      <td>P06239 &amp; Nc1ncnc2c1c(-c1cccc(Oc3ccccc3)c1)cn2C...</td>\n",
       "      <td>2</td>\n",
       "      <td>6.853872</td>\n",
       "      <td>pIC50Measurement</td>\n",
       "    </tr>\n",
       "    <tr>\n",
       "      <th>4</th>\n",
       "      <td>P06239 &amp; Nc1ncnc2c1c(-c1cccc(Oc3ccccc3)c1)cn2C...</td>\n",
       "      <td>2</td>\n",
       "      <td>5.928118</td>\n",
       "      <td>pIC50Measurement</td>\n",
       "    </tr>\n",
       "    <tr>\n",
       "      <th>...</th>\n",
       "      <td>...</td>\n",
       "      <td>...</td>\n",
       "      <td>...</td>\n",
       "      <td>...</td>\n",
       "    </tr>\n",
       "    <tr>\n",
       "      <th>203375</th>\n",
       "      <td>P42345 &amp; CC(C)n1nc(-c2cc3cc(O)ccc3[nH]2)c2c(N)...</td>\n",
       "      <td>2</td>\n",
       "      <td>8.522879</td>\n",
       "      <td>pKdMeasurement</td>\n",
       "    </tr>\n",
       "    <tr>\n",
       "      <th>203376</th>\n",
       "      <td>P42345 &amp; CO[C@H]1CC[C@H](N2C(=O)CNc3ncc(-c4ccc...</td>\n",
       "      <td>2</td>\n",
       "      <td>7.552842</td>\n",
       "      <td>pKdMeasurement</td>\n",
       "    </tr>\n",
       "    <tr>\n",
       "      <th>203377</th>\n",
       "      <td>P42345 &amp; CNC(=O)c1cccc(-c2ccc3c(N4CCOC[C@@H]4C...</td>\n",
       "      <td>2</td>\n",
       "      <td>9.853872</td>\n",
       "      <td>pKdMeasurement</td>\n",
       "    </tr>\n",
       "    <tr>\n",
       "      <th>203378</th>\n",
       "      <td>P42345 &amp; CO[C@H]1C[C@@H]2CC[C@@H](C)[C@@](O)(O...</td>\n",
       "      <td>2</td>\n",
       "      <td>9.221849</td>\n",
       "      <td>pKdMeasurement</td>\n",
       "    </tr>\n",
       "    <tr>\n",
       "      <th>203379</th>\n",
       "      <td>P42345 &amp; CO[C@H]1C[C@@H]2CC[C@@H](C)[C@@](O)(O...</td>\n",
       "      <td>2</td>\n",
       "      <td>8.698970</td>\n",
       "      <td>pKdMeasurement</td>\n",
       "    </tr>\n",
       "  </tbody>\n",
       "</table>\n",
       "<p>203380 rows × 4 columns</p>\n",
       "</div>"
      ],
      "text/plain": [
       "                                                  Systems  n_components  \\\n",
       "0       P00533 & Cc1cc(C)c(/C=C2\\C(=O)Nc3ncnc(Nc4ccc(F...             2   \n",
       "1       P35968 & Cc1cc(C)c(/C=C2\\C(=O)Nc3ncnc(Nc4ccc(F...             2   \n",
       "2       P00533 & Cc1cc(C(=O)N2CCOCC2)[nH]c1/C=C1\\C(=O)...             2   \n",
       "3       P06239 & Nc1ncnc2c1c(-c1cccc(Oc3ccccc3)c1)cn2C...             2   \n",
       "4       P06239 & Nc1ncnc2c1c(-c1cccc(Oc3ccccc3)c1)cn2C...             2   \n",
       "...                                                   ...           ...   \n",
       "203375  P42345 & CC(C)n1nc(-c2cc3cc(O)ccc3[nH]2)c2c(N)...             2   \n",
       "203376  P42345 & CO[C@H]1CC[C@H](N2C(=O)CNc3ncc(-c4ccc...             2   \n",
       "203377  P42345 & CNC(=O)c1cccc(-c2ccc3c(N4CCOC[C@@H]4C...             2   \n",
       "203378  P42345 & CO[C@H]1C[C@@H]2CC[C@@H](C)[C@@](O)(O...             2   \n",
       "203379  P42345 & CO[C@H]1C[C@@H]2CC[C@@H](C)[C@@](O)(O...             2   \n",
       "\n",
       "        Measurement   MeasurementType  \n",
       "0          7.387216  pIC50Measurement  \n",
       "1          4.782516  pIC50Measurement  \n",
       "2          6.769551  pIC50Measurement  \n",
       "3          6.853872  pIC50Measurement  \n",
       "4          5.928118  pIC50Measurement  \n",
       "...             ...               ...  \n",
       "203375     8.522879    pKdMeasurement  \n",
       "203376     7.552842    pKdMeasurement  \n",
       "203377     9.853872    pKdMeasurement  \n",
       "203378     9.221849    pKdMeasurement  \n",
       "203379     8.698970    pKdMeasurement  \n",
       "\n",
       "[203380 rows x 4 columns]"
      ]
     },
     "execution_count": 3,
     "metadata": {},
     "output_type": "execute_result"
    }
   ],
   "source": [
    "df = chembl.to_dataframe()\n",
    "df"
   ]
  },
  {
   "cell_type": "code",
   "execution_count": 4,
   "metadata": {},
   "outputs": [
    {
     "name": "stdout",
     "output_type": "stream",
     "text": [
      "Measurement types: {'pKiMeasurement', 'pKdMeasurement', 'pIC50Measurement'}\n"
     ]
    }
   ],
   "source": [
    "print(\"Measurement types:\", set(df['MeasurementType']))"
   ]
  },
  {
   "cell_type": "markdown",
   "metadata": {},
   "source": [
    "The measurements that are associated with $pIC_{50}$, $pK_d$, $pK_i$ are given in molar $[M]$ units.\n",
    "\n",
    "See Chembl website: https://chembl.gitbook.io/chembl-interface-documentation/frequently-asked-questions/chembl-data-questions#what-is-pchembl "
   ]
  },
  {
   "cell_type": "markdown",
   "metadata": {},
   "source": [
    "### Subset of ChEMBL"
   ]
  },
  {
   "cell_type": "markdown",
   "metadata": {},
   "source": [
    "Let us use a subset of 10K systems (data points) for time efficiency."
   ]
  },
  {
   "cell_type": "code",
   "execution_count": 5,
   "metadata": {},
   "outputs": [
    {
     "data": {
      "text/plain": [
       "<ChEMBLDatasetProvider with 10000 pIC50Measurement measurements and 8514 systems>"
      ]
     },
     "execution_count": 5,
     "metadata": {},
     "output_type": "execute_result"
    }
   ],
   "source": [
    "from kinoml.core.measurements import pIC50Measurement\n",
    "from kinoml.datasets.chembl import ChEMBLDatasetProvider, _SingleTypeChEMBLDatasetProvider\n",
    "subset = []\n",
    "count = 0\n",
    "for ms in chembl.measurements:\n",
    "    if isinstance(ms, pIC50Measurement):\n",
    "        subset.append(ms)\n",
    "        count += 1\n",
    "    if count >= 10000:\n",
    "        break\n",
    "\n",
    "subchembl = ChEMBLDatasetProvider([_SingleTypeChEMBLDatasetProvider(subset)])\n",
    "subchembl"
   ]
  },
  {
   "cell_type": "code",
   "execution_count": 6,
   "metadata": {},
   "outputs": [
    {
     "data": {
      "text/html": [
       "<div>\n",
       "<style scoped>\n",
       "    .dataframe tbody tr th:only-of-type {\n",
       "        vertical-align: middle;\n",
       "    }\n",
       "\n",
       "    .dataframe tbody tr th {\n",
       "        vertical-align: top;\n",
       "    }\n",
       "\n",
       "    .dataframe thead th {\n",
       "        text-align: right;\n",
       "    }\n",
       "</style>\n",
       "<table border=\"1\" class=\"dataframe\">\n",
       "  <thead>\n",
       "    <tr style=\"text-align: right;\">\n",
       "      <th></th>\n",
       "      <th>Systems</th>\n",
       "      <th>n_components</th>\n",
       "      <th>Measurement</th>\n",
       "      <th>MeasurementType</th>\n",
       "    </tr>\n",
       "  </thead>\n",
       "  <tbody>\n",
       "    <tr>\n",
       "      <th>0</th>\n",
       "      <td>P00533 &amp; Cc1cc(C)c(/C=C2\\C(=O)Nc3ncnc(Nc4ccc(F...</td>\n",
       "      <td>2</td>\n",
       "      <td>7.387216</td>\n",
       "      <td>pIC50Measurement</td>\n",
       "    </tr>\n",
       "    <tr>\n",
       "      <th>1</th>\n",
       "      <td>P35968 &amp; Cc1cc(C)c(/C=C2\\C(=O)Nc3ncnc(Nc4ccc(F...</td>\n",
       "      <td>2</td>\n",
       "      <td>4.782516</td>\n",
       "      <td>pIC50Measurement</td>\n",
       "    </tr>\n",
       "    <tr>\n",
       "      <th>2</th>\n",
       "      <td>P00533 &amp; Cc1cc(C(=O)N2CCOCC2)[nH]c1/C=C1\\C(=O)...</td>\n",
       "      <td>2</td>\n",
       "      <td>6.769551</td>\n",
       "      <td>pIC50Measurement</td>\n",
       "    </tr>\n",
       "    <tr>\n",
       "      <th>3</th>\n",
       "      <td>P06239 &amp; Nc1ncnc2c1c(-c1cccc(Oc3ccccc3)c1)cn2C...</td>\n",
       "      <td>2</td>\n",
       "      <td>6.853872</td>\n",
       "      <td>pIC50Measurement</td>\n",
       "    </tr>\n",
       "    <tr>\n",
       "      <th>4</th>\n",
       "      <td>P06239 &amp; Nc1ncnc2c1c(-c1cccc(Oc3ccccc3)c1)cn2C...</td>\n",
       "      <td>2</td>\n",
       "      <td>5.928118</td>\n",
       "      <td>pIC50Measurement</td>\n",
       "    </tr>\n",
       "    <tr>\n",
       "      <th>...</th>\n",
       "      <td>...</td>\n",
       "      <td>...</td>\n",
       "      <td>...</td>\n",
       "      <td>...</td>\n",
       "    </tr>\n",
       "    <tr>\n",
       "      <th>9995</th>\n",
       "      <td>Q9Y243 &amp; CC(C)Cc1nc(-c2ccccc2)c(-c2ccc(CN3CCC(...</td>\n",
       "      <td>2</td>\n",
       "      <td>4.660151</td>\n",
       "      <td>pIC50Measurement</td>\n",
       "    </tr>\n",
       "    <tr>\n",
       "      <th>9996</th>\n",
       "      <td>P31749 &amp; O=C(O)c1ccc2nc(-c3ccc(CN4CCC(n5c(=O)[...</td>\n",
       "      <td>2</td>\n",
       "      <td>6.619789</td>\n",
       "      <td>pIC50Measurement</td>\n",
       "    </tr>\n",
       "    <tr>\n",
       "      <th>9997</th>\n",
       "      <td>P31751 &amp; O=C(O)c1ccc2nc(-c3ccc(CN4CCC(n5c(=O)[...</td>\n",
       "      <td>2</td>\n",
       "      <td>6.551294</td>\n",
       "      <td>pIC50Measurement</td>\n",
       "    </tr>\n",
       "    <tr>\n",
       "      <th>9998</th>\n",
       "      <td>P31749 &amp; O=C(O)c1ccc2nc(-c3ccccc3)c(-c3ccc(CN4...</td>\n",
       "      <td>2</td>\n",
       "      <td>6.779892</td>\n",
       "      <td>pIC50Measurement</td>\n",
       "    </tr>\n",
       "    <tr>\n",
       "      <th>9999</th>\n",
       "      <td>P30291 &amp; Cn1c(=O)c(-c2c(Cl)cccc2Cl)cc2cnc(Nc3c...</td>\n",
       "      <td>2</td>\n",
       "      <td>7.161151</td>\n",
       "      <td>pIC50Measurement</td>\n",
       "    </tr>\n",
       "  </tbody>\n",
       "</table>\n",
       "<p>10000 rows × 4 columns</p>\n",
       "</div>"
      ],
      "text/plain": [
       "                                                Systems  n_components  \\\n",
       "0     P00533 & Cc1cc(C)c(/C=C2\\C(=O)Nc3ncnc(Nc4ccc(F...             2   \n",
       "1     P35968 & Cc1cc(C)c(/C=C2\\C(=O)Nc3ncnc(Nc4ccc(F...             2   \n",
       "2     P00533 & Cc1cc(C(=O)N2CCOCC2)[nH]c1/C=C1\\C(=O)...             2   \n",
       "3     P06239 & Nc1ncnc2c1c(-c1cccc(Oc3ccccc3)c1)cn2C...             2   \n",
       "4     P06239 & Nc1ncnc2c1c(-c1cccc(Oc3ccccc3)c1)cn2C...             2   \n",
       "...                                                 ...           ...   \n",
       "9995  Q9Y243 & CC(C)Cc1nc(-c2ccccc2)c(-c2ccc(CN3CCC(...             2   \n",
       "9996  P31749 & O=C(O)c1ccc2nc(-c3ccc(CN4CCC(n5c(=O)[...             2   \n",
       "9997  P31751 & O=C(O)c1ccc2nc(-c3ccc(CN4CCC(n5c(=O)[...             2   \n",
       "9998  P31749 & O=C(O)c1ccc2nc(-c3ccccc3)c(-c3ccc(CN4...             2   \n",
       "9999  P30291 & Cn1c(=O)c(-c2c(Cl)cccc2Cl)cc2cnc(Nc3c...             2   \n",
       "\n",
       "      Measurement   MeasurementType  \n",
       "0        7.387216  pIC50Measurement  \n",
       "1        4.782516  pIC50Measurement  \n",
       "2        6.769551  pIC50Measurement  \n",
       "3        6.853872  pIC50Measurement  \n",
       "4        5.928118  pIC50Measurement  \n",
       "...           ...               ...  \n",
       "9995     4.660151  pIC50Measurement  \n",
       "9996     6.619789  pIC50Measurement  \n",
       "9997     6.551294  pIC50Measurement  \n",
       "9998     6.779892  pIC50Measurement  \n",
       "9999     7.161151  pIC50Measurement  \n",
       "\n",
       "[10000 rows x 4 columns]"
      ]
     },
     "execution_count": 6,
     "metadata": {},
     "output_type": "execute_result"
    }
   ],
   "source": [
    "subdf = subchembl.to_dataframe()\n",
    "subdf"
   ]
  },
  {
   "cell_type": "markdown",
   "metadata": {},
   "source": [
    "### Featurization\n",
    "#### Featurize the ligand\n",
    "\n",
    "Here we use the simple example of the Morgan fingerprint, but any featurizer available in KinoML could be applied (for example the graph featurizer).\n",
    "\n",
    "#### Featurize the kinase\n",
    "We use the standardized binding site sequence composition featurizer for the kinase, but any other available featurizer in KinoML could be applied. "
   ]
  },
  {
   "cell_type": "code",
   "execution_count": 8,
   "metadata": {},
   "outputs": [
    {
     "name": "stderr",
     "output_type": "stream",
     "text": [
      "Featurizing systems...:  49%|████▊     | 4132/8514 [01:55<02:09, 33.90it/s]RDKit WARNING: [16:15:46] Conflicting single bond directions around double bond at index 14.\n",
      "RDKit WARNING: [16:15:46]   BondStereo set to STEREONONE and single bond directions set to NONE.\n",
      "RDKit WARNING: [16:15:46] Conflicting single bond directions around double bond at index 14.\n",
      "RDKit WARNING: [16:15:46]   BondStereo set to STEREONONE and single bond directions set to NONE.\n",
      "Featurizing systems...: 100%|██████████| 8514/8514 [04:46<00:00, 29.74it/s]\n"
     ]
    }
   ],
   "source": [
    "from kinoml.features.ligand import SmilesToLigandFeaturizer, MorganFingerprintFeaturizer\n",
    "from kinoml.features.protein import AminoAcidCompositionFeaturizer\n",
    "from kinoml.features.core import ScaleFeaturizer, Concatenated, Pipeline\n",
    "\n",
    "morgan_featurizer = Pipeline([SmilesToLigandFeaturizer(), MorganFingerprintFeaturizer(nbits=1024, radius=2)])\n",
    "composition_featurizer = Pipeline([AminoAcidCompositionFeaturizer(), ScaleFeaturizer()])\n",
    "concat_featurizers = Concatenated([morgan_featurizer, composition_featurizer], axis=0)\n",
    "\n",
    "# prefeaturize everything\n",
    "subchembl.featurize(concat_featurizers)"
   ]
  },
  {
   "cell_type": "markdown",
   "metadata": {},
   "source": [
    "### Model\n",
    "We use a shallow neural network with only one hidden layer. The output of the model is a single node, which represents $\\Delta g$, the unitless binding free energy\n",
    "$$\n",
    "\\Delta g = \\frac{\\Delta G}{k_B T}.\n",
    "$$\n",
    "\n",
    "This model is very simple, but any model available in KinoML can be used (e.g. Graph Neural Network)."
   ]
  },
  {
   "cell_type": "markdown",
   "metadata": {},
   "source": [
    "### Idea behind the _observation_ model\n",
    "\n",
    "_Recall:_\n",
    "$$\n",
    "\\Delta g = \\frac{\\Delta G}{k_B T},\n",
    "$$\n",
    "where $k_B, T$ are the Boltzmann constant and temperature, respectively. \n",
    "\n",
    "As stated above, we would like to predict the (unitless) binding free energy $\\Delta g$ which is not reported in public data sets.\n",
    "\n",
    "\n",
    "However there are physics-based models which relate measured quantities (such as $K_d$) to the desired $\\Delta g$.\n",
    "\n",
    "In order to use all available data and combine different data sets, for every measurement type, we define a function based on the physics that maps $\\Delta g$ to the measured data type.\n",
    "\n",
    "#### ChEMBL\n",
    "The measurement types available in ChEMBL are:\n",
    "- $IC_{50}$\n",
    "- $K_i$\n",
    "- $K_d$\n",
    "\n",
    "#### KinomeScan\n",
    "The measurement type in KinomeScan is the percent displacement\n",
    "- $\\%displ.$"
   ]
  },
  {
   "cell_type": "markdown",
   "metadata": {},
   "source": [
    "### Define a _observation_ function to be applied on $\\Delta g$\n",
    "\n",
    "This _observation_ function is adapted to each measurement type.\n",
    "\n",
    "#### For $K_d$ measurements\n",
    "The dissociation constant $K_d$ is defined as (see https://doi.org/10.1002/wcms.1455)\n",
    "$$\n",
    "K_d = \\frac{[L][P]}{[LP]},\n",
    "$$\n",
    "where $[L]$, $[P]$, $[LP]$ are the ligand, protein and complex concentrations, respectively. From the article, we have\n",
    "$$\n",
    "\\Delta G = -k_B T \\ln (C*K_b),\n",
    "$$\n",
    "where $C$ is the standard concentration of 1 [M].\n",
    "\n",
    "Using the fact that $K_b = \\frac{1}{K_d}$, we obtain\n",
    "$$\n",
    "\\frac{\\Delta G}{k_B T} = - \\ln \\Big( \\frac{C}{K_d}\\Big),$$\n",
    "therefore,\n",
    "$$\n",
    "\\frac{\\Delta G}{k_B T} = \\ln \\Big( \\frac{K_d}{C}\\Big),\n",
    "$$\n",
    "and finally\n",
    "$$\n",
    "K_d = \\exp \\Big( \\frac{\\Delta G}{k_B T}\\Big) * C.\n",
    "$$\n",
    "Putting the units in the equation, we have:\n",
    "$$\n",
    "K_d [M] = \\exp \\Big( \\frac{\\Delta G}{k_B T}\\Big) * C[M].\n",
    "$$\n",
    "\n",
    "\n",
    "We define the following observation model for $K_d$ as\n",
    "$$\n",
    "\\mathbf{F}_{K_d}(\\Delta g) = exp[-\\Delta g] * C [M].\n",
    "$$\n",
    "\n",
    "However, it is more common to use $pK_d$ values when training a ML model. \n",
    "\n",
    "We recall the following\n",
    "$$\n",
    "pK_d [M] = -log_{10}(K_d [M]),\n",
    "$$\n",
    "and define\n",
    "$$\n",
    "\\mathbf{F}_{pK_d}(\\Delta g) = -log_{10}(exp[-\\Delta g] * C [M]).\n",
    "$$\n"
   ]
  },
  {
   "cell_type": "markdown",
   "metadata": {},
   "source": [
    "#### For $K_i$ measurements\n",
    "We make the assumption that $K_i \\approx K_d$ and therefore $\\mathbf{F}_{K_i} = \\mathbf{F}_{K_d}$ and $\\mathbf{F}_{pK_i} = \\mathbf{F}_{pK_d}$."
   ]
  },
  {
   "cell_type": "markdown",
   "metadata": {},
   "source": [
    "#### For $IC_{50}$ measurements\n",
    "\n",
    "\n",
    "We use the Cheng Prusoff equation here.\n",
    "\n",
    "The [Cheng Prusoff](https://en.wikipedia.org/wiki/IC50#Cheng_Prusoff_equation) equation states the following relationship\n",
    "\n",
    "\\begin{equation}\n",
    "K_i = \\frac{IC_{50}}{1+\\frac{[S]}{K_m}}.\n",
    "\\end{equation}\n",
    "\n",
    "We make the assumption\n",
    "$$\n",
    "K_i \\approx K_d.\n",
    "$$\n",
    "\n",
    "Under this assumption, the Cheng-Prusoff equation becomes\n",
    "$$\n",
    "IC_{50} \\approx \\Big({1+\\frac{[S]}{K_m}}\\Big) * K_d.\n",
    "$$\n",
    "\n",
    "We define the following function, using the observation model for $K_d$ defined above\n",
    "$$\n",
    "\\mathbf{F}_{IC_{50}}(\\Delta g) = \\Big({1+\\frac{[S]}{K_m}}\\Big) * \\mathbf{F}_{K_d}(\\Delta g) = \\Big({1+\\frac{[S]}{K_m}}\\Big) * exp[-\\Delta g] * C[M].\n",
    "$$\n",
    "\n",
    "Given $IC_{50}$ values given in molar units, we obtain $pIC_{50}$ values in molar units using the tranformation\n",
    "$$\n",
    "pIC_{50} [M] = -log_{10}(IC_{50}[M])\n",
    "$$\n",
    "\n",
    "Finally the observation model for $pIC_{50}$ values is\n",
    "$$\n",
    "\\mathbf{F}_{pIC_{50}}(\\Delta g) = -log10\\Big(({1+\\frac{[S]}{K_m}}) * exp[-\\Delta g] * C[M]\\Big)\n",
    "$$\n"
   ]
  },
  {
   "cell_type": "markdown",
   "metadata": {},
   "source": [
    "#### For KinomeScan measurements  (check!)\n",
    "For the percent displacement measurements available from KinomeScan, we make the assumption (see JDC's notes) that\n",
    "\n",
    "$$\n",
    "D([I]) \\approx \\frac{1}{1 + \\frac{K_d}{[I]}}\n",
    "$$\n",
    "\n",
    "For KinomeSCAN assays, all assays are usually performed at a single concentration, $ [I] \\sim 1 \\mu M $.\n",
    "\n",
    "We therefore define the following function\n",
    "$$\n",
    "\\mathbf{F}_{KinomeScan}(\\Delta g, [I]) = \\frac{1}{1 + \\frac{exp[-\\Delta g] * 1[M]}{[I]}}.\n",
    "$$"
   ]
  },
  {
   "cell_type": "markdown",
   "metadata": {},
   "source": [
    "### Observation model"
   ]
  },
  {
   "cell_type": "code",
   "execution_count": 12,
   "metadata": {},
   "outputs": [
    {
     "data": {
      "text/plain": [
       "[<function kinoml.core.measurements.pIC50Measurement._observation_model_pytorch(dG_over_KT, substrate_conc=1e-06, michaelis_constant=1, inhibitor_conc=1, **kwargs)>]"
      ]
     },
     "execution_count": 12,
     "metadata": {},
     "output_type": "execute_result"
    }
   ],
   "source": [
    "observation_models = subchembl.observation_models(backend=\"pytorch\")\n",
    "observation_models"
   ]
  },
  {
   "cell_type": "markdown",
   "metadata": {},
   "source": [
    "### Application\n",
    "\n",
    "Apply observation model to predicted $\\Delta g$ and compute loss function w.r.t to the learnable parameters."
   ]
  },
  {
   "cell_type": "code",
   "execution_count": 9,
   "metadata": {},
   "outputs": [],
   "source": [
    "import torch\n",
    "from kinoml.ml.torch_models import NeuralNetworkRegression\n",
    "from tqdm.auto import trange, tqdm\n",
    "\n",
    "# Use DataLoader for minibatches\n",
    "datasets = subchembl.to_pytorch()\n",
    "loaders = [dataset.as_dataloader(batch_size=5, shuffle=True) for dataset in datasets]"
   ]
  },
  {
   "cell_type": "markdown",
   "metadata": {},
   "source": [
    "### Define a loss function\n",
    "Herer we use the mean squarred error as a loss, but a more complex function which can account for different measurement types will be used."
   ]
  },
  {
   "cell_type": "code",
   "execution_count": 10,
   "metadata": {},
   "outputs": [],
   "source": [
    "loss_function = torch.nn.MSELoss() # Mean squared error"
   ]
  },
  {
   "cell_type": "markdown",
   "metadata": {},
   "source": [
    "### A few model settings"
   ]
  },
  {
   "cell_type": "code",
   "execution_count": 11,
   "metadata": {},
   "outputs": [],
   "source": [
    "# precompute input size\n",
    "input_size = datasets[0].estimate_input_size()\n",
    "# Initialize model\n",
    "model = NeuralNetworkRegression(input_size=input_size[0])\n",
    "# Optimization algorithm\n",
    "optimizer = torch.optim.Adam(model.parameters(), lr=0.005)\n",
    "\n",
    "nb_epoch = 100"
   ]
  },
  {
   "cell_type": "markdown",
   "metadata": {},
   "source": [
    "### Training loop"
   ]
  },
  {
   "cell_type": "code",
   "execution_count": 13,
   "metadata": {},
   "outputs": [
    {
     "data": {
      "application/vnd.jupyter.widget-view+json": {
       "model_id": "c9147b057eb24b82b89506ba074e8d8c",
       "version_major": 2,
       "version_minor": 0
      },
      "text/plain": [
       "HBox(children=(FloatProgress(value=0.0, description='Epochs (+ featurization...)', style=ProgressStyle(descrip…"
      ]
     },
     "metadata": {},
     "output_type": "display_data"
    },
    {
     "name": "stdout",
     "output_type": "stream",
     "text": [
      "\n"
     ]
    }
   ],
   "source": [
    "loss_timeseries = []\n",
    "ys = []\n",
    "range_epochs = trange(nb_epoch, desc=\"Epochs (+ featurization...)\")\n",
    "for epoch in range_epochs:\n",
    "    cumulative_loss = 0.0\n",
    "    ys.append([])\n",
    "    for i, loader in enumerate(loaders):\n",
    "        for j, (x, y) in enumerate(loader):\n",
    "\n",
    "            # Clear gradients\n",
    "            optimizer.zero_grad()\n",
    "\n",
    "            # Obtain model prediction given model input\n",
    "            delta_g = model(x)\n",
    "\n",
    "            # with observation model\n",
    "            prediction = loader.dataset.observation_model(delta_g)\n",
    "            \n",
    "            y = y.reshape(prediction.shape)\n",
    "\n",
    "            ys[-1].append((delta_g, prediction, y))\n",
    "\n",
    "            # loss between true and predicted values\n",
    "            loss = loss_function(prediction, y)\n",
    "\n",
    "            # Obtain loss for the predicted output\n",
    "            cumulative_loss += loss.item()\n",
    "\n",
    "            # Gradients w.r.t. parameters\n",
    "            loss.backward()\n",
    "\n",
    "            # Optimizer\n",
    "            optimizer.step()\n",
    "            if j % 2000 == 0:    # print every 2000 mini-batches\n",
    "                range_epochs.set_description(f\"Epochs (loss={cumulative_loss / 2000:.2e})\")\n",
    "                cumulative_loss = 0.0\n",
    "            \n",
    "    loss_timeseries.append(cumulative_loss)"
   ]
  },
  {
   "cell_type": "code",
   "execution_count": 14,
   "metadata": {},
   "outputs": [
    {
     "data": {
      "image/png": "[encoded data removed]",
      "text/plain": [
       "<Figure size 432x288 with 1 Axes>"
      ]
     },
     "metadata": {
      "needs_background": "light"
     },
     "output_type": "display_data"
    }
   ],
   "source": [
    "import matplotlib.pyplot as plt\n",
    "f = plt.figure()\n",
    "plt.plot(loss_timeseries)\n",
    "plt.xlabel('epoch')\n",
    "plt.ylabel('loss')\n",
    "plt.show()"
   ]
  },
  {
   "cell_type": "markdown",
   "metadata": {},
   "source": [
    "### Model performance on the whole data set"
   ]
  },
  {
   "cell_type": "code",
   "execution_count": 15,
   "metadata": {},
   "outputs": [
    {
     "data": {
      "image/png": "[encoded data removed]",
      "text/plain": [
       "<Figure size 432x288 with 1 Axes>"
      ]
     },
     "metadata": {
      "needs_background": "light"
     },
     "output_type": "display_data"
    },
    {
     "name": "stdout",
     "output_type": "stream",
     "text": [
      "R2: Goodness of fit measure: 0.90\n",
      "MSE: 0.18\n",
      "RMSE: 0.42\n",
      "MAE: 0.30\n"
     ]
    }
   ],
   "source": [
    "import numpy as np\n",
    "from sklearn.metrics import r2_score, mean_squared_error, mean_absolute_error\n",
    "\n",
    "model_input = torch.tensor(datasets[0].systems).type(torch.FloatTensor)\n",
    "true = datasets[0].measurements\n",
    "\n",
    "delta_g = model(model_input)\n",
    "prediction = datasets[0].observation_model(delta_g).detach().numpy()\n",
    "\n",
    "\n",
    "fig, ax = plt.subplots()\n",
    "ax.scatter(prediction, true)\n",
    "ax.set(xlim=(0, 15), ylim=(0, 15))\n",
    "ax.set_xlabel(\"Predicted y\")\n",
    "ax.set_ylabel(\"True y\")\n",
    "ax.set_title(\"pIC50 values for a 10k ChEMBL subset\")\n",
    "x = np.linspace(0, 15, 10)\n",
    "ax.plot(x, x)\n",
    "ax.set_aspect('equal', adjustable='box')\n",
    "plt.show()\n",
    "\n",
    "r2 = r2_score(true, prediction)\n",
    "print(f\"R2: Goodness of fit measure: {r2:.2f}\")\n",
    "if all(elem==prediction[0] for elem in prediction):\n",
    "    print(\"All outputs are equal: \")\n",
    "mse = mean_squared_error(true, prediction)\n",
    "mae = mean_absolute_error(true, prediction)\n",
    "rmse = np.sqrt(mse)\n",
    "print(f\"MSE: {mse:.2f}\")\n",
    "print(f\"RMSE: {rmse:.2f}\")\n",
    "print(f\"MAE: {mae:.2f}\")"
   ]
  },
  {
   "cell_type": "markdown",
   "metadata": {},
   "source": [
    "### Illustrative workflow\n",
    "\n",
    "Workflow illustration with one measurement.\n",
    "\n",
    "![unique_measurement](images/KinoML_Workflow-single.png)"
   ]
  },
  {
   "cell_type": "markdown",
   "metadata": {},
   "source": [
    "## Multiple data sets and measurements\n",
    "\n",
    "When we have more than a single measurement type for a protein-ligand system, we can define a more complex loss function:\n",
    "\n",
    "$$\n",
    "L(\\mathbf{\\hat{y}}, \\mathbf{y}) = \n",
    "\\sum_{i=1}^{M} \\alpha_i \\cdot\n",
    "\\mathbf{1} \\{ mse(\\mathbf{\\hat{y}_i}, \\mathbf{y_i}) \\text{ if assay type i exists}\\},\n",
    "$$ \n",
    "where the weight $\\alpha_i$ would be determined according to the range of the different measurement types.\n",
    "\n",
    "E.g.\n",
    "\n",
    "$\\alpha_{K_d} = \\alpha_{K_i} = 1$ and $\\alpha_{IC50} = 1/2$"
   ]
  },
  {
   "cell_type": "markdown",
   "metadata": {},
   "source": [
    "### Illustrative workflow\n",
    "\n",
    "Workflow illustration with multiple measurements\n",
    "\n",
    "![multiple_measurements](images/KinoML_Workflow-multiple.png)"
   ]
  }
 ],
 "metadata": {
  "kernelspec": {
   "display_name": "Python 3",
   "language": "python",
   "name": "python3"
  },
  "language_info": {
   "codemirror_mode": {
    "name": "ipython",
    "version": 3
   },
   "file_extension": ".py",
   "mimetype": "text/x-python",
   "name": "python",
   "nbconvert_exporter": "python",
   "pygments_lexer": "ipython3",
   "version": "3.7.8"
  }
 },
 "nbformat": 4,
 "nbformat_minor": 4
}
