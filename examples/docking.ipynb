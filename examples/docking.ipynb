{
 "cells": [
  {
   "cell_type": "markdown",
   "metadata": {},
   "source": [
    "# Docking Featurizer\n",
    "\n",
    "This shows how we can dock a small molecule in a target kinase with OpenEye toolkit."
   ]
  },
  {
   "cell_type": "code",
   "execution_count": 1,
   "metadata": {},
   "outputs": [],
   "source": [
    "%load_ext autoreload\n",
    "%autoreload 2"
   ]
  },
  {
   "cell_type": "code",
   "execution_count": 2,
   "metadata": {},
   "outputs": [
    {
     "data": {
      "application/vnd.jupyter.widget-view+json": {
       "model_id": "d936546343eb46e882ffdd5c0f156191",
       "version_major": 2,
       "version_minor": 0
      },
      "text/plain": []
     },
     "metadata": {},
     "output_type": "display_data"
    }
   ],
   "source": [
    "from kinoml.core.ligands import SmilesLigand\n",
    "from kinoml.core.proteins import PDBProtein\n",
    "from kinoml.core.systems import ProteinLigandComplex\n",
    "from kinoml.features.complexes import OpenEyesProteinLigandDockingFeaturizer"
   ]
  },
  {
   "cell_type": "markdown",
   "metadata": {},
   "source": [
    "Let's perform a Hybrid docking into [4YNE](https://www.rcsb.org/structure/4YNE) retrieved from PDB with larotrectinib read from a smiles (reading from file is possible with the FileLigand class). First we need to generate the `System`, which is a `ProteinLigandComplex`."
   ]
  },
  {
   "cell_type": "code",
   "execution_count": 3,
   "metadata": {},
   "outputs": [],
   "source": [
    "smiles_ligand = SmilesLigand(smiles=\"C1CC(N(C1)C2=NC3=C(C=NN3C=C2)NC(=O)N4CCC(C4)O)C5=C(C=CC(=C5)F)F\",\n",
    "                             name=\"larotrectinib\")\n",
    "pdb_protein = PDBProtein(pdb_id=\"4yne\", name=\"4yne\")\n",
    "protein_ligand_complex = ProteinLigandComplex(components=[pdb_protein, smiles_ligand])"
   ]
  },
  {
   "cell_type": "markdown",
   "metadata": {},
   "source": [
    "Next perform the docking. The current implementation will detect the co-crystalized ligand in 4YNE and perform a hybrid docking. "
   ]
  },
  {
   "cell_type": "code",
   "execution_count": 4,
   "metadata": {},
   "outputs": [
    {
     "data": {
      "text/plain": [
       "<ProteinLigandComplex with 2 components (<PDBProtein name=4yne>, <SmilesLigand name=larotrectinib>)>"
      ]
     },
     "execution_count": 4,
     "metadata": {},
     "output_type": "execute_result"
    }
   ],
   "source": [
    "#docking_featurizer = OpenEyesProteinLigandDockingFeaturizer(loop_db=\"~/.OpenEye/rcsb_spruce.loop_db\")\n",
    "docking_featurizer = OpenEyesProteinLigandDockingFeaturizer()\n",
    "system = docking_featurizer.featurize(protein_ligand_complex)\n",
    "system"
   ]
  },
  {
   "cell_type": "markdown",
   "metadata": {},
   "source": [
    "Next will be docking in a apo protein. This example will use [4GT5](https://www.rcsb.org/structure/4GT5) from PDB with larotrectinib already used before. The current implementation will use the pocket residues retrieved from [KLIFS](https://klifs.vu-compmedchem.nl/) to define the binding pocket for docking. "
   ]
  },
  {
   "cell_type": "code",
   "execution_count": 5,
   "metadata": {},
   "outputs": [],
   "source": [
    "pdb_apo_protein = PDBProtein(pdb_id=\"4gt5\", name=\"4gt5\")\n",
    "apo_protein_ligand_complex = ProteinLigandComplex(components=[pdb_apo_protein, smiles_ligand])"
   ]
  },
  {
   "cell_type": "code",
   "execution_count": 6,
   "metadata": {},
   "outputs": [
    {
     "data": {
      "text/plain": [
       "<ProteinLigandComplex with 2 components (<PDBProtein name=4gt5>, <SmilesLigand name=larotrectinib>)>"
      ]
     },
     "execution_count": 6,
     "metadata": {},
     "output_type": "execute_result"
    }
   ],
   "source": [
    "system2 = docking_featurizer.featurize(apo_protein_ligand_complex)\n",
    "system2"
   ]
  },
  {
   "cell_type": "code",
   "execution_count": null,
   "metadata": {},
   "outputs": [],
   "source": []
  }
 ],
 "metadata": {
  "kernelspec": {
   "display_name": "Python 3",
   "language": "python",
   "name": "python3"
  },
  "language_info": {
   "codemirror_mode": {
    "name": "ipython",
    "version": 3
   },
   "file_extension": ".py",
   "mimetype": "text/x-python",
   "name": "python",
   "nbconvert_exporter": "python",
   "pygments_lexer": "ipython3",
   "version": "3.7.8"
  }
 },
 "nbformat": 4,
 "nbformat_minor": 4
}
