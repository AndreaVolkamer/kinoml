{
 "cells": [
  {
   "cell_type": "markdown",
   "metadata": {},
   "source": [
    "# Docking Featurizer\n",
    "\n",
    "This shows how we can dock a small molecule in a target kinase with OpenEye toolkit."
   ]
  },
  {
   "cell_type": "code",
   "execution_count": 1,
   "metadata": {},
   "outputs": [],
   "source": [
    "%load_ext autoreload\n",
    "%autoreload 2"
   ]
  },
  {
   "cell_type": "code",
   "execution_count": 2,
   "metadata": {},
   "outputs": [
    {
     "data": {
      "application/vnd.jupyter.widget-view+json": {
       "model_id": "0a14693230904a4e96aa445913dec30f",
       "version_major": 2,
       "version_minor": 0
      },
      "text/plain": []
     },
     "metadata": {},
     "output_type": "display_data"
    }
   ],
   "source": [
    "from kinoml.core.ligands import FileLigand\n",
    "from kinoml.core.proteins import PDBProtein\n",
    "from kinoml.core.systems import ProteinLigandComplex\n",
    "from kinoml.features.complexes import OpenEyesProteinLigandDockingFeaturizer"
   ]
  },
  {
   "cell_type": "markdown",
   "metadata": {},
   "source": [
    "Let's perform a Hybrid docking into [4YNE](https://www.rcsb.org/structure/4YNE) retrieved from PDB with larotrectinib read from a file. First we need to generate the `System`, which is a `ProteinLigandComplex`."
   ]
  },
  {
   "cell_type": "code",
   "execution_count": 3,
   "metadata": {},
   "outputs": [],
   "source": [
    "file_ligand = FileLigand(path=\"/home/david/data/larotrectinib.csv\", name=\"larotrectinib\")\n",
    "pdb_protein = PDBProtein(pdb_id=\"4yne\", name=\"4yne\")\n",
    "protein_ligand_complex = ProteinLigandComplex(components=[pdb_protein, file_ligand])"
   ]
  },
  {
   "cell_type": "markdown",
   "metadata": {},
   "source": [
    "Next perform the docking. The current implementation will detect the co-crystalized ligand in 4YNE and perform a hybrid docking. "
   ]
  },
  {
   "cell_type": "code",
   "execution_count": 4,
   "metadata": {},
   "outputs": [
    {
     "data": {
      "text/plain": [
       "<ProteinLigandComplex with 2 components (<PDBProtein name=4yne>, <FileLigand name=larotrectinib>)>"
      ]
     },
     "execution_count": 4,
     "metadata": {},
     "output_type": "execute_result"
    }
   ],
   "source": [
    "docking_featurizer = OpenEyesProteinLigandDockingFeaturizer(loop_db=\"~/.OpenEye/rcsb_spruce.loop_db\")\n",
    "system = docking_featurizer.featurize(protein_ligand_complex)\n",
    "system"
   ]
  },
  {
   "cell_type": "markdown",
   "metadata": {},
   "source": [
    "Next will be docking in a apo protein. This example will use [4GT5](https://www.rcsb.org/structure/4GT5) from PDB with larotrectinib already used before. The current implementation will use the pocket residues retrieved from [KLIFS](https://klifs.vu-compmedchem.nl/) to define the binding pocket for docking."
   ]
  },
  {
   "cell_type": "code",
   "execution_count": 5,
   "metadata": {},
   "outputs": [],
   "source": [
    "pdb_apo_protein = PDBProtein(pdb_id=\"4gt5\", name=\"4gt5\")\n",
    "apo_protein_ligand_complex = ProteinLigandComplex(components=[pdb_apo_protein, file_ligand])"
   ]
  },
  {
   "cell_type": "code",
   "execution_count": 6,
   "metadata": {},
   "outputs": [
    {
     "data": {
      "text/plain": [
       "<ProteinLigandComplex with 2 components (<PDBProtein name=4gt5>, <FileLigand name=larotrectinib>)>"
      ]
     },
     "execution_count": 6,
     "metadata": {},
     "output_type": "execute_result"
    }
   ],
   "source": [
    "system2 = docking_featurizer.featurize(apo_protein_ligand_complex)\n",
    "system2"
   ]
  },
  {
   "cell_type": "code",
   "execution_count": null,
   "metadata": {},
   "outputs": [],
   "source": []
  }
 ],
 "metadata": {
  "kernelspec": {
   "display_name": "Python 3",
   "language": "python",
   "name": "python3"
  },
  "language_info": {
   "codemirror_mode": {
    "name": "ipython",
    "version": 3
   },
   "file_extension": ".py",
   "mimetype": "text/x-python",
   "name": "python",
   "nbconvert_exporter": "python",
   "pygments_lexer": "ipython3",
   "version": "3.7.8"
  }
 },
 "nbformat": 4,
 "nbformat_minor": 4
}
