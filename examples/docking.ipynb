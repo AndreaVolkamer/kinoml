{
 "cells": [
  {
   "cell_type": "markdown",
   "metadata": {},
   "source": [
    "# Docking Featurizer\n",
    "\n",
    "This shows how we can dock a small molecule in a protein using the Hybrid docking protocol implemented in the OpenEye toolkit."
   ]
  },
  {
   "cell_type": "code",
   "execution_count": 1,
   "metadata": {},
   "outputs": [
    {
     "data": {
      "application/vnd.jupyter.widget-view+json": {
       "model_id": "9f231785f5db48509a42d2f0bebefcab",
       "version_major": 2,
       "version_minor": 0
      },
      "text/plain": []
     },
     "metadata": {},
     "output_type": "display_data"
    }
   ],
   "source": [
    "from kinoml.core.ligands import SmilesLigand\n",
    "from kinoml.core.proteins import PDBProtein, BaseProtein\n",
    "from kinoml.core.systems import ProteinLigandComplex\n",
    "from kinoml.features.complexes import OEHybridDockingFeaturizer, OEKLIFSKinaseHybridDockingFeaturizer"
   ]
  },
  {
   "cell_type": "markdown",
   "metadata": {},
   "source": [
    "## OEHybridDockingFeaturizer"
   ]
  },
  {
   "cell_type": "markdown",
   "metadata": {},
   "source": [
    "Let's perform a Hybrid docking into [4YNE](https://www.rcsb.org/structure/4YNE) retrieved from PDB with larotrectinib read from a smiles (reading from file is possible with the FileLigand class). First we need to generate the `System`, which is a `ProteinLigandComplex`."
   ]
  },
  {
   "cell_type": "code",
   "execution_count": 2,
   "metadata": {},
   "outputs": [],
   "source": [
    "smiles_ligand = SmilesLigand(smiles=\"C1CC(N(C1)C2=NC3=C(C=NN3C=C2)NC(=O)N4CCC(C4)O)C5=C(C=CC(=C5)F)F\",\n",
    "                             name=\"larotrectinib\")\n",
    "pdb_protein = PDBProtein(pdb_id=\"4yne\", name=\"4yne\")\n",
    "protein_ligand_complex = ProteinLigandComplex(components=[pdb_protein, smiles_ligand])"
   ]
  },
  {
   "cell_type": "markdown",
   "metadata": {},
   "source": [
    "Next perform the docking. The current implementation will detect the co-crystallized ligand in 4YNE and perform a hybrid docking. \n",
    "\n",
    "> Note: The OE Spruce loop database is needed for this step. The location is specified by the `loop_db` argument. You can request a copy [here](https://www.eyesopen.com/database-downloads)."
   ]
  },
  {
   "cell_type": "code",
   "execution_count": null,
   "metadata": {},
   "outputs": [],
   "source": [
    "docking_featurizer = OEHybridDockingFeaturizer(loop_db=\"~/.OpenEye/rcsb_spruce.loop_db\")\n",
    "system = docking_featurizer.featurize(protein_ligand_complex)\n",
    "system"
   ]
  },
  {
   "cell_type": "markdown",
   "metadata": {},
   "source": [
    "This docking featurizer is quite general, so it could be applied to any protein family and can be seen as a template for more advanced and protein family specific docking featurizers."
   ]
  },
  {
   "cell_type": "markdown",
   "metadata": {},
   "source": [
    "## OEKLIFSKinaseHybridDockingFeaturizer"
   ]
  },
  {
   "cell_type": "markdown",
   "metadata": {},
   "source": [
    "Next, we will do the same but via the kinase specific `OEKLIFSKinaseHybridDockingFeaturizer`. This featurizer only needs a SMILES and a KLIFS kinase ID as input. It will automatically select pdb structures for generating the complex of interest."
   ]
  },
  {
   "cell_type": "code",
   "execution_count": 4,
   "metadata": {},
   "outputs": [],
   "source": [
    "docking_featurizer = OEKLIFSKinaseHybridDockingFeaturizer(loop_db=\"~/.OpenEye/rcsb_spruce.loop_db\")"
   ]
  },
  {
   "cell_type": "code",
   "execution_count": 5,
   "metadata": {},
   "outputs": [],
   "source": [
    "smiles_ligand = SmilesLigand(smiles='O=C(Nc1cnn2ccc(N3CCC[C@@H]3c3cc(F)ccc3F)nc12)N1CC[C@H](O)C1', name='larotrectinib')\n",
    "base_protein = BaseProtein(name='NTRK1')\n",
    "base_protein.klifs_kinase_id = 480\n",
    "kinase_ligand_complex = ProteinLigandComplex(components=[base_protein, smiles_ligand])"
   ]
  },
  {
   "cell_type": "code",
   "execution_count": 6,
   "metadata": {},
   "outputs": [
    {
     "data": {
      "text/plain": [
       "<ProteinLigandComplex with 2 components (<BaseProtein name=NTRK1>, <SmilesLigand name=larotrectinib>)>"
      ]
     },
     "execution_count": 6,
     "metadata": {},
     "output_type": "execute_result"
    }
   ],
   "source": [
    "system = docking_featurizer.featurize(kinase_ligand_complex)\n",
    "system"
   ]
  }
 ],
 "metadata": {
  "kernelspec": {
   "display_name": "Python 3",
   "language": "python",
   "name": "python3"
  },
  "language_info": {
   "codemirror_mode": {
    "name": "ipython",
    "version": 3
   },
   "file_extension": ".py",
   "mimetype": "text/x-python",
   "name": "python",
   "nbconvert_exporter": "python",
   "pygments_lexer": "ipython3",
   "version": "3.7.8"
  }
 },
 "nbformat": 4,
 "nbformat_minor": 4
}
