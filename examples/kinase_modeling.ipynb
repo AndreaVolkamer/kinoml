{
 "cells": [
  {
   "cell_type": "markdown",
   "metadata": {},
   "source": [
    "# Kinase modeling\n",
    "\n",
    "This notebook explains how KinoML can be used to prepare a structure of interest. The long-term goal is to automatically model different Dunbrack conformations.\n",
    "\n",
    "## Content/Progress\n",
    "\n",
    "1. Prepare a structure from PDB\n",
    "  - [x] Retrieve structure  \n",
    "  - [x] Preparation with OESpruce  \n",
    "    - [x] loop modeling  \n",
    "    - [x] protonation  \n",
    "    - [x] no capping (capping could interfer with MODELLER)  \n",
    "    - [x] workaroud for missing OXT atoms, which are not added in OESpruce 1.1.0\n",
    "    - [x] select design unit based on Iridium  \n",
    "  - [ ] Preparation with MODELLER and MDAnalysis  \n",
    "    - [ ] retrieve Kinase domain sequence from Uniprot with information about termini   \n",
    "    - [ ] cut unnecessary residues  \n",
    "    - [ ] build missing residues  \n",
    "    - [ ] renumbering residues  \n",
    "  - [x] cap termini with OESpruce if not real termini  \n",
    "  - [x] protonation with OESpruce\n",
    "  - [x] write prepared protein and ligand  \n",
    "2. Generate all Dunbrack conformations  \n",
    "  - [ ] Generate/Update dataframe of available templates with associated Dunbrack conformation  \n",
    "  - [ ] Pick template  \n",
    "  - [ ] Model conformation with MODELLER  "
   ]
  },
  {
   "cell_type": "markdown",
   "metadata": {},
   "source": [
    "## 1. Prepare a structure from PDB or file"
   ]
  },
  {
   "cell_type": "markdown",
   "metadata": {},
   "source": [
    "### Fix as much as possible with OESpruce"
   ]
  },
  {
   "cell_type": "code",
   "execution_count": 1,
   "metadata": {},
   "outputs": [],
   "source": [
    "from appdirs import user_cache_dir\n",
    "from kinoml.modeling.OpenEyePreparation import has_ligand, read_molecules, read_electron_density, prepare_complex, prepare_protein, write_molecules\n",
    "from kinoml.utils import download_file"
   ]
  },
  {
   "cell_type": "code",
   "execution_count": 2,
   "metadata": {},
   "outputs": [],
   "source": [
    "# specify pdb and download structure\n",
    "pdb_id = \"4yne\"\n",
    "download_file(f\"https://files.rcsb.org/download/{pdb_id}.pdb\", f\"{user_cache_dir()}/{pdb_id}.pdb\")\n",
    "structure = read_molecules(f\"{user_cache_dir()}/{pdb_id}.pdb\")[0]"
   ]
  },
  {
   "cell_type": "markdown",
   "metadata": {},
   "source": [
    "If a ligand is present, download the electron density map and supply it to the complex preparation function. Model as much missing residues as possible. Do not cap termini, since MODELLER might need to model additional parts."
   ]
  },
  {
   "cell_type": "code",
   "execution_count": 3,
   "metadata": {},
   "outputs": [],
   "source": [
    "if has_ligand(structure):\n",
    "    download_file(f\"https://edmaps.rcsb.org/coefficients/{pdb_id}.mtz\", f\"{user_cache_dir()}/{pdb_id}.mtz\")\n",
    "    electron_density = read_electron_density(f\"{user_cache_dir()}/{pdb_id}.mtz\")\n",
    "    protein, ligand = prepare_complex(structure,\n",
    "                                      electron_density=electron_density,\n",
    "                                      loop_db=\"~/.OpenEye/rcsb_spruce.loop_db\",\n",
    "                                      cap_termini=False)\n",
    "else:\n",
    "    protein = prepare_protein(structure, \n",
    "                              loop_db=\"~/.OpenEye/rcsb_spruce.loop_db\",\n",
    "                              cap_termini=False)"
   ]
  },
  {
   "cell_type": "code",
   "execution_count": 4,
   "metadata": {},
   "outputs": [],
   "source": [
    "# write the prepared protein to do further modeling steps with MODELLER\n",
    "write_molecules([protein], f\"{user_cache_dir()}/{pdb_id}_prep.pdb\")"
   ]
  },
  {
   "cell_type": "markdown",
   "metadata": {},
   "source": [
    "### Preparation with MODELLER and MDAnalysis\n",
    "\n",
    "Build residues that were not added by OESpruce. Renumber residues. Cut Residues that are not part of the kinase domain.\n",
    "\n",
    "TBD"
   ]
  },
  {
   "cell_type": "markdown",
   "metadata": {},
   "source": [
    "### Protonate and cap modeled structure\n",
    "\n",
    "The prepared structure will not have any caps yet. Also, MODELLER does not take care of protonation. So we can run another round of preparation with OESpruce. But this time termini will be capped unless they are biologically relevant.\n",
    "\n",
    "***Would be good to pass the ligand here as well, since protonation can be affected!***"
   ]
  },
  {
   "cell_type": "code",
   "execution_count": 5,
   "metadata": {},
   "outputs": [],
   "source": [
    "# use the prepared structure from the above OESpruce preparation step\n",
    "capped_protein = prepare_protein(protein, real_termini=[1, 793])"
   ]
  },
  {
   "cell_type": "code",
   "execution_count": 6,
   "metadata": {},
   "outputs": [],
   "source": [
    "# write the prepared protein to do further modeling steps with MODELLER\n",
    "write_molecules([capped_protein], f\"{user_cache_dir()}/{pdb_id}_prep_capped.pdb\")"
   ]
  },
  {
   "cell_type": "markdown",
   "metadata": {},
   "source": [
    "## 2. Generate all Dunbrack conformations"
   ]
  },
  {
   "cell_type": "markdown",
   "metadata": {},
   "source": [
    "TBD"
   ]
  }
 ],
 "metadata": {
  "kernelspec": {
   "display_name": "Python 3",
   "language": "python",
   "name": "python3"
  },
  "language_info": {
   "codemirror_mode": {
    "name": "ipython",
    "version": 3
   },
   "file_extension": ".py",
   "mimetype": "text/x-python",
   "name": "python",
   "nbconvert_exporter": "python",
   "pygments_lexer": "ipython3",
   "version": "3.7.8"
  }
 },
 "nbformat": 4,
 "nbformat_minor": 4
}
