{
 "cells": [
  {
   "cell_type": "markdown",
   "metadata": {},
   "source": [
    "# Kinase domain modeling"
   ]
  },
  {
   "cell_type": "markdown",
   "metadata": {},
   "source": [
    "This notebook shows how to generate a complex of a ligand and kinase of interest by providing a smiles and a Uniprot ID."
   ]
  },
  {
   "cell_type": "markdown",
   "metadata": {},
   "source": [
    "## Content\n",
    "\n",
    "1. Select KLIFS structure\n",
    "2. Prepare structure\n",
    "3. Dock ligand"
   ]
  },
  {
   "cell_type": "code",
   "execution_count": 1,
   "metadata": {},
   "outputs": [],
   "source": [
    "%load_ext autoreload\n",
    "%autoreload 2"
   ]
  },
  {
   "cell_type": "markdown",
   "metadata": {},
   "source": [
    "## 1. Select KLIFS structure\n",
    "\n",
    "With the following lines the KLIFS database will be queried for kinases matching the specified uniprot ID."
   ]
  },
  {
   "cell_type": "markdown",
   "metadata": {},
   "source": [
    "### 1.1 Workflow\n",
    "\n",
    "- [x] query KLIFS by uniport ID \n",
    "  - takes quite long, since no direct way for this information\n",
    "- [x] search for orthosteric ligands  \n",
    "- [x] if no orthosteric ligand:  \n",
    "  - [x] return the structure with the best quality\n",
    "- [x] else:  \n",
    "  - [x] retrieve conformations of co-crystalized ligands\n",
    "  - [x] prepare ligand of interest and generate conformations\n",
    "  - [x] score shape overlay of ligand conformations with co-crystalized ligands\n",
    "  - [x] select structures with highest TanimotoCombo of overlay\n",
    "    - acceptable scores are >= best_TanimotoScore - 0.1\n",
    "  - [x] return the structure with the best quality"
   ]
  },
  {
   "cell_type": "markdown",
   "metadata": {},
   "source": [
    "In this example larotrectinib should be docked into NTRK1."
   ]
  },
  {
   "cell_type": "code",
   "execution_count": 2,
   "metadata": {},
   "outputs": [],
   "source": [
    "from kinoml.modeling.OpenEyeModeling import select_structure"
   ]
  },
  {
   "cell_type": "code",
   "execution_count": 3,
   "metadata": {},
   "outputs": [],
   "source": [
    "smiles = \"O=C(Nc1cnn2ccc(N3CCC[C@@H]3c3cc(F)ccc3F)nc12)N1CC[C@H](O)C1\"\n",
    "uniprot_id = \"P04629\""
   ]
  },
  {
   "cell_type": "code",
   "execution_count": 4,
   "metadata": {},
   "outputs": [
    {
     "data": {
      "text/plain": [
       "structure_ID                                                      3620\n",
       "kinase                                                            TRKA\n",
       "species                                                          Human\n",
       "kinase_ID                                                          480\n",
       "pdb                                                               4yne\n",
       "alt                                                                  A\n",
       "chain                                                                A\n",
       "rmsd1                                                            0.834\n",
       "rmsd2                                                            2.203\n",
       "pocket               WELGEGAFGKVFLVAVKALDFQREAELLTMLQQHIVRFFGVLMVFE...\n",
       "resolution                                                        2.02\n",
       "quality_score                                                        8\n",
       "missing_residues                                                     0\n",
       "missing_atoms                                                        0\n",
       "ligand                                                             4EK\n",
       "allosteric_ligand                                                    0\n",
       "DFG                                                                 in\n",
       "aC_helix                                                           out\n",
       "Grich_distance                                                 16.0077\n",
       "Grich_angle                                                    50.7329\n",
       "Grich_rotation                                                  45.262\n",
       "front                                                             True\n",
       "gate                                                             False\n",
       "back                                                             False\n",
       "fp_I                                                              True\n",
       "fp_II                                                            False\n",
       "bp_I_A                                                           False\n",
       "bp_I_B                                                            True\n",
       "bp_II_in                                                         False\n",
       "bp_II_A_in                                                       False\n",
       "bp_II_B_in                                                       False\n",
       "bp_II_out                                                        False\n",
       "bp_II_B                                                          False\n",
       "bp_III                                                           False\n",
       "bp_IV                                                            False\n",
       "bp_V                                                             False\n",
       "Name: 15, dtype: object"
      ]
     },
     "execution_count": 4,
     "metadata": {},
     "output_type": "execute_result"
    }
   ],
   "source": [
    "kinase = select_structure(uniprot_id, smiles)\n",
    "kinase"
   ]
  },
  {
   "cell_type": "markdown",
   "metadata": {},
   "source": [
    "This structure contains a substructure that matches larotrectinib and was also chosen before in a manual selection."
   ]
  },
  {
   "cell_type": "markdown",
   "metadata": {},
   "source": [
    "## 2. Prepare structure\n",
    "\n",
    "With the following lines a kinase structure will be prepared by building missing loops, cropping non kinase domain sequences, mutating back to the wildtype sequence and renumbering of residues."
   ]
  },
  {
   "cell_type": "markdown",
   "metadata": {},
   "source": [
    "### 2.1 Workflow\n",
    "\n",
    "1. Prepare a structure from PDB\n",
    "- [x] retrieve structure    \n",
    "- [] loop modeling\n",
    "  - OESpruce sometimes misses to add hydrogens to backbone nitrogens (workaround)\n",
    "  - sp2 like hybridization of carbon atoms with 4 partners and less that 2 hydrogen atoms \n",
    "  - doesn't properly connect modeled loops with resolved structure (workaround)\n",
    "- [x] protonation  \n",
    "- [x] no capping  (workaroud for missing OXT atoms, which are not added in OESpruce 1.1.0)\n",
    "- [x] select design unit based on Iridium  \n",
    "- [x] receive kinase domain sequence from Uniprot\n",
    "- [x] mutate or delete wrong residues according to Uniprot kinase domain sequence\n",
    "  - needs another protonation step, which adds hydrogen to backbone atoms that were not properly connected (workaround)\n",
    "- [x] renumbering  \n",
    "- [] cap termini with OESpruce if not real termini  \n",
    "  - N terminus has only 1 hydrogen of not capped\n",
    "- [x] write prepared structure"
   ]
  },
  {
   "cell_type": "code",
   "execution_count": 5,
   "metadata": {},
   "outputs": [
    {
     "data": {
      "text/plain": [
       "'4yne'"
      ]
     },
     "execution_count": 5,
     "metadata": {},
     "output_type": "execute_result"
    }
   ],
   "source": [
    "pdb_id = kinase.pdb\n",
    "pdb_id"
   ]
  },
  {
   "cell_type": "code",
   "execution_count": 6,
   "metadata": {},
   "outputs": [],
   "source": [
    "from appdirs import user_cache_dir\n",
    "from Bio import pairwise2\n",
    "from kinoml.core.sequences import KinaseDomainAminoAcidSequence\n",
    "from kinoml.modeling.OpenEyeModeling import has_ligand, read_molecules, read_electron_density, prepare_complex, prepare_protein, write_molecules\n",
    "from kinoml.utils import download_file\n",
    "from openeye import oechem, oespruce"
   ]
  },
  {
   "cell_type": "code",
   "execution_count": 7,
   "metadata": {},
   "outputs": [],
   "source": [
    "# download files\n",
    "download_file(f\"https://files.rcsb.org/download/{pdb_id}.pdb\", f\"{user_cache_dir()}/{pdb_id}.pdb\")\n",
    "structure = read_molecules(f\"{user_cache_dir()}/{pdb_id}.pdb\")[0]\n",
    "download_file(f\"https://edmaps.rcsb.org/coefficients/{pdb_id}.mtz\", f\"{user_cache_dir()}/{pdb_id}.mtz\")\n",
    "electron_density = read_electron_density(f\"{user_cache_dir()}/{pdb_id}.mtz\")"
   ]
  },
  {
   "cell_type": "code",
   "execution_count": 8,
   "metadata": {},
   "outputs": [],
   "source": [
    "# loop building, protonation, no capping at this point\n",
    "protein, ligand = prepare_complex(structure, \n",
    "                                  electron_density=electron_density, \n",
    "                                  loop_db=\"~/.OpenEye/rcsb_spruce.loop_db\",\n",
    "                                  cap_termini=False)"
   ]
  },
  {
   "cell_type": "code",
   "execution_count": 9,
   "metadata": {},
   "outputs": [],
   "source": [
    "write_molecules([protein], f\"{user_cache_dir()}/{pdb_id}_prep.pdb\")"
   ]
  },
  {
   "cell_type": "markdown",
   "metadata": {},
   "source": [
    "Bugs in OESpruce lead to missing hydrogens, flat geometries and not connected loops. With the following code, we can see that the 'N' atoms before the modeled loops have less than three bonds."
   ]
  },
  {
   "cell_type": "code",
   "execution_count": 10,
   "metadata": {},
   "outputs": [],
   "source": [
    "def count_bonds_of_N_and_C(protein):\n",
    "    hv = oechem.OEHierView(protein)\n",
    "    for residue in hv.GetResidues():\n",
    "        resname = residue.GetResidueName()\n",
    "        resid = residue.GetResidueNumber()\n",
    "        if resname not in [\"ACE\", \"NME\"]:  # exclude ACE and NME residues\n",
    "            for atom in residue.GetAtoms():\n",
    "                atomname = atom.GetName().strip()\n",
    "                if atomname in ['N', 'C']:\n",
    "                    bond_number = len(list(atom.GetBonds()))\n",
    "                    if bond_number < 3:  # both atoms should never have less than three bonds\n",
    "                        print(f\"Wrong number of bonds for residue {resname}{resid} atom {atomname}\")"
   ]
  },
  {
   "cell_type": "code",
   "execution_count": 11,
   "metadata": {},
   "outputs": [],
   "source": [
    "count_bonds_of_N_and_C(protein)"
   ]
  },
  {
   "cell_type": "markdown",
   "metadata": {},
   "source": [
    "Interestingly, after saving and reloading the structure, 'C' and 'N' atoms before and after the modeled loop miss a bond."
   ]
  },
  {
   "cell_type": "code",
   "execution_count": 12,
   "metadata": {},
   "outputs": [
    {
     "name": "stdout",
     "output_type": "stream",
     "text": [
      "Wrong number of bonds for residue ASP793 atom C\n"
     ]
    }
   ],
   "source": [
    "protein = read_molecules(f\"{user_cache_dir()}/{pdb_id}_prep.pdb\")[0]\n",
    "count_bonds_of_N_and_C(protein)"
   ]
  },
  {
   "cell_type": "markdown",
   "metadata": {},
   "source": [
    "The mentioned errors lead to wrong structures in the following steps. However, the functions do not fail and might produce good results, once OESpruce is fixed."
   ]
  },
  {
   "cell_type": "markdown",
   "metadata": {},
   "source": [
    "The kinase domain sequence can be retrieved from Uniprot. Also information about the termini and the residue numbers is retrieved and stored."
   ]
  },
  {
   "cell_type": "code",
   "execution_count": 13,
   "metadata": {},
   "outputs": [
    {
     "name": "stdout",
     "output_type": "stream",
     "text": [
      "NTRK1_HUMAN\n",
      "{'uniprot_id': 'P04629', 'begin': 510, 'end': 781, 'true_N_terminus': False, 'true_C_terminus': False}\n",
      "IVLKWELGEGAFGKVFLAECHNLLPEQDKMLVAVKALKEASESARQDFQREAELLTMLQHQHIVRFFGVCTEGRPLLMVFEYMRHGDLNRFLRSHGPDAKLLAGGEDVAPGPLGLGQLLAVASQVAAGMVYLAGLHFVHRDLATRNCLVGQGLVVKIGDFGMSRDIYSTDYYRVGGRTMLPIRWMPPESILYRKFTTESDVWSFGVVLWEIFTYGKQPWYQLSNTEAIDCITQGRELERPRACPPEVYAIMRGCWQREPQQRHSIKDVHARL\n"
     ]
    }
   ],
   "source": [
    "# retrieve \n",
    "kinase_domain_sequence = KinaseDomainAminoAcidSequence.from_uniprot(uniprot_id)\n",
    "print(kinase_domain_sequence.name)\n",
    "print(kinase_domain_sequence.metadata)\n",
    "print(kinase_domain_sequence)"
   ]
  },
  {
   "cell_type": "code",
   "execution_count": 14,
   "metadata": {},
   "outputs": [],
   "source": [
    "from kinoml.modeling.OpenEyeModeling import mutate_structure, renumber_structure, get_sequence"
   ]
  },
  {
   "cell_type": "markdown",
   "metadata": {},
   "source": [
    "In this case we will introduce a mutation to the wild type sequence retrieved from Uniprot, so we can use the `mutate_structure` function, which can mutate residues and will delete all residues that are not covered by the provided sequence."
   ]
  },
  {
   "cell_type": "code",
   "execution_count": 15,
   "metadata": {},
   "outputs": [
    {
     "data": {
      "text/plain": [
       "'IVIKWELGEGAFGKVFLAECHNLLPEQDKMLVAVKALKEASESARQDFQREAELLTMLQHQHIVRFFGVCTEGRPLLMVFEYMRHGDLNRFLRSHGPDAKLLAGGEDVAPGPLGLGQLLAVASQVAAGMVYLAGLHFVHRDLATRNCLVGQGLVVKIGDFGMSRDIYSTDYYRVGGRTMLPIRWMPPESILYRKFTTESDVWSFGVVLWEIFTYGKQPWYQLSNTEAIDCITQGRELERPRACPPEVYAIMRGCWQREPQQRHSIKDVHARL'"
      ]
     },
     "execution_count": 15,
     "metadata": {},
     "output_type": "execute_result"
    }
   ],
   "source": [
    "kinase_domain_sequence_edit = kinase_domain_sequence[:2] + \"I\" + kinase_domain_sequence[3:]\n",
    "kinase_domain_sequence_edit"
   ]
  },
  {
   "cell_type": "code",
   "execution_count": 16,
   "metadata": {},
   "outputs": [],
   "source": [
    "mutated_structure = mutate_structure(protein, kinase_domain_sequence_edit)\n",
    "write_molecules([mutated_structure], f\"{user_cache_dir()}/{pdb_id}_mutated.pdb\")"
   ]
  },
  {
   "cell_type": "markdown",
   "metadata": {},
   "source": [
    "Next the residues can be renumbered to fit the numbering provided by Uniprot. In this case it is actually correct so we will just renumber by starting the residue numbering with 1."
   ]
  },
  {
   "cell_type": "code",
   "execution_count": 17,
   "metadata": {},
   "outputs": [],
   "source": [
    "renumbered_structure = renumber_structure(mutated_structure, list(range(len(get_sequence(mutated_structure)))))\n",
    "write_molecules([renumbered_structure], f\"{user_cache_dir()}/{pdb_id}_renumbered.pdb\")"
   ]
  },
  {
   "cell_type": "markdown",
   "metadata": {},
   "source": [
    "In the last step, one can use the prepare_protein function to add caps where desired. This step currently adds caps to all modeled loops, which is likely due to the bond problem discussed above."
   ]
  },
  {
   "cell_type": "code",
   "execution_count": 19,
   "metadata": {},
   "outputs": [],
   "source": [
    "# since no true termini, termini will be capped, TODO: if N terminus not capped it only has one hydrogen\n",
    "kinase_domain = prepare_protein(renumbered_structure, cap_termini=False)\n",
    "write_molecules([kinase_domain], f\"{user_cache_dir()}/{pdb_id}_kinase_domain.pdb\")"
   ]
  },
  {
   "cell_type": "markdown",
   "metadata": {},
   "source": [
    "## 3. Dock ligand\n",
    "\n",
    "Dock ligand of interest in prepared protein structure. In general works (docking.py)."
   ]
  },
  {
   "cell_type": "code",
   "execution_count": null,
   "metadata": {},
   "outputs": [],
   "source": []
  }
 ],
 "metadata": {
  "kernelspec": {
   "display_name": "Python 3",
   "language": "python",
   "name": "python3"
  },
  "language_info": {
   "codemirror_mode": {
    "name": "ipython",
    "version": 3
   },
   "file_extension": ".py",
   "mimetype": "text/x-python",
   "name": "python",
   "nbconvert_exporter": "python",
   "pygments_lexer": "ipython3",
   "version": "3.7.8"
  }
 },
 "nbformat": 4,
 "nbformat_minor": 4
}
