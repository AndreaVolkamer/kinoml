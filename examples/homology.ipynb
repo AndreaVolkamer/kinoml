{
 "metadata": {
  "language_info": {
   "codemirror_mode": {
    "name": "ipython",
    "version": 3
   },
   "file_extension": ".py",
   "mimetype": "text/x-python",
   "name": "python",
   "nbconvert_exporter": "python",
   "pygments_lexer": "ipython3",
   "version": "3.7.8-final"
  },
  "orig_nbformat": 2,
  "kernelspec": {
   "name": "python37864bitkinomltestconda53eeb1b28d7e44c880a287b87d4ac530",
   "display_name": "Python 3.7.8 64-bit ('kinoml_test': conda)"
  }
 },
 "nbformat": 4,
 "nbformat_minor": 2,
 "cells": [
  {
   "cell_type": "code",
   "execution_count": null,
   "metadata": {},
   "outputs": [],
   "source": []
  },
  {
   "cell_type": "markdown",
   "metadata": {},
   "source": [
    "# Homolgy Modelling"
   ]
  },
  {
   "cell_type": "markdown",
   "metadata": {},
   "source": [
    "This notebook shows examples of how to perform homology modelling in KinoML. "
   ]
  },
  {
   "cell_type": "code",
   "execution_count": 1,
   "metadata": {},
   "outputs": [],
   "source": [
    "# get relevant imports\n",
    "from kinoml.modeling.homology import HomologyModel\n",
    "from kinoml.core.proteins import ProteinStructure"
   ]
  },
  {
   "cell_type": "markdown",
   "metadata": {},
   "source": [
    "To start, we need a template from which to base our homolgy model on."
   ]
  },
  {
   "cell_type": "code",
   "execution_count": 2,
   "metadata": {
    "tags": []
   },
   "outputs": [],
   "source": [
    "\n",
    "hm = HomologyModel(name=\"test\")\n",
    "\n",
    "# If already have our model (e.g. if prepared using Spruce TK etc), so we can load it easily\n",
    "structure = ProteinStructure.from_file(\"/Users/williamglass/Desktop/4yne_protein.pdb\")\n",
    "\n",
    "# If we just want to grab a structure from the PDB we could use the `from_name` attribute in `ProteinStructure`, e.g:\n",
    "structure_pdb = ProteinStructure.from_name('4yne')\n",
    "\n",
    "# Once we have our structure, we need to extract it's sequence. Note, this will often not be the canonical sequence.\n",
    "sequence = structure.sequence"
   ]
  },
  {
   "cell_type": "code",
   "execution_count": null,
   "metadata": {},
   "outputs": [],
   "source": []
  },
  {
   "cell_type": "markdown",
   "metadata": {},
   "source": [
    "We now have our template structure and its sequence. If, for some reason, we didn't have access to the structure but did have access to the sequence we could run a BLAST search to find a PDB structure for our template:"
   ]
  },
  {
   "cell_type": "code",
   "execution_count": 3,
   "metadata": {
    "tags": []
   },
   "outputs": [
    {
     "output_type": "stream",
     "name": "stderr",
     "text": "@> Blast searching NCBI PDB database for \"GSGIR...\"\n@> Blast search completed in 16.0s.\n"
    }
   ],
   "source": [
    "model_template = hm.get_pdb_template(sequence)"
   ]
  },
  {
   "cell_type": "code",
   "execution_count": 4,
   "metadata": {},
   "outputs": [
    {
     "output_type": "execute_result",
     "data": {
      "text/plain": "{'id': '4yne'}"
     },
     "metadata": {},
     "execution_count": 4
    }
   ],
   "source": [
    "model_template.metadata"
   ]
  },
  {
   "cell_type": "markdown",
   "metadata": {},
   "source": [
    "In this toy example our BLAST search using the `4YNE` sequence has, as expected, returend the `4YNE` structure in the PDB as the \"best\" model for us to use as our template.\n",
    "\n",
    "Typically, we will want to search the PDB with a query sequence and find the most relevant PDB structure to use as our template. We can use the `get_uniprot_sequence` attribute to obtain the full canonical sequence from UniProt based on the UniProt ID."
   ]
  },
  {
   "cell_type": "code",
   "execution_count": 3,
   "metadata": {},
   "outputs": [],
   "source": [
    "up_seq = hm.get_uniprot_sequence('P04629')"
   ]
  },
  {
   "cell_type": "code",
   "execution_count": 6,
   "metadata": {},
   "outputs": [
    {
     "output_type": "execute_result",
     "data": {
      "text/plain": "'MLRGGRRGQLGWHSWAAGPGSLLAWLILASAGAAPCPDACCPHGSSGLRCTRDGALDSLHHLPGAENLTELYIENQQHLQHLELRDLRGLGELRNLTIVKSGLRFVAPDAFHFTPRLSRLNLSFNALESLSWKTVQGLSLQELVLSGNPLHCSCALRWLQRWEEEGLGGVPEQKLQCHGQGPLAHMPNASCGVPTLKVQVPNASVDVGDDVLLRCQVEGRGLEQAGWILTELEQSATVMKSGGLPSLGLTLANVTSDLNRKNVTCWAENDVGRAEVSVQVNVSFPASVQLHTAVEMHHWCIPFSVDGQPAPSLRWLFNGSVLNETSFIFTEFLEPAANETVRHGCLRLNQPTHVNNGNYTLLAANPFGQASASIMAAFMDNPFEFNPEDPIPVSFSPVDTNSTSGDPVEKKDETPFGVSVAVGLAVFACLFLSTLLLVLNKCGRRNKFGINRPAVLAPEDGLAMSLHFMTLGGSSLSPTEGKGSGLQGHIIENPQYFSDACVHHIKRRDIVLKWELGEGAFGKVFLAECHNLLPEQDKMLVAVKALKEASESARQDFQREAELLTMLQHQHIVRFFGVCTEGRPLLMVFEYMRHGDLNRFLRSHGPDAKLLAGGEDVAPGPLGLGQLLAVASQVAAGMVYLAGLHFVHRDLATRNCLVGQGLVVKIGDFGMSRDIYSTDYYRVGGRTMLPIRWMPPESILYRKFTTESDVWSFGVVLWEIFTYGKQPWYQLSNTEAIDCITQGRELERPRACPPEVYAIMRGCWQREPQQRHSIKDVHARLQALAQAPPVYLDVLG'"
     },
     "metadata": {},
     "execution_count": 6
    }
   ],
   "source": [
    "up_seq"
   ]
  },
  {
   "cell_type": "markdown",
   "metadata": {},
   "source": [
    "We can then run a blast search using this canonical sequence to search the PDB for the best template model to use. **NOTE: This is still in test phase**"
   ]
  },
  {
   "cell_type": "code",
   "execution_count": null,
   "metadata": {},
   "outputs": [],
   "source": [
    "model_template2 = hm.get_pdb_template(up_seq)"
   ]
  },
  {
   "cell_type": "code",
   "execution_count": null,
   "metadata": {},
   "outputs": [],
   "source": [
    "model_template2.metadata"
   ]
  },
  {
   "cell_type": "code",
   "execution_count": 4,
   "metadata": {
    "tags": []
   },
   "outputs": [
    {
     "output_type": "stream",
     "name": "stdout",
     "text": "\n                         MODELLER 9.24, 2020/04/06, r11614\n\n     PROTEIN STRUCTURE MODELLING BY SATISFACTION OF SPATIAL RESTRAINTS\n\n\n                     Copyright(c) 1989-2020 Andrej Sali\n                            All Rights Reserved\n\n                             Written by A. Sali\n                               with help from\n              B. Webb, M.S. Madhusudhan, M-Y. Shen, G.Q. Dong,\n          M.A. Marti-Renom, N. Eswar, F. Alber, M. Topf, B. Oliva,\n             A. Fiser, R. Sanchez, B. Yerkovich, A. Badretdinov,\n                     F. Melo, J.P. Overington, E. Feyfant\n                 University of California, San Francisco, USA\n                    Rockefeller University, New York, USA\n                      Harvard University, Cambridge, USA\n                   Imperial Cancer Research Fund, London, UK\n              Birkbeck College, University of London, London, UK\n\n\nKind, OS, HostName, Kernel, Processor: 4, Darwin Will-G-TMCS-Mac 19.6.0 x86_64\nDate and time of compilation         : 2020/04/06 12:04:46\nMODELLER executable type             : mac10v4-intel64\nJob starting time (YY/MM/DD HH:MM:SS): 2020/08/19 14:01:17\n\nopenf___224_> Open           $(LIB)/restyp.lib\nopenf___224_> Open           ${MODINSTALL9v24}/modlib/resgrp.lib\nrdresgr_266_> Number of residue groups:        2\nopenf___224_> Open           ${MODINSTALL9v24}/modlib/sstruc.lib\n\nDynamically allocated memory at   amaxlibraries [B,KiB,MiB]:       191566     187.076     0.183\n\nDynamically allocated memory at   amaxlibraries [B,KiB,MiB]:       192094     187.592     0.183\nopenf___224_> Open           ${MODINSTALL9v24}/modlib/resdih.lib\n\nDynamically allocated memory at   amaxlibraries [B,KiB,MiB]:       240694     235.053     0.230\nrdrdih__263_> Number of dihedral angle types         :        9\n              Maximal number of dihedral angle optima:        3\n              Dihedral angle names                   :  Alph Phi Psi Omeg chi1 chi2 chi3 chi4 chi5\nopenf___224_> Open           ${MODINSTALL9v24}/modlib/radii.lib\n\nDynamically allocated memory at   amaxlibraries [B,KiB,MiB]:       253994     248.041     0.242\nopenf___224_> Open           ${MODINSTALL9v24}/modlib/radii14.lib\nopenf___224_> Open           ${MODINSTALL9v24}/modlib/af_mnchdef.lib\nrdwilmo_274_> Mainchain residue conformation classes:  APBLE\nopenf___224_> Open           ${MODINSTALL9v24}/modlib/mnch.lib\nrdclass_257_> Number of classes:        5\nopenf___224_> Open           ${MODINSTALL9v24}/modlib/mnch1.lib\nopenf___224_> Open           ${MODINSTALL9v24}/modlib/mnch2.lib\nopenf___224_> Open           ${MODINSTALL9v24}/modlib/mnch3.lib\nopenf___224_> Open           ${MODINSTALL9v24}/modlib/xs4.mat\nrdrrwgh_268_> Number of residue types:       21\n\nDynamically allocated memory at   amaxalignment [B,KiB,MiB]:       263145     256.978     0.251\n\nDynamically allocated memory at    amaxsequence [B,KiB,MiB]:       264265     258.071     0.252\n\nDynamically allocated memory at   amaxalignment [B,KiB,MiB]:       286806     280.084     0.274\n\nDynamically allocated memory at    amaxsequence [B,KiB,MiB]:       289986     283.189     0.277\nalign___276_> 'align_block' changed to 1.\nopenf___224_> Open           $(LIB)/as1.sim.mat\nrdrrwgh_268_> Number of residue types:       20\n\nPairwise dynamic programming alignment (ALIGN):\n  Residue-residue metric   : $(LIB)/as1.sim.mat\n  Diagonal                 :          100\n  Overhang                 :            0\n  Local alignment          :            F\n  MATRIX_OFFSET (local aln):       0.0000\n  N_SUBOPT                 :            0\n  SUBOPT_OFFSET            :       0.0000\n  Alignment block          :            1\n  Gap introduction penalty :    -900.0000\n  Gap extension penalty    :     -50.0000\n  Break-break bonus        :   10000.0000\n  Length of alignment      :          796\n  Score                    :  217585.0000\n"
    }
   ],
   "source": [
    "hm.get_alignment(structure_pdb, up_seq)"
   ]
  },
  {
   "cell_type": "code",
   "execution_count": 6,
   "metadata": {},
   "outputs": [
    {
     "output_type": "execute_result",
     "data": {
      "text/plain": "'https://eutils.ncbi.nlm.nih.gov/entrez/eutils/efetch.fcgi?db=protein&id={}&rettype=fasta&retmode=text'"
     },
     "metadata": {},
     "execution_count": 6
    }
   ],
   "source": []
  },
  {
   "cell_type": "code",
   "execution_count": null,
   "metadata": {},
   "outputs": [],
   "source": []
  }
 ]
}