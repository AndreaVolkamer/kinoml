{
 "metadata": {
  "language_info": {
   "codemirror_mode": {
    "name": "ipython",
    "version": 3
   },
   "file_extension": ".py",
   "mimetype": "text/x-python",
   "name": "python",
   "nbconvert_exporter": "python",
   "pygments_lexer": "ipython3",
   "version": "3.7.8-final"
  },
  "orig_nbformat": 2,
  "kernelspec": {
   "name": "python37864bitkinomltestconda53eeb1b28d7e44c880a287b87d4ac530",
   "display_name": "Python 3.7.8 64-bit ('kinoml_test': conda)"
  }
 },
 "nbformat": 4,
 "nbformat_minor": 2,
 "cells": [
  {
   "cell_type": "code",
   "execution_count": null,
   "metadata": {},
   "outputs": [],
   "source": []
  },
  {
   "cell_type": "markdown",
   "metadata": {},
   "source": [
    "# Homolgy Modelling"
   ]
  },
  {
   "cell_type": "markdown",
   "metadata": {},
   "source": [
    "This notebook shows examples of how to perform homology modelling in KinoML. "
   ]
  },
  {
   "cell_type": "code",
   "execution_count": 1,
   "metadata": {},
   "outputs": [],
   "source": [
    "# get relevant imports\n",
    "from kinoml.modeling.homology import HomologyModel\n",
    "from kinoml.core.proteins import ProteinStructure"
   ]
  },
  {
   "cell_type": "markdown",
   "metadata": {},
   "source": [
    "To start, we need a template from which to base our homolgy model on."
   ]
  },
  {
   "cell_type": "code",
   "execution_count": 2,
   "metadata": {
    "tags": []
   },
   "outputs": [],
   "source": [
    "\n",
    "hm = HomologyModel()\n",
    "\n",
    "# If already have our model (e.g. if prepared using Spruce TK etc), so we can load it easily\n",
    "structure = ProteinStructure.from_file(\"./4yne_protein.pdb\")\n",
    "\n",
    "# If we just want to grab a structure from the PDB we could use the `from_name` attribute in `ProteinStructure`, e.g:\n",
    "# structure_pdb = ProteinStructure.from_name('4yne')\n",
    "\n",
    "# Once we have our structure, we need to extract it's sequence. Note, this will often not be the canonical sequence.\n",
    "sequence = structure.sequence"
   ]
  },
  {
   "cell_type": "markdown",
   "metadata": {},
   "source": [
    "We now have our template structure and its sequence. If, for some reason, we didn't have access to the structure but did have access to the sequence we could run a BLAST search to find a PDB structure for our template:"
   ]
  },
  {
   "cell_type": "code",
   "execution_count": 3,
   "metadata": {
    "tags": []
   },
   "outputs": [
    {
     "output_type": "stream",
     "name": "stderr",
     "text": "@> Blast searching NCBI PDB database for \"GSGIR...\"\n@> Blast search completed in 29.4s.\n"
    }
   ],
   "source": [
    "model_template = hm.get_pdb_template(sequence)"
   ]
  },
  {
   "cell_type": "code",
   "execution_count": 4,
   "metadata": {},
   "outputs": [
    {
     "output_type": "execute_result",
     "data": {
      "text/plain": "{'id': '4yne'}"
     },
     "metadata": {},
     "execution_count": 4
    }
   ],
   "source": [
    "model_template.metadata"
   ]
  },
  {
   "cell_type": "markdown",
   "metadata": {},
   "source": [
    "In this toy example, our BLAST search using the `4YNE` sequence has, as expected, returend the `4YNE` structure in the PDB as the \"best\" model for us to use as our template."
   ]
  },
  {
   "cell_type": "code",
   "execution_count": null,
   "metadata": {},
   "outputs": [],
   "source": []
  }
 ]
}