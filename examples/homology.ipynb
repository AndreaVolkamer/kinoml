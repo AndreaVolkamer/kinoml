{
 "metadata": {
  "language_info": {
   "codemirror_mode": {
    "name": "ipython",
    "version": 3
   },
   "file_extension": ".py",
   "mimetype": "text/x-python",
   "name": "python",
   "nbconvert_exporter": "python",
   "pygments_lexer": "ipython3",
   "version": "3.7.8-final"
  },
  "orig_nbformat": 2,
  "kernelspec": {
   "name": "python37864bitkinomltestconda53eeb1b28d7e44c880a287b87d4ac530",
   "display_name": "Python 3.7.8 64-bit ('kinoml_test': conda)"
  }
 },
 "nbformat": 4,
 "nbformat_minor": 2,
 "cells": [
  {
   "cell_type": "code",
   "execution_count": null,
   "metadata": {},
   "outputs": [],
   "source": []
  },
  {
   "cell_type": "markdown",
   "metadata": {},
   "source": [
    "# Homology Modelling"
   ]
  },
  {
   "cell_type": "markdown",
   "metadata": {},
   "source": [
    "### Author: William Glass\n",
    "\n",
    "This notebook shows examples of how to perform homology modelling in KinoML. "
   ]
  },
  {
   "cell_type": "code",
   "execution_count": 1,
   "metadata": {},
   "outputs": [],
   "source": [
    "# get relevant imports\n",
    "from kinoml.modeling.homology import HomologyModel\n",
    "from kinoml.core.proteins import ProteinStructure"
   ]
  },
  {
   "cell_type": "markdown",
   "metadata": {},
   "source": [
    "To start, we need a template from which to base our homolgy model on."
   ]
  },
  {
   "cell_type": "code",
   "execution_count": 2,
   "metadata": {
    "tags": []
   },
   "outputs": [],
   "source": [
    "\n",
    "hm = HomologyModel()\n",
    "\n",
    "# If already have our model (e.g. if prepared using Spruce TK etc), so we can load it easily\n",
    "structure = ProteinStructure.from_file(\"/Users/williamglass/Desktop/4yne_protein.pdb\")\n",
    "\n",
    "# If we just want to grab a structure from the PDB we could use the `from_name` attribute in `ProteinStructure`, e.g:\n",
    "structure_pdb = ProteinStructure.from_name('4yne')\n",
    "\n",
    "# Once we have our structure, we need to extract it's sequence. Note, this will often not be the canonical sequence.\n",
    "sequence = structure.sequence"
   ]
  },
  {
   "cell_type": "markdown",
   "metadata": {},
   "source": [
    "We now have our template structure and its sequence. If, for some reason, we didn't have access to the structure but did have access to the sequence we could run a BLAST search to find a PDB structure for our template:"
   ]
  },
  {
   "cell_type": "code",
   "execution_count": 3,
   "metadata": {
    "tags": []
   },
   "outputs": [
    {
     "output_type": "stream",
     "name": "stderr",
     "text": "@> Blast searching NCBI PDB database for \"GSGIR...\"\n@> Blast search completed in 9.2s.\n"
    }
   ],
   "source": [
    "model_template = hm.get_pdb_template(sequence)"
   ]
  },
  {
   "cell_type": "code",
   "execution_count": 4,
   "metadata": {},
   "outputs": [
    {
     "output_type": "execute_result",
     "data": {
      "text/plain": "{'id': '4yne'}"
     },
     "metadata": {},
     "execution_count": 4
    }
   ],
   "source": [
    "model_template.metadata"
   ]
  },
  {
   "cell_type": "markdown",
   "metadata": {},
   "source": [
    "In this toy example our BLAST search using the `4YNE` sequence has, as expected, returend the `4YNE` structure in the PDB as the \"best\" model for us to use as our template.\n",
    "\n",
    "Typically, we will want to search the PDB with a query sequence and find the most relevant PDB structure to use as our template. We can use the `get_uniprot_sequence` attribute to obtain the full canonical sequence from UniProt based on the UniProt ID."
   ]
  },
  {
   "cell_type": "code",
   "execution_count": 5,
   "metadata": {},
   "outputs": [],
   "source": [
    "up_seq = hm.get_uniprot_sequence('P04629')"
   ]
  },
  {
   "cell_type": "code",
   "execution_count": 6,
   "metadata": {},
   "outputs": [
    {
     "output_type": "execute_result",
     "data": {
      "text/plain": "'MLRGGRRGQLGWHSWAAGPGSLLAWLILASAGAAPCPDACCPHGSSGLRCTRDGALDSLHHLPGAENLTELYIENQQHLQHLELRDLRGLGELRNLTIVKSGLRFVAPDAFHFTPRLSRLNLSFNALESLSWKTVQGLSLQELVLSGNPLHCSCALRWLQRWEEEGLGGVPEQKLQCHGQGPLAHMPNASCGVPTLKVQVPNASVDVGDDVLLRCQVEGRGLEQAGWILTELEQSATVMKSGGLPSLGLTLANVTSDLNRKNVTCWAENDVGRAEVSVQVNVSFPASVQLHTAVEMHHWCIPFSVDGQPAPSLRWLFNGSVLNETSFIFTEFLEPAANETVRHGCLRLNQPTHVNNGNYTLLAANPFGQASASIMAAFMDNPFEFNPEDPIPVSFSPVDTNSTSGDPVEKKDETPFGVSVAVGLAVFACLFLSTLLLVLNKCGRRNKFGINRPAVLAPEDGLAMSLHFMTLGGSSLSPTEGKGSGLQGHIIENPQYFSDACVHHIKRRDIVLKWELGEGAFGKVFLAECHNLLPEQDKMLVAVKALKEASESARQDFQREAELLTMLQHQHIVRFFGVCTEGRPLLMVFEYMRHGDLNRFLRSHGPDAKLLAGGEDVAPGPLGLGQLLAVASQVAAGMVYLAGLHFVHRDLATRNCLVGQGLVVKIGDFGMSRDIYSTDYYRVGGRTMLPIRWMPPESILYRKFTTESDVWSFGVVLWEIFTYGKQPWYQLSNTEAIDCITQGRELERPRACPPEVYAIMRGCWQREPQQRHSIKDVHARLQALAQAPPVYLDVLG'"
     },
     "metadata": {},
     "execution_count": 6
    }
   ],
   "source": [
    "up_seq"
   ]
  },
  {
   "cell_type": "markdown",
   "metadata": {},
   "source": [
    "We can then run a blast search using this canonical sequence to search the PDB for the best template model to use."
   ]
  },
  {
   "cell_type": "code",
   "execution_count": 7,
   "metadata": {
    "tags": []
   },
   "outputs": [
    {
     "output_type": "stream",
     "name": "stderr",
     "text": "@> Blast searching NCBI PDB database for \"MLRGG...\"\n@> Blast search completed in 8.3s.\n"
    }
   ],
   "source": [
    "model_template2 = hm.get_pdb_template(up_seq)"
   ]
  },
  {
   "cell_type": "code",
   "execution_count": 8,
   "metadata": {},
   "outputs": [
    {
     "output_type": "execute_result",
     "data": {
      "text/plain": "{'id': '2ifg'}"
     },
     "metadata": {},
     "execution_count": 8
    }
   ],
   "source": [
    "model_template2.metadata"
   ]
  },
  {
   "cell_type": "markdown",
   "metadata": {},
   "source": [
    "**NOTE: `get_pdb_template()` is a WIP** "
   ]
  },
  {
   "cell_type": "markdown",
   "metadata": {},
   "source": [
    "A structure (either from a user made one or one downloaded from the PDB with `ProteinStructure.from_name()`) can be used as template on to which we can build our homology model. \n",
    "\n",
    "We also need a target sequence, this is downloaded from the UniProt server using `HomologyModel.get_uniprot_sequence()` as shown above.\n",
    "\n",
    "This information can be used in `HomologyModel.get_alignment()` to produce an alignment file of the two sequences. Sequences are automatically trimmed if there are large gaps in the template structure (**NOTE: this is still in test phase**)"
   ]
  },
  {
   "cell_type": "code",
   "execution_count": 9,
   "metadata": {
    "tags": []
   },
   "outputs": [
    {
     "output_type": "stream",
     "name": "stdout",
     "text": "\n                         MODELLER 9.24, 2020/04/06, r11614\n\n     PROTEIN STRUCTURE MODELLING BY SATISFACTION OF SPATIAL RESTRAINTS\n\n\n                     Copyright(c) 1989-2020 Andrej Sali\n                            All Rights Reserved\n\n                             Written by A. Sali\n                               with help from\n              B. Webb, M.S. Madhusudhan, M-Y. Shen, G.Q. Dong,\n          M.A. Marti-Renom, N. Eswar, F. Alber, M. Topf, B. Oliva,\n             A. Fiser, R. Sanchez, B. Yerkovich, A. Badretdinov,\n                     F. Melo, J.P. Overington, E. Feyfant\n                 University of California, San Francisco, USA\n                    Rockefeller University, New York, USA\n                      Harvard University, Cambridge, USA\n                   Imperial Cancer Research Fund, London, UK\n              Birkbeck College, University of London, London, UK\n\n\nKind, OS, HostName, Kernel, Processor: 4, Darwin Will-G-TMCS-Mac 19.6.0 x86_64\nDate and time of compilation         : 2020/04/06 12:04:46\nMODELLER executable type             : mac10v4-intel64\nJob starting time (YY/MM/DD HH:MM:SS): 2020/08/21 13:59:47\n\nopenf___224_> Open           $(LIB)/restyp.lib\nopenf___224_> Open           ${MODINSTALL9v24}/modlib/resgrp.lib\nrdresgr_266_> Number of residue groups:        2\nopenf___224_> Open           ${MODINSTALL9v24}/modlib/sstruc.lib\n\nDynamically allocated memory at   amaxlibraries [B,KiB,MiB]:       191566     187.076     0.183\n\nDynamically allocated memory at   amaxlibraries [B,KiB,MiB]:       192094     187.592     0.183\nopenf___224_> Open           ${MODINSTALL9v24}/modlib/resdih.lib\n\nDynamically allocated memory at   amaxlibraries [B,KiB,MiB]:       240694     235.053     0.230\nrdrdih__263_> Number of dihedral angle types         :        9\n              Maximal number of dihedral angle optima:        3\n              Dihedral angle names                   :  Alph Phi Psi Omeg chi1 chi2 chi3 chi4 chi5\nopenf___224_> Open           ${MODINSTALL9v24}/modlib/radii.lib\n\nDynamically allocated memory at   amaxlibraries [B,KiB,MiB]:       253994     248.041     0.242\nopenf___224_> Open           ${MODINSTALL9v24}/modlib/radii14.lib\nopenf___224_> Open           ${MODINSTALL9v24}/modlib/af_mnchdef.lib\nrdwilmo_274_> Mainchain residue conformation classes:  APBLE\nopenf___224_> Open           ${MODINSTALL9v24}/modlib/mnch.lib\nrdclass_257_> Number of classes:        5\nopenf___224_> Open           ${MODINSTALL9v24}/modlib/mnch1.lib\nopenf___224_> Open           ${MODINSTALL9v24}/modlib/mnch2.lib\nopenf___224_> Open           ${MODINSTALL9v24}/modlib/mnch3.lib\nopenf___224_> Open           ${MODINSTALL9v24}/modlib/xs4.mat\nrdrrwgh_268_> Number of residue types:       21\nopenf___224_> Open           /Users/williamglass/Library/Caches/4yne.pdb\n\nDynamically allocated memory at amaxcoordinates [B,KiB,MiB]:       266036     259.801     0.254\n\nDynamically allocated memory at    amaxsequence [B,KiB,MiB]:       266112     259.875     0.254\n\nDynamically allocated memory at amaxcoordinates [B,KiB,MiB]:       266283     260.042     0.254\n\nDynamically allocated memory at amaxcoordinates [B,KiB,MiB]:       267133     260.872     0.255\n\nDynamically allocated memory at amaxcoordinates [B,KiB,MiB]:       268391     262.101     0.256\n\nDynamically allocated memory at amaxcoordinates [B,KiB,MiB]:       270295     263.960     0.258\n\nDynamically allocated memory at    amaxsequence [B,KiB,MiB]:       270335     263.999     0.258\n\nDynamically allocated memory at amaxcoordinates [B,KiB,MiB]:       270425     264.087     0.258\n\nDynamically allocated memory at amaxcoordinates [B,KiB,MiB]:       273281     266.876     0.261\n\nDynamically allocated memory at    amaxsequence [B,KiB,MiB]:       273341     266.935     0.261\n\nDynamically allocated memory at amaxcoordinates [B,KiB,MiB]:       273476     267.066     0.261\n\nDynamically allocated memory at amaxcoordinates [B,KiB,MiB]:       277760     271.250     0.265\n\nDynamically allocated memory at    amaxsequence [B,KiB,MiB]:       277848     271.336     0.265\n\nDynamically allocated memory at amaxcoordinates [B,KiB,MiB]:       278046     271.529     0.265\n\nDynamically allocated memory at amaxcoordinates [B,KiB,MiB]:       284472     277.805     0.271\n\nDynamically allocated memory at    amaxsequence [B,KiB,MiB]:       284604     277.934     0.271\n\nDynamically allocated memory at amaxcoordinates [B,KiB,MiB]:       284901     278.224     0.272\n\nDynamically allocated memory at amaxcoordinates [B,KiB,MiB]:       294523     287.620     0.281\n\nDynamically allocated memory at    amaxsequence [B,KiB,MiB]:       294723     287.815     0.281\n\nDynamically allocated memory at amaxcoordinates [B,KiB,MiB]:       295173     288.255     0.281\n\nDynamically allocated memory at amaxcoordinates [B,KiB,MiB]:       309623     302.366     0.295\n\nDynamically allocated memory at    amaxsequence [B,KiB,MiB]:       309923     302.659     0.296\n\nDynamically allocated memory at amaxcoordinates [B,KiB,MiB]:       310598     303.318     0.296\n\nDynamically allocated memory at amaxcoordinates [B,KiB,MiB]:       332256     324.469     0.317\n\nDynamically allocated memory at    amaxsequence [B,KiB,MiB]:       332704     324.906     0.317\n\nDynamically allocated memory at amaxcoordinates [B,KiB,MiB]:       333712     325.891     0.318\n\nDynamically allocated memory at amaxcoordinates [B,KiB,MiB]:       366216     357.633     0.349\n\nDynamically allocated memory at       amaxmodel [B,KiB,MiB]:       598088     584.070     0.570\nread_mo_297_> Segments, residues, atoms:        1      281     2190\nread_mo_298_> Segment:        1    -4 A   793 A     2190\n\nDynamically allocated memory at   amaxalignment [B,KiB,MiB]:       606208     592.000     0.578\n\nDynamically allocated memory at   amaxstructure [B,KiB,MiB]:       768633     750.618     0.733\n\nDynamically allocated memory at   amaxalignment [B,KiB,MiB]:       791174     772.631     0.755\n\nDynamically allocated memory at    amaxsequence [B,KiB,MiB]:       794354     775.736     0.758\nalign___276_> 'align_block' changed to 1.\nopenf___224_> Open           $(LIB)/as1.sim.mat\nrdrrwgh_268_> Number of residue types:       20\n\nPairwise dynamic programming alignment (ALIGN):\n  Residue-residue metric   : $(LIB)/as1.sim.mat\n  Diagonal                 :          100\n  Overhang                 :            0\n  Local alignment          :            F\n  MATRIX_OFFSET (local aln):       0.0000\n  N_SUBOPT                 :            0\n  SUBOPT_OFFSET            :       0.0000\n  Alignment block          :            1\n  Gap introduction penalty :    -900.0000\n  Gap extension penalty    :     -50.0000\n  Break-break bonus        :   10000.0000\n  Length of alignment      :          796\n  Score                    :  217585.0000\n"
    }
   ],
   "source": [
    "hm.get_alignment(structure_pdb, up_seq, pdb_entry=True)"
   ]
  },
  {
   "cell_type": "markdown",
   "metadata": {},
   "source": [
    "After producing our alignment file we can use the newly generated path to it to run MODELLER and produce a homolgy model. In this example we will generate one model, in a real run we would need a large number that can be scored to produce the \"best\" model for simulations."
   ]
  },
  {
   "cell_type": "code",
   "execution_count": 10,
   "metadata": {
    "tags": [
     "outputPrepend"
    ]
   },
   "outputs": [
    {
     "output_type": "stream",
     "name": "stdout",
     "text": "2.545      1436.5       1.000\n 7 Coulomb point-point electrostatic p:       0       0      0   0.000   0.000      0.0000       1.000\n 8 H-bonding potential                :       0       0      0   0.000   0.000      0.0000       1.000\n 9 Distance restraints 1 (CA-CA)      :       0       0      0   0.000   0.000      0.0000       1.000\n10 Distance restraints 2 (N-O)        :       0       0      0   0.000   0.000      0.0000       1.000\n11 Mainchain Phi dihedral restraints  :       0       0      0   0.000   0.000      0.0000       1.000\n12 Mainchain Psi dihedral restraints  :       0       0      0   0.000   0.000      0.0000       1.000\n13 Mainchain Omega dihedral restraints:      41       4      7   0.230   0.230      84.181       1.000\n14 Sidechain Chi_1 dihedral restraints:      32       0      4   1.321   1.321      23.653       1.000\n15 Sidechain Chi_2 dihedral restraints:      24       0      1   1.534   1.534      13.705       1.000\n16 Sidechain Chi_3 dihedral restraints:      14       0      1   1.724   1.724      13.419       1.000\n17 Sidechain Chi_4 dihedral restraints:       6       0      1   1.298   1.298      7.6120       1.000\n18 Disulfide distance restraints      :       0       0      0   0.000   0.000      0.0000       1.000\n19 Disulfide angle restraints         :       0       0      0   0.000   0.000      0.0000       1.000\n20 Disulfide dihedral angle restraints:       0       0      0   0.000   0.000      0.0000       1.000\n21 Lower bound distance restraints    :       0       0      0   0.000   0.000      0.0000       1.000\n22 Upper bound distance restraints    :       0       0      0   0.000   0.000      0.0000       1.000\n23 Distance restraints 3 (SDCH-MNCH)  :       0       0      0   0.000   0.000      0.0000       1.000\n24 Sidechain Chi_5 dihedral restraints:       0       0      0   0.000   0.000      0.0000       1.000\n25 Phi/Psi pair of dihedral restraints:       0       0      0   0.000   0.000      0.0000       1.000\n26 Distance restraints 4 (SDCH-SDCH)  :       0       0      0   0.000   0.000      0.0000       1.000\n27 Distance restraints 5 (X-Y)        :       0       0      0   0.000   0.000      0.0000       1.000\n28 NMR distance restraints 6 (X-Y)    :       0       0      0   0.000   0.000      0.0000       1.000\n29 NMR distance restraints 7 (X-Y)    :       0       0      0   0.000   0.000      0.0000       1.000\n30 Minimal distance restraints        :       0       0      0   0.000   0.000      0.0000       1.000\n31 Non-bonded restraints              :   13197       0     89   2.749   2.749     -513.93       0.600\n32 Atomic accessibility restraints    :       0       0      0   0.000   0.000      0.0000       1.000\n33 Atomic density restraints          :       0       0      0   0.000   0.000      0.0000       1.000\n34 Absolute position restraints       :       0       0      0   0.000   0.000      0.0000       1.000\n35 Dihedral angle difference restraint:       0       0      0   0.000   0.000      0.0000       1.000\n36 GBSA implicit solvent potential    :       0       0      0   0.000   0.000     -465.49       1.000\n37 EM density fitting potential       :       0       0      0   0.000   0.000      0.0000       1.000\n38 SAXS restraints                    :       0       0      0   0.000   0.000      0.0000       1.000\n39 Symmetry restraints                :       0       0      0   0.000   0.000      0.0000       1.000\n\n\n\nList of the violated restraints:\n   A restraint is violated when the relative difference\n   from the best value (RVIOL) is larger than CUTOFF.\n\n   ICSR   ... index of a restraint in the current set.\n   RESNO  ... residue numbers of the first two atoms.\n   ATM    ... IUPAC atom names of the first two atoms.\n   FEAT   ... the value of the feature in the model.\n   restr  ... the mean of the basis restraint with the smallest\n              difference from the model (local minimum).\n   viol   ... difference from the local minimum.\n   rviol  ... relative difference from the local minimum.\n   RESTR  ... the best value (global minimum).\n   VIOL   ... difference from the best value.\n   RVIOL  ... relative difference from the best value.\n\n\n-------------------------------------------------------------------------------------------------\n\nFeature  1                           : Bond length potential                   \nList of the RVIOL violations larger than   :       4.5000\n\n    #   ICSR  RESNO1/2 ATM1/2   INDATM1/2    FEAT   restr    viol   rviol   RESTR    VIOL   RVIOL\n    1     36  55D  55D CB  CA    433  432    2.30    1.54    0.76   20.90    1.54    0.76   20.90\n    2     37  55D  55D CG  CB    434  433    2.01    1.52    0.49   12.75    1.52    0.49   12.75\n    3     52  56K  57M C   N     446  448    1.48    1.35    0.13    4.70    1.35    0.13    4.70\n    4    140 191R 191R CD  CG   1474 1473    1.78    1.53    0.25    6.81    1.53    0.25    6.81\n    5    141 191R 191R NE  CD   1475 1474    2.86    1.49    1.37   40.70    1.49    1.37   40.70\n    6    211 199Y 199Y C   CA   1552 1543    1.71    1.49    0.22    6.36    1.49    0.22    6.36\n\n-------------------------------------------------------------------------------------------------\n\nFeature  2                           : Bond angle potential                    \nList of the RVIOL violations larger than   :       4.5000\n\n    #   ICSR  RESNO1/2 ATM1/2   INDATM1/2    FEAT   restr    viol   rviol   RESTR    VIOL   RVIOL\n    1    351  55D  55D N   CA    431  432  131.62  113.50   18.12    4.87  113.50   18.12    4.87\n    2    353  55D  55D CA  CB    432  433  138.82  108.00   30.82    7.14  108.00   30.82    7.14\n    3    493 191R 191R CB  CG   1472 1473  132.90  113.60   19.30    4.74  113.60   19.30    4.74\n    4    495 191R 191R CD  NE   1474 1475  151.74  120.00   31.74    8.05  120.00   31.74    8.05\n    5    589 199Y 199Y C   CA   1552 1543  128.75  108.00   20.75    4.81  108.00   20.75    4.81\n\n-------------------------------------------------------------------------------------------------\n\nFeature 13                           : Mainchain Omega dihedral restraints     \nList of the RVIOL violations larger than   :       4.5000\n\n    #   ICSR  RESNO1/2 ATM1/2   INDATM1/2    FEAT   restr    viol   rviol   RESTR    VIOL   RVIOL\n    1   1118  54Q  54Q CA  C     423  429 -150.01  180.00   29.99    6.00  180.00   29.99    6.00\n    2   1120  56K  56K CA  C     440  446 -143.80  180.00   36.20    7.24  180.00   36.20    7.24\n    3   1141 198Y 198Y CA  C    1531 1540 -154.33  180.00   25.67    5.13  180.00   25.67    5.13\n\n\nreport______> Distribution of short non-bonded contacts:\n\n  serious non-bonded atom clash:   120  433   2.191\n  serious non-bonded atom clash:   371  433   2.033\n  serious non-bonded atom clash:   433  448   2.190\n  serious non-bonded atom clash:   433  455   2.023\n  serious non-bonded atom clash:   434  455   2.284\n  serious non-bonded atom clash:  1309 1474   2.124\n  serious non-bonded atom clash:  1309 1475   2.098\n  serious non-bonded atom clash:  1475 1539   2.165\n  serious non-bonded atom clash:  1475 1618   2.294\n\nDISTANCE1:  0.00 2.10 2.20 2.30 2.40 2.50 2.60 2.70 2.80 2.90 3.00 3.10 3.20 3.30 3.40\nDISTANCE2:  2.10 2.20 2.30 2.40 2.50 2.60 2.70 2.80 2.90 3.00 3.10 3.20 3.30 3.40 3.50\nFREQUENCY:     3    4    2    4    5   12   39  103  157  229  260  310  346  415  418\n\n\n<< end of ENERGY.\niupac_m_485_> OD1/2 will be swapped:      144.9692       55    55\niupac_m_486_> OE1/2 will be swapped:      149.3866       66    66\niupac_m_487_> NH1/2 swapped:      131.5003      191   191\niupac_m_485_> OD1/2 will be swapped:      123.9469      192   192\niupac_m_485_> OD1/2 will be swapped:      116.2426      197   197\niupac_m_483_> CD1/2 CE1/2 swapped:      -99.3006      199   199\niupac_m_397W> Atoms were not swapped because of the uncertainty of how to handle the H atom.\niupac_m_485_> OD1/2 will be swapped:      110.1163      311   311\nopenf___224_> Open           ${LIB}/atmcls-mf.lib\n\nDynamically allocated memory at amaxgroup_restr [B,KiB,MiB]:     11688014   11414.076    11.147\n\nDynamically allocated memory at amaxgroup_restr [B,KiB,MiB]:     11688078   11414.139    11.147\n\nDynamically allocated memory at amaxgroup_restr [B,KiB,MiB]:     11688136   11414.195    11.147\n\nDynamically allocated memory at amaxgroup_restr [B,KiB,MiB]:     11688200   11414.258    11.147\n\nDynamically allocated memory at amaxgroup_restr [B,KiB,MiB]:     11688266   11414.322    11.147\n\nDynamically allocated memory at amaxgroup_restr [B,KiB,MiB]:     11688330   11414.385    11.147\n\nDynamically allocated memory at amaxgroup_restr [B,KiB,MiB]:     11688486   11414.537    11.147\n\nDynamically allocated memory at amaxgroup_restr [B,KiB,MiB]:     11688614   11414.662    11.147\n\nDynamically allocated memory at amaxgroup_restr [B,KiB,MiB]:     11688908   11414.949    11.147\n\nDynamically allocated memory at amaxgroup_restr [B,KiB,MiB]:     11689100   11415.137    11.148\n\nDynamically allocated memory at amaxgroup_restr [B,KiB,MiB]:     11689604   11415.629    11.148\n\nDynamically allocated memory at amaxgroup_restr [B,KiB,MiB]:     11689860   11415.879    11.148\n\nDynamically allocated memory at amaxgroup_restr [B,KiB,MiB]:     11690856   11416.852    11.149\n\nDynamically allocated memory at amaxgroup_restr [B,KiB,MiB]:     11691240   11417.227    11.150\n\nDynamically allocated memory at amaxgroup_restr [B,KiB,MiB]:     11691816   11417.789    11.150\n\nDynamically allocated memory at amaxgroup_restr [B,KiB,MiB]:     11693850   11419.775    11.152\n\nDynamically allocated memory at amaxgroup_restr [B,KiB,MiB]:     11694746   11420.650    11.153\n\nDynamically allocated memory at amaxgroup_restr [B,KiB,MiB]:     11699198   11424.998    11.157\n\nDynamically allocated memory at amaxgroup_restr [B,KiB,MiB]:     11700542   11426.311    11.159\n\nDynamically allocated memory at amaxgroup_restr [B,KiB,MiB]:     11710160   11435.703    11.168\n\nDynamically allocated memory at amaxgroup_restr [B,KiB,MiB]:     11712144   11437.641    11.170\n\nDynamically allocated memory at amaxgroup_restr [B,KiB,MiB]:     11732790   11457.803    11.189\n\nDynamically allocated memory at amaxgroup_restr [B,KiB,MiB]:     11735798   11460.740    11.192\n\nDynamically allocated memory at amaxgroup_restr [B,KiB,MiB]:     11781764   11505.629    11.236\n\nDynamically allocated memory at amaxgroup_restr [B,KiB,MiB]:     11786244   11510.004    11.240\n\nDynamically allocated memory at amaxgroup_restr [B,KiB,MiB]:     11887464   11608.852    11.337\nopenf___224_> Open           ${LIB}/dist-mf.lib\n\nDynamically allocated memory at amaxgroup_restr [B,KiB,MiB]:     11887860   11609.238    11.337\n\nDynamically allocated memory at amaxgroup_restr [B,KiB,MiB]:     11888656   11610.016    11.338\n\nDynamically allocated memory at amaxgroup_restr [B,KiB,MiB]:     11889452   11610.793    11.339\n\nDynamically allocated memory at amaxgroup_restr [B,KiB,MiB]:     11890640   11611.953    11.340\n\nDynamically allocated memory at amaxgroup_restr [B,KiB,MiB]:     11891040   11612.344    11.340\n\nDynamically allocated memory at amaxgroup_restr [B,KiB,MiB]:     11891640   11612.930    11.341\n\nDynamically allocated memory at amaxgroup_restr [B,KiB,MiB]:     11892540   11613.809    11.342\n\nDynamically allocated memory at amaxgroup_restr [B,KiB,MiB]:     11893888   11615.125    11.343\n\nDynamically allocated memory at amaxgroup_restr [B,KiB,MiB]:     11894088   11615.320    11.343\n\nDynamically allocated memory at amaxgroup_restr [B,KiB,MiB]:     11896112   11617.297    11.345\n\nDynamically allocated memory at amaxgroup_restr [B,KiB,MiB]:     11896412   11617.590    11.345\n\nDynamically allocated memory at amaxgroup_restr [B,KiB,MiB]:     11899448   11620.555    11.348\n\nDynamically allocated memory at amaxgroup_restr [B,KiB,MiB]:     11899896   11620.992    11.349\n\nDynamically allocated memory at amaxgroup_restr [B,KiB,MiB]:     11904448   11625.438    11.353\n\nDynamically allocated memory at amaxgroup_restr [B,KiB,MiB]:     11905120   11626.094    11.354\n\nDynamically allocated memory at amaxgroup_restr [B,KiB,MiB]:     11911948   11632.762    11.360\n\nDynamically allocated memory at amaxgroup_restr [B,KiB,MiB]:     11912956   11633.746    11.361\n\nDynamically allocated memory at amaxgroup_restr [B,KiB,MiB]:     11923200   11643.750    11.371\n\nDynamically allocated memory at amaxgroup_restr [B,KiB,MiB]:     11923800   11644.336    11.371\n\nDynamically allocated memory at amaxgroup_restr [B,KiB,MiB]:     11924200   11644.727    11.372\n\nDynamically allocated memory at amaxgroup_restr [B,KiB,MiB]:     11925712   11646.203    11.373\n\nDynamically allocated memory at amaxgroup_restr [B,KiB,MiB]:     11941076   11661.207    11.388\n\nDynamically allocated memory at amaxgroup_restr [B,KiB,MiB]:     11941976   11662.086    11.389\n\nDynamically allocated memory at amaxgroup_restr [B,KiB,MiB]:     11942576   11662.672    11.389\n\nDynamically allocated memory at amaxgroup_restr [B,KiB,MiB]:     11944844   11664.887    11.391\n\nDynamically allocated memory at amaxgroup_restr [B,KiB,MiB]:     11967892   11687.395    11.413\n\nDynamically allocated memory at amaxgroup_restr [B,KiB,MiB]:     11969236   11688.707    11.415\n\nDynamically allocated memory at amaxgroup_restr [B,KiB,MiB]:     11970136   11689.586    11.416\n\nDynamically allocated memory at amaxgroup_restr [B,KiB,MiB]:     11973540   11692.910    11.419\n\nDynamically allocated memory at amaxgroup_restr [B,KiB,MiB]:     12008112   11726.672    11.452\n\nDynamically allocated memory at amaxgroup_restr [B,KiB,MiB]:     12010128   11728.641    11.454\n\nDynamically allocated memory at amaxgroup_restr [B,KiB,MiB]:     12011476   11729.957    11.455\n\nDynamically allocated memory at amaxgroup_restr [B,KiB,MiB]:     12016580   11734.941    11.460\n\nDynamically allocated memory at amaxgroup_restr [B,KiB,MiB]:     12068436   11785.582    11.509\n\nDynamically allocated memory at amaxgroup_restr [B,KiB,MiB]:     12071460   11788.535    11.512\n\nDynamically allocated memory at amaxgroup_restr [B,KiB,MiB]:     12073484   11790.512    11.514\n\nDynamically allocated memory at amaxgroup_restr [B,KiB,MiB]:     12081140   11797.988    11.521\n\nDynamically allocated memory at amaxgroup_restr [B,KiB,MiB]:     12158924   11873.949    11.596\n\nDynamically allocated memory at amaxgroup_restr [B,KiB,MiB]:     12163460   11878.379    11.600\n\nDynamically allocated memory at amaxgroup_restr [B,KiB,MiB]:     12166496   11881.344    11.603\n\nDynamically allocated memory at amaxgroup_restr [B,KiB,MiB]:     12177980   11892.559    11.614\n\nDynamically allocated memory at amaxgroup_restr [B,KiB,MiB]:     12294656   12006.500    11.725\n\nDynamically allocated memory at amaxgroup_restr [B,KiB,MiB]:     12301460   12013.145    11.732\n\nDynamically allocated memory at amaxgroup_restr [B,KiB,MiB]:     12306012   12017.590    11.736\n\nDynamically allocated memory at amaxgroup_restr [B,KiB,MiB]:     12323240   12034.414    11.752\n\nDynamically allocated memory at amaxgroup_restr [B,KiB,MiB]:     12498256   12205.328    11.919\n\nDynamically allocated memory at amaxgroup_restr [B,KiB,MiB]:     12508468   12215.301    11.929\n\nDynamically allocated memory at amaxgroup_restr [B,KiB,MiB]:     12515296   12221.969    11.936\n\nDynamically allocated memory at amaxgroup_restr [B,KiB,MiB]:     12541136   12247.203    11.960\n\nDynamically allocated memory at amaxgroup_restr [B,KiB,MiB]:     12803660   12503.574    12.211\n\nDynamically allocated memory at amaxgroup_restr [B,KiB,MiB]:     12818972   12518.527    12.225\n\nDynamically allocated memory at amaxgroup_restr [B,KiB,MiB]:     12829216   12528.531    12.235\n\nDynamically allocated memory at amaxgroup_restr [B,KiB,MiB]:     12867976   12566.383    12.272\n\nDynamically allocated memory at amaxgroup_restr [B,KiB,MiB]:     13261760   12950.938    12.647\n\nDynamically allocated memory at amaxgroup_restr [B,KiB,MiB]:     13284728   12973.367    12.669\n\nDynamically allocated memory at amaxgroup_restr [B,KiB,MiB]:     13300092   12988.371    12.684\n\nDynamically allocated memory at amaxgroup_restr [B,KiB,MiB]:     13358232   13045.148    12.739\n\nDynamically allocated memory at amaxgroup_restr [B,KiB,MiB]:     13948908   13621.980    13.303\n\nDynamically allocated memory at amaxgroup_restr [B,KiB,MiB]:     13983360   13655.625    13.336\n\nDynamically allocated memory at amaxgroup_restr [B,KiB,MiB]:     14006408   13678.133    13.358\n\nDynamically allocated memory at amaxgroup_restr [B,KiB,MiB]:     14093620   13763.301    13.441\n\nDynamically allocated memory at amaxgroup_restr [B,KiB,MiB]:     14979636   14628.551    14.286\n\nDynamically allocated memory at amaxgroup_restr [B,KiB,MiB]:     15031320   14679.023    14.335\n\nDynamically allocated memory at amaxgroup_restr [B,KiB,MiB]:     15065892   14712.785    14.368\n\nDynamically allocated memory at amaxgroup_restr [B,KiB,MiB]:     15196708   14840.535    14.493\n\nDynamically allocated memory at amaxgroup_restr [B,KiB,MiB]:     16525732   16138.410    15.760\nread_pa_232_> parameters    BONDS   ANGLS  DIHEDS IMPROPS    MODE\n                                0       0       0       0   12561\n>> Model assessment by DOPE potential\niatmcls_286W> MODEL atom not classified:  GLY:OXT  GLY\n\nDynamically allocated memory at  amaxrestraints [B,KiB,MiB]:     17058504   16658.695    16.268\n\nDynamically allocated memory at  amaxrestraints [B,KiB,MiB]:     17538504   17127.445    16.726\n\n\n>> ENERGY; Differences between the model's features and restraints:\nNumber of all residues in MODEL                   :      314\nNumber of all, selected real atoms                :     2500     293\nNumber of all, selected pseudo atoms              :        0       0\nNumber of all static, selected restraints         :     1230    1230\nCOVALENT_CYS                                      :        F\nNONBONDED_SEL_ATOMS                               :        1\nNumber of non-bonded pairs (excluding 1-2,1-3,1-4):    74025\nDynamic pairs routine                             : 5, NATM_SEL x NATM double loop\nAtomic shift for contacts update (UPDATE_DYNAMIC) :    0.390\nLENNARD_JONES_SWITCH                              :    6.500   7.500\nCOULOMB_JONES_SWITCH                              :    6.500   7.500\nRESIDUE_SPAN_RANGE                                :        1    9999\nNLOGN_USE                                         :       15\nCONTACT_SHELL                                     :   15.000\nDYNAMIC_PAIRS,_SPHERE,_COULOMB,_LENNARD,_MODELLER :        T       F       F       F       T\nSPHERE_STDV                                       :    0.050\nRADII_FACTOR                                      :    0.820\nCurrent energy                                    :       -2710.1724\n\n\n\n\n<< end of ENERGY.\niatmcls_286W> MODEL atom not classified:  GLY:OXT  GLY\nDOPE score               : -2710.172363\n>> Model assessment by GA341 potential\n\nSurface library          : /Users/williamglass/opt/anaconda3/envs/kinoml_test/lib/modeller-9.24/modlib/surf5.de\nPair library             : /Users/williamglass/opt/anaconda3/envs/kinoml_test/lib/modeller-9.24/modlib/pair9.de\nChain identifier         : _\n% sequence identity      :    99.288002\nSequence length          :          314\nCompactness              :     0.216318\nNative energy (pair)     :  -199.690168\nNative energy (surface)  :   -10.024057\nNative energy (combined) :    -6.020820\nZ score (pair)           :    -7.905286\nZ score (surface)        :    -5.911667\nZ score (combined)       :    -9.677946\nGA341 score              :     1.000000\n\nopenf___224_> Open           target_seq.BL00010001.pdb\nwrpdb___568_> Residues, atoms, selected atoms:      314     2500     2500\n\n>> Summary of successfully produced models:\nFilename                          molpdf\n----------------------------------------\ntarget_seq.B99990001.pdb      2530.34619\n\n\n>> Summary of successfully produced loop models:\nFilename                          molpdf     DOPE score    GA341 score\n----------------------------------------------------------------------\ntarget_seq.BL00010001.pdb     1761.25464    -2710.17236        1.00000\n\n"
    }
   ],
   "source": [
    "hm.get_model(structure_pdb, hm.alipath, num_models=1)"
   ]
  }
 ]
}