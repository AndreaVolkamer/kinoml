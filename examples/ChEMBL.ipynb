{
 "cells": [
  {
   "cell_type": "code",
   "execution_count": 1,
   "metadata": {},
   "outputs": [],
   "source": [
    "%load_ext autoreload"
   ]
  },
  {
   "cell_type": "code",
   "execution_count": 2,
   "metadata": {},
   "outputs": [],
   "source": [
    "%autoreload 2"
   ]
  },
  {
   "cell_type": "code",
   "execution_count": 3,
   "metadata": {},
   "outputs": [],
   "source": [
    "import warnings\n",
    "warnings.simplefilter(\"ignore\") \n",
    "import logging\n",
    "logging.basicConfig(level=logging.ERROR)"
   ]
  },
  {
   "cell_type": "code",
   "execution_count": 41,
   "metadata": {},
   "outputs": [
    {
     "name": "stderr",
     "output_type": "stream",
     "text": [
      "100%|██████████| 5000/5000 [02:15<00:00, 36.81it/s]\n"
     ]
    }
   ],
   "source": [
    "from kinoml.datasets.chembl import ChEMBLDatasetProvider\n",
    "chembl = ChEMBLDatasetProvider.from_source(sample=5000)"
   ]
  },
  {
   "cell_type": "code",
   "execution_count": 42,
   "metadata": {},
   "outputs": [
    {
     "data": {
      "text/plain": [
       "<ChEMBLDatasetProvider with 5000 IC50Measurement measurements and 4920 systems>"
      ]
     },
     "execution_count": 42,
     "metadata": {},
     "output_type": "execute_result"
    }
   ],
   "source": [
    "chembl"
   ]
  },
  {
   "cell_type": "code",
   "execution_count": 43,
   "metadata": {},
   "outputs": [
    {
     "data": {
      "text/html": [
       "<div>\n",
       "<style scoped>\n",
       "    .dataframe tbody tr th:only-of-type {\n",
       "        vertical-align: middle;\n",
       "    }\n",
       "\n",
       "    .dataframe tbody tr th {\n",
       "        vertical-align: top;\n",
       "    }\n",
       "\n",
       "    .dataframe thead th {\n",
       "        text-align: right;\n",
       "    }\n",
       "</style>\n",
       "<table border=\"1\" class=\"dataframe\">\n",
       "  <thead>\n",
       "    <tr style=\"text-align: right;\">\n",
       "      <th></th>\n",
       "      <th>Systems</th>\n",
       "      <th>n_components</th>\n",
       "      <th>Measurement</th>\n",
       "      <th>MeasurementType</th>\n",
       "    </tr>\n",
       "  </thead>\n",
       "  <tbody>\n",
       "    <tr>\n",
       "      <th>0</th>\n",
       "      <td>P00519 &amp; O=C(Nc1ccc(OC(F)(F)Cl)cc1)c1cnc(NCC[C...</td>\n",
       "      <td>2</td>\n",
       "      <td>7.8</td>\n",
       "      <td>IC50Measurement</td>\n",
       "    </tr>\n",
       "    <tr>\n",
       "      <th>1</th>\n",
       "      <td>P15056 &amp; CNC(=O)c1cc(Oc2ccc3[nH]c(Nc4ccc(C(F)(...</td>\n",
       "      <td>2</td>\n",
       "      <td>11.0</td>\n",
       "      <td>IC50Measurement</td>\n",
       "    </tr>\n",
       "    <tr>\n",
       "      <th>2</th>\n",
       "      <td>Q9NZJ5 &amp; Fc1ccc(Nc2c(-c3ncccn3)oc3cnccc23)c2cn...</td>\n",
       "      <td>2</td>\n",
       "      <td>3500.0</td>\n",
       "      <td>IC50Measurement</td>\n",
       "    </tr>\n",
       "    <tr>\n",
       "      <th>3</th>\n",
       "      <td>P15056 &amp; COc1cc(Nc2cncc(Oc3ccc4c(c3)CCC4=O)n2)...</td>\n",
       "      <td>2</td>\n",
       "      <td>70000.0</td>\n",
       "      <td>IC50Measurement</td>\n",
       "    </tr>\n",
       "    <tr>\n",
       "      <th>4</th>\n",
       "      <td>Q15118 &amp; C[C@H]1CCc2cc(-c3nc(Cl)nc4ccsc34)ccc2...</td>\n",
       "      <td>2</td>\n",
       "      <td>198.0</td>\n",
       "      <td>IC50Measurement</td>\n",
       "    </tr>\n",
       "    <tr>\n",
       "      <th>...</th>\n",
       "      <td>...</td>\n",
       "      <td>...</td>\n",
       "      <td>...</td>\n",
       "      <td>...</td>\n",
       "    </tr>\n",
       "    <tr>\n",
       "      <th>4995</th>\n",
       "      <td>P36888 &amp; CC1(C)CNc2cc(NC(=O)c3cccnc3NCc3ccncc3...</td>\n",
       "      <td>2</td>\n",
       "      <td>1000.0</td>\n",
       "      <td>KdMeasurement</td>\n",
       "    </tr>\n",
       "    <tr>\n",
       "      <th>4996</th>\n",
       "      <td>Q13163 &amp; C=CC(=O)Nc1cc2c(Nc3ccc(F)c(Cl)c3)ncnc...</td>\n",
       "      <td>2</td>\n",
       "      <td>60.0</td>\n",
       "      <td>KdMeasurement</td>\n",
       "    </tr>\n",
       "    <tr>\n",
       "      <th>4997</th>\n",
       "      <td>P31152 &amp; CSc1cccc(Nc2ncc3cc(-c4c(Cl)cccc4Cl)c(...</td>\n",
       "      <td>2</td>\n",
       "      <td>1100.0</td>\n",
       "      <td>KdMeasurement</td>\n",
       "    </tr>\n",
       "    <tr>\n",
       "      <th>4998</th>\n",
       "      <td>P29376 &amp; CC(C)NC(=O)[C@H]1CC[C@@H](n2/c(=N/C(=...</td>\n",
       "      <td>2</td>\n",
       "      <td>8.2</td>\n",
       "      <td>KdMeasurement</td>\n",
       "    </tr>\n",
       "    <tr>\n",
       "      <th>4999</th>\n",
       "      <td>Q9Y616 &amp; COc1cc2ncnc(Nc3ccc(F)c(Cl)c3)c2cc1OCC...</td>\n",
       "      <td>2</td>\n",
       "      <td>1500.0</td>\n",
       "      <td>KdMeasurement</td>\n",
       "    </tr>\n",
       "  </tbody>\n",
       "</table>\n",
       "<p>5000 rows × 4 columns</p>\n",
       "</div>"
      ],
      "text/plain": [
       "                                                Systems  n_components  \\\n",
       "0     P00519 & O=C(Nc1ccc(OC(F)(F)Cl)cc1)c1cnc(NCC[C...             2   \n",
       "1     P15056 & CNC(=O)c1cc(Oc2ccc3[nH]c(Nc4ccc(C(F)(...             2   \n",
       "2     Q9NZJ5 & Fc1ccc(Nc2c(-c3ncccn3)oc3cnccc23)c2cn...             2   \n",
       "3     P15056 & COc1cc(Nc2cncc(Oc3ccc4c(c3)CCC4=O)n2)...             2   \n",
       "4     Q15118 & C[C@H]1CCc2cc(-c3nc(Cl)nc4ccsc34)ccc2...             2   \n",
       "...                                                 ...           ...   \n",
       "4995  P36888 & CC1(C)CNc2cc(NC(=O)c3cccnc3NCc3ccncc3...             2   \n",
       "4996  Q13163 & C=CC(=O)Nc1cc2c(Nc3ccc(F)c(Cl)c3)ncnc...             2   \n",
       "4997  P31152 & CSc1cccc(Nc2ncc3cc(-c4c(Cl)cccc4Cl)c(...             2   \n",
       "4998  P29376 & CC(C)NC(=O)[C@H]1CC[C@@H](n2/c(=N/C(=...             2   \n",
       "4999  Q9Y616 & COc1cc2ncnc(Nc3ccc(F)c(Cl)c3)c2cc1OCC...             2   \n",
       "\n",
       "      Measurement  MeasurementType  \n",
       "0             7.8  IC50Measurement  \n",
       "1            11.0  IC50Measurement  \n",
       "2          3500.0  IC50Measurement  \n",
       "3         70000.0  IC50Measurement  \n",
       "4           198.0  IC50Measurement  \n",
       "...           ...              ...  \n",
       "4995       1000.0    KdMeasurement  \n",
       "4996         60.0    KdMeasurement  \n",
       "4997       1100.0    KdMeasurement  \n",
       "4998          8.2    KdMeasurement  \n",
       "4999       1500.0    KdMeasurement  \n",
       "\n",
       "[5000 rows x 4 columns]"
      ]
     },
     "execution_count": 43,
     "metadata": {},
     "output_type": "execute_result"
    }
   ],
   "source": [
    "df = chembl.to_dataframe()\n",
    "df"
   ]
  },
  {
   "cell_type": "code",
   "execution_count": 44,
   "metadata": {},
   "outputs": [
    {
     "name": "stdout",
     "output_type": "stream",
     "text": [
      "Measurements: 5000\n",
      "Systems: 4920\n",
      "Proteins: 301\n",
      "Ligands: 4516\n"
     ]
    }
   ],
   "source": [
    "print(\"Measurements:\", len(chembl.measurements))\n",
    "print(\"Systems:\", len(chembl.systems))\n",
    "print(\"Proteins:\", len(set([s.protein for s in chembl.systems])))\n",
    "print(\"Ligands:\",len(set([s.ligand.name for s in chembl.systems])))"
   ]
  },
  {
   "cell_type": "markdown",
   "metadata": {},
   "source": [
    "Having this many ligands (compared to PKIS2) makes this dataset take much more memory and longer (~10 mins) to initialize!"
   ]
  },
  {
   "cell_type": "code",
   "execution_count": 45,
   "metadata": {},
   "outputs": [],
   "source": [
    "from kinoml.features.ligand import MorganFingerprintFeaturizer\n",
    "from kinoml.features.core import HashFeaturizer\n",
    "from kinoml.features.core import Concatenated\n",
    "\n",
    "morgan_featurizer = MorganFingerprintFeaturizer(nbits=1024, radius=2)\n",
    "hashed_sequence_featurizer = HashFeaturizer((\"protein\", \"sequence\"))\n",
    "concat_featurizers = Concatenated([morgan_featurizer, hashed_sequence_featurizer], axis=0)"
   ]
  },
  {
   "cell_type": "code",
   "execution_count": 46,
   "metadata": {},
   "outputs": [
    {
     "name": "stderr",
     "output_type": "stream",
     "text": [
      "Featurizing systems...: 100%|██████████| 4920/4920 [00:24<00:00, 203.75it/s]"
     ]
    },
    {
     "name": "stdout",
     "output_type": "stream",
     "text": [
      "CPU times: user 24.2 s, sys: 234 ms, total: 24.4 s\n",
      "Wall time: 24.2 s\n"
     ]
    },
    {
     "name": "stderr",
     "output_type": "stream",
     "text": [
      "\n"
     ]
    }
   ],
   "source": [
    "%%time\n",
    "chembl.featurize(concat_featurizers)"
   ]
  },
  {
   "cell_type": "markdown",
   "metadata": {},
   "source": [
    "So far, it's the same... differences arise when measurement type_s_ are considered!"
   ]
  },
  {
   "cell_type": "code",
   "execution_count": 47,
   "metadata": {},
   "outputs": [
    {
     "data": {
      "text/plain": [
       "[<kinoml.datasets.torch_datasets.TorchDataset at 0x7f9044424c50>,\n",
       " <kinoml.datasets.torch_datasets.TorchDataset at 0x7f9044424850>,\n",
       " <kinoml.datasets.torch_datasets.TorchDataset at 0x7f9024518d50>]"
      ]
     },
     "execution_count": 47,
     "metadata": {},
     "output_type": "execute_result"
    }
   ],
   "source": [
    "datasets = chembl.to_pytorch()\n",
    "datasets"
   ]
  },
  {
   "cell_type": "code",
   "execution_count": 48,
   "metadata": {},
   "outputs": [
    {
     "data": {
      "text/plain": [
       "[<function kinoml.core.measurements.IC50Measurement._observation_model_pytorch(values, substrate_conc=1e-06, michaelis_constant=1, inhibitor_conc=1e-06, **kwargs)>,\n",
       " <function kinoml.core.measurements.KiMeasurement._observation_model_pytorch(values, inhibitor_conc=1e-06, **kwargs)>,\n",
       " <function kinoml.core.measurements.KdMeasurement._observation_model_pytorch(values, inhibitor_conc=1e-06, **kwargs)>]"
      ]
     },
     "execution_count": 48,
     "metadata": {},
     "output_type": "execute_result"
    }
   ],
   "source": [
    "observation_models = chembl.observation_models(backend=\"pytorch\")\n",
    "observation_models"
   ]
  },
  {
   "cell_type": "code",
   "execution_count": 49,
   "metadata": {},
   "outputs": [
    {
     "data": {
      "text/plain": [
       "[<torch.utils.data.dataloader.DataLoader at 0x7f9044434d90>,\n",
       " <torch.utils.data.dataloader.DataLoader at 0x7f9044434a50>,\n",
       " <torch.utils.data.dataloader.DataLoader at 0x7f9010ce7710>]"
      ]
     },
     "execution_count": 49,
     "metadata": {},
     "output_type": "execute_result"
    }
   ],
   "source": [
    "# Use DataLoader for minibatches\n",
    "loaders = [dataset.as_dataloader(batch_size=512) for dataset in datasets]\n",
    "loaders"
   ]
  },
  {
   "cell_type": "code",
   "execution_count": 51,
   "metadata": {},
   "outputs": [
    {
     "name": "stdout",
     "output_type": "stream",
     "text": [
      "epoch 0 : loss 9214469804856.0\n",
      "epoch 5 : loss 9214469789680.0\n",
      "epoch 10 : loss 9214458851884.0\n",
      "epoch 15 : loss 9214317160940.0\n",
      "epoch 20 : loss 9214415900048.0\n",
      "epoch 25 : loss 9214434641688.0\n",
      "epoch 30 : loss 9214424554296.0\n",
      "epoch 35 : loss 9214306476340.0\n",
      "epoch 40 : loss 9214453552688.0\n",
      "epoch 45 : loss 9214431674332.0\n",
      "epoch 50 : loss 9214100963544.0\n",
      "epoch 55 : loss 9213855979568.0\n",
      "epoch 60 : loss 9213615402148.0\n",
      "epoch 65 : loss 9213388358108.0\n",
      "epoch 70 : loss 9214343776396.0\n",
      "epoch 75 : loss 9213184039960.0\n",
      "epoch 80 : loss 9213436373308.0\n",
      "epoch 85 : loss 9214313355040.0\n",
      "epoch 90 : loss 9214431227568.0\n",
      "epoch 95 : loss 9214413024500.0\n",
      "Done!\n"
     ]
    }
   ],
   "source": [
    "import torch\n",
    "from kinoml.ml.models import NeuralNetworkRegression\n",
    "\n",
    "model = NeuralNetworkRegression(input_size=datasets[0].systems[0].shape[0])\n",
    "optimizer = torch.optim.Adam(model.parameters(), lr=0.001)\n",
    "loss_function = torch.nn.MSELoss() # Mean squared error\n",
    "\n",
    "nb_epoch = 100\n",
    "loss_timeseries = []\n",
    "for epoch in range(nb_epoch):\n",
    "    cumulative_loss = 0\n",
    "    for loader, obs_model in zip(loaders, observation_models):\n",
    "        for x, y in loader:\n",
    "            # Clear gradients\n",
    "            optimizer.zero_grad()\n",
    "            # Obtain model prediction given model input\n",
    "            delta_g = model(x)\n",
    "\n",
    "            # with observation model\n",
    "            prediction = obs_model(delta_g)\n",
    "            loss = loss_function(prediction, y)\n",
    "            \n",
    "            # Obtain loss for the predicted output\n",
    "            cumulative_loss += loss.item()\n",
    "\n",
    "            # Gradients w.r.t. parameters\n",
    "            loss.backward()\n",
    "\n",
    "            # Optimizer\n",
    "            optimizer.step()\n",
    "    loss_timeseries.append(cumulative_loss)\n",
    "    if epoch % 5 == 0:\n",
    "        print(f\"epoch {epoch} : loss {loss_timeseries[-1]}\")\n",
    "print(\"Done!\")"
   ]
  }
 ],
 "metadata": {
  "kernelspec": {
   "display_name": "Python 3",
   "language": "python",
   "name": "python3"
  },
  "language_info": {
   "codemirror_mode": {
    "name": "ipython",
    "version": 3
   },
   "file_extension": ".py",
   "mimetype": "text/x-python",
   "name": "python",
   "nbconvert_exporter": "python",
   "pygments_lexer": "ipython3",
   "version": "3.7.6"
  }
 },
 "nbformat": 4,
 "nbformat_minor": 4
}
