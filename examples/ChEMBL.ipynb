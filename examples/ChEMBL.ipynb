{
 "cells": [
  {
   "cell_type": "code",
   "execution_count": 1,
   "metadata": {},
   "outputs": [],
   "source": [
    "%load_ext autoreload"
   ]
  },
  {
   "cell_type": "code",
   "execution_count": 2,
   "metadata": {},
   "outputs": [],
   "source": [
    "%autoreload 2"
   ]
  },
  {
   "cell_type": "code",
   "execution_count": 3,
   "metadata": {},
   "outputs": [],
   "source": [
    "import warnings\n",
    "warnings.simplefilter(\"ignore\") \n",
    "import logging\n",
    "logging.basicConfig(level=logging.ERROR)"
   ]
  },
  {
   "cell_type": "code",
   "execution_count": 4,
   "metadata": {},
   "outputs": [
    {
     "name": "stderr",
     "output_type": "stream",
     "text": [
      "RDKit WARNING: [13:02:39] Enabling RDKit 2019.09.2 jupyter extensions\n",
      "100%|██████████| 20000/20000 [00:00<00:00, 28127.34it/s]\n"
     ]
    }
   ],
   "source": [
    "from kinoml.datasets.chembl import ChEMBLDatasetProvider\n",
    "chembl = ChEMBLDatasetProvider.from_source(sample=20000)"
   ]
  },
  {
   "cell_type": "code",
   "execution_count": 5,
   "metadata": {},
   "outputs": [
    {
     "data": {
      "text/plain": [
       "<ChEMBLDatasetProvider with 20000 IC50Measurement measurements and 19221 systems>"
      ]
     },
     "execution_count": 5,
     "metadata": {},
     "output_type": "execute_result"
    }
   ],
   "source": [
    "chembl"
   ]
  },
  {
   "cell_type": "code",
   "execution_count": 6,
   "metadata": {},
   "outputs": [
    {
     "data": {
      "text/html": [
       "<div>\n",
       "<style scoped>\n",
       "    .dataframe tbody tr th:only-of-type {\n",
       "        vertical-align: middle;\n",
       "    }\n",
       "\n",
       "    .dataframe tbody tr th {\n",
       "        vertical-align: top;\n",
       "    }\n",
       "\n",
       "    .dataframe thead th {\n",
       "        text-align: right;\n",
       "    }\n",
       "</style>\n",
       "<table border=\"1\" class=\"dataframe\">\n",
       "  <thead>\n",
       "    <tr style=\"text-align: right;\">\n",
       "      <th></th>\n",
       "      <th>Systems</th>\n",
       "      <th>n_components</th>\n",
       "      <th>Measurement</th>\n",
       "      <th>MeasurementType</th>\n",
       "    </tr>\n",
       "  </thead>\n",
       "  <tbody>\n",
       "    <tr>\n",
       "      <th>0</th>\n",
       "      <td>P22607 &amp; COc1cc(OC)c(Cl)c(N2Cc3cnc(Nc4cccc(C)c...</td>\n",
       "      <td>2</td>\n",
       "      <td>7.12</td>\n",
       "      <td>IC50Measurement</td>\n",
       "    </tr>\n",
       "    <tr>\n",
       "      <th>1</th>\n",
       "      <td>P00533 &amp; COCCn1c(=O)oc2cc3ncnc(Nc4ccc(OC)c(OC)...</td>\n",
       "      <td>2</td>\n",
       "      <td>5500.00</td>\n",
       "      <td>IC50Measurement</td>\n",
       "    </tr>\n",
       "    <tr>\n",
       "      <th>2</th>\n",
       "      <td>P07949 &amp; Cc1cc(CCN(C)C)ccc1Nc1nccc(-c2c[nH]c3n...</td>\n",
       "      <td>2</td>\n",
       "      <td>1117.00</td>\n",
       "      <td>IC50Measurement</td>\n",
       "    </tr>\n",
       "    <tr>\n",
       "      <th>3</th>\n",
       "      <td>P43250 &amp; Cc1ccc(-c2nnc(SCC(=O)O)[nH]2)c(O)c1</td>\n",
       "      <td>2</td>\n",
       "      <td>6880.00</td>\n",
       "      <td>IC50Measurement</td>\n",
       "    </tr>\n",
       "    <tr>\n",
       "      <th>4</th>\n",
       "      <td>O14965 &amp; O=Nc1c(-c2c(O)[nH]c3c(F)cccc23)[nH]c2...</td>\n",
       "      <td>2</td>\n",
       "      <td>2000.00</td>\n",
       "      <td>IC50Measurement</td>\n",
       "    </tr>\n",
       "    <tr>\n",
       "      <th>...</th>\n",
       "      <td>...</td>\n",
       "      <td>...</td>\n",
       "      <td>...</td>\n",
       "      <td>...</td>\n",
       "    </tr>\n",
       "    <tr>\n",
       "      <th>19995</th>\n",
       "      <td>O43283 &amp; C[C@]12O[C@H](C[C@]1(O)CO)n1c3ccccc3c...</td>\n",
       "      <td>2</td>\n",
       "      <td>340.00</td>\n",
       "      <td>KdMeasurement</td>\n",
       "    </tr>\n",
       "    <tr>\n",
       "      <th>19996</th>\n",
       "      <td>Q08345 &amp; CCN(CC)CCNC(=O)c1c(C)[nH]c(/C=C2\\C(=O...</td>\n",
       "      <td>2</td>\n",
       "      <td>2000.00</td>\n",
       "      <td>KdMeasurement</td>\n",
       "    </tr>\n",
       "    <tr>\n",
       "      <th>19997</th>\n",
       "      <td>P09619 &amp; COCCOc1cc2ncnc(N3CCN(c4ncc(Cc5ccccc5)...</td>\n",
       "      <td>2</td>\n",
       "      <td>8.00</td>\n",
       "      <td>KdMeasurement</td>\n",
       "    </tr>\n",
       "    <tr>\n",
       "      <th>19998</th>\n",
       "      <td>P23458-P23458 &amp; CCN(CC)CCNC(=O)c1c(C)[nH]c(/C=...</td>\n",
       "      <td>2</td>\n",
       "      <td>6000.00</td>\n",
       "      <td>KdMeasurement</td>\n",
       "    </tr>\n",
       "    <tr>\n",
       "      <th>19999</th>\n",
       "      <td>P49336 &amp; COCCNC(=O)c1ccc(Oc2sc(C(N)=O)c3c2-c2s...</td>\n",
       "      <td>2</td>\n",
       "      <td>46.00</td>\n",
       "      <td>KdMeasurement</td>\n",
       "    </tr>\n",
       "  </tbody>\n",
       "</table>\n",
       "<p>20000 rows × 4 columns</p>\n",
       "</div>"
      ],
      "text/plain": [
       "                                                 Systems  n_components  \\\n",
       "0      P22607 & COc1cc(OC)c(Cl)c(N2Cc3cnc(Nc4cccc(C)c...             2   \n",
       "1      P00533 & COCCn1c(=O)oc2cc3ncnc(Nc4ccc(OC)c(OC)...             2   \n",
       "2      P07949 & Cc1cc(CCN(C)C)ccc1Nc1nccc(-c2c[nH]c3n...             2   \n",
       "3           P43250 & Cc1ccc(-c2nnc(SCC(=O)O)[nH]2)c(O)c1             2   \n",
       "4      O14965 & O=Nc1c(-c2c(O)[nH]c3c(F)cccc23)[nH]c2...             2   \n",
       "...                                                  ...           ...   \n",
       "19995  O43283 & C[C@]12O[C@H](C[C@]1(O)CO)n1c3ccccc3c...             2   \n",
       "19996  Q08345 & CCN(CC)CCNC(=O)c1c(C)[nH]c(/C=C2\\C(=O...             2   \n",
       "19997  P09619 & COCCOc1cc2ncnc(N3CCN(c4ncc(Cc5ccccc5)...             2   \n",
       "19998  P23458-P23458 & CCN(CC)CCNC(=O)c1c(C)[nH]c(/C=...             2   \n",
       "19999  P49336 & COCCNC(=O)c1ccc(Oc2sc(C(N)=O)c3c2-c2s...             2   \n",
       "\n",
       "       Measurement  MeasurementType  \n",
       "0             7.12  IC50Measurement  \n",
       "1          5500.00  IC50Measurement  \n",
       "2          1117.00  IC50Measurement  \n",
       "3          6880.00  IC50Measurement  \n",
       "4          2000.00  IC50Measurement  \n",
       "...            ...              ...  \n",
       "19995       340.00    KdMeasurement  \n",
       "19996      2000.00    KdMeasurement  \n",
       "19997         8.00    KdMeasurement  \n",
       "19998      6000.00    KdMeasurement  \n",
       "19999        46.00    KdMeasurement  \n",
       "\n",
       "[20000 rows x 4 columns]"
      ]
     },
     "execution_count": 6,
     "metadata": {},
     "output_type": "execute_result"
    }
   ],
   "source": [
    "df = chembl.to_dataframe()\n",
    "df"
   ]
  },
  {
   "cell_type": "code",
   "execution_count": 7,
   "metadata": {},
   "outputs": [
    {
     "name": "stdout",
     "output_type": "stream",
     "text": [
      "Measurements: 20000\n",
      "Systems: 19221\n",
      "Proteins: 389\n",
      "Ligands: 16592\n"
     ]
    }
   ],
   "source": [
    "print(\"Measurements:\", len(chembl.measurements))\n",
    "print(\"Systems:\", len(chembl.systems))\n",
    "print(\"Proteins:\", len(set([s.protein for s in chembl.systems])))\n",
    "print(\"Ligands:\",len(set([s.ligand.name for s in chembl.systems])))"
   ]
  },
  {
   "cell_type": "markdown",
   "metadata": {},
   "source": [
    "Having this many ligands (compared to PKIS2) makes this dataset take much more memory and longer (~10 mins) to initialize!"
   ]
  },
  {
   "cell_type": "code",
   "execution_count": 8,
   "metadata": {},
   "outputs": [],
   "source": [
    "from kinoml.features.ligand import SmilesToLigandFeaturizer, MorganFingerprintFeaturizer\n",
    "from kinoml.features.core import HashFeaturizer, Concatenated, Pipeline\n",
    "\n",
    "morgan_featurizer = Pipeline([SmilesToLigandFeaturizer(), MorganFingerprintFeaturizer(nbits=1024, radius=2)])\n",
    "hashed_sequence_featurizer = HashFeaturizer((\"protein\", \"sequence\"))\n",
    "concat_featurizers = Concatenated([morgan_featurizer, hashed_sequence_featurizer], axis=0)"
   ]
  },
  {
   "cell_type": "markdown",
   "metadata": {},
   "source": [
    "You can prefeaturize everything before the loop with this cell:"
   ]
  },
  {
   "cell_type": "code",
   "execution_count": 9,
   "metadata": {},
   "outputs": [],
   "source": [
    "# %%time\n",
    "# chembl.featurize(concat_featurizers)"
   ]
  },
  {
   "cell_type": "markdown",
   "metadata": {},
   "source": [
    "Or delay the featurization until the systems are needed by passing the featurizer to the `to_pytorch` constructor. We will use this strategy!"
   ]
  },
  {
   "cell_type": "code",
   "execution_count": 10,
   "metadata": {},
   "outputs": [
    {
     "data": {
      "text/plain": [
       "[<kinoml.datasets.torch_datasets.TorchDataset at 0x7fc9321fcfd0>,\n",
       " <kinoml.datasets.torch_datasets.TorchDataset at 0x7fc9321fc3d0>,\n",
       " <kinoml.datasets.torch_datasets.TorchDataset at 0x7fc932587110>]"
      ]
     },
     "execution_count": 10,
     "metadata": {},
     "output_type": "execute_result"
    }
   ],
   "source": [
    "datasets = chembl.to_pytorch(featurizer=concat_featurizers)\n",
    "datasets"
   ]
  },
  {
   "cell_type": "code",
   "execution_count": 11,
   "metadata": {},
   "outputs": [
    {
     "data": {
      "text/plain": [
       "[<function kinoml.core.measurements.IC50Measurement._observation_model_pytorch(values, substrate_conc=1e-06, michaelis_constant=1, inhibitor_conc=1e-06, **kwargs)>,\n",
       " <function kinoml.core.measurements.KiMeasurement._observation_model_pytorch(values, inhibitor_conc=1e-06, **kwargs)>,\n",
       " <function kinoml.core.measurements.KdMeasurement._observation_model_pytorch(values, inhibitor_conc=1e-06, **kwargs)>]"
      ]
     },
     "execution_count": 11,
     "metadata": {},
     "output_type": "execute_result"
    }
   ],
   "source": [
    "observation_models = chembl.observation_models(backend=\"pytorch\")\n",
    "observation_models"
   ]
  },
  {
   "cell_type": "code",
   "execution_count": null,
   "metadata": {},
   "outputs": [],
   "source": [
    "import torch\n",
    "from kinoml.ml.torch_models import NeuralNetworkRegression\n",
    "from tqdm.auto import trange, tqdm\n",
    "\n",
    "# precompute input size\n",
    "input_size = datasets[0].estimate_input_size()\n",
    "model = NeuralNetworkRegression(input_size=input_size[0])\n",
    "optimizer = torch.optim.Adam(model.parameters(), lr=0.001)\n",
    "loss_function = torch.nn.MSELoss() # Mean squared error\n",
    "\n",
    "# Use DataLoader for minibatches\n",
    "datasets = chembl.to_pytorch(featurizer=concat_featurizers)\n",
    "loaders = [dataset.as_dataloader(batch_size=512) for dataset in datasets]\n",
    "loaders\n",
    "\n",
    "nb_epoch = 100\n",
    "loss_timeseries = []\n",
    "for epoch in trange(nb_epoch, desc=\"Epochs\"):\n",
    "    cumulative_loss = torch.zeros(1, dtype=torch.float64)\n",
    "    for loader in loaders:\n",
    "        for x, y in tqdm(loader, desc=f\"Batches for {loader.dataset.observation_model.__qualname__.split('.')[0]}\", leave=False):\n",
    "            # Clear gradients\n",
    "            optimizer.zero_grad()\n",
    "            # Obtain model prediction given model input\n",
    "            delta_g = model(x)\n",
    "\n",
    "            # with observation model\n",
    "            prediction = loader.dataset.observation_model(delta_g)\n",
    "            loss = loss_function(prediction, y)\n",
    "\n",
    "            # Obtain loss for the predicted output\n",
    "            cumulative_loss[0] += loss.item()\n",
    "\n",
    "            # Gradients w.r.t. parameters\n",
    "            loss.backward()\n",
    "\n",
    "            # Optimizer\n",
    "            optimizer.step()\n",
    "    loss_timeseries.append(cumulative_loss[0])\n",
    "    if epoch % 5 == 0:\n",
    "        print(f\"epoch {epoch} : loss {loss_timeseries[-1]:.4E}\")\n",
    "print(\"Done!\")"
   ]
  }
 ],
 "metadata": {
  "kernelspec": {
   "display_name": "Python 3",
   "language": "python",
   "name": "python3"
  },
  "language_info": {
   "codemirror_mode": {
    "name": "ipython",
    "version": 3
   },
   "file_extension": ".py",
   "mimetype": "text/x-python",
   "name": "python",
   "nbconvert_exporter": "python",
   "pygments_lexer": "ipython3",
   "version": "3.7.6"
  }
 },
 "nbformat": 4,
 "nbformat_minor": 4
}
