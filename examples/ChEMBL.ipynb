{
 "cells": [
  {
   "cell_type": "code",
   "execution_count": 1,
   "metadata": {},
   "outputs": [],
   "source": [
    "%load_ext autoreload"
   ]
  },
  {
   "cell_type": "code",
   "execution_count": 2,
   "metadata": {},
   "outputs": [],
   "source": [
    "%autoreload 2"
   ]
  },
  {
   "cell_type": "code",
   "execution_count": 3,
   "metadata": {},
   "outputs": [],
   "source": [
    "import warnings\n",
    "warnings.simplefilter(\"ignore\") \n",
    "import logging\n",
    "logging.basicConfig(level=logging.ERROR)"
   ]
  },
  {
   "cell_type": "code",
   "execution_count": 94,
   "metadata": {},
   "outputs": [
    {
     "data": {
      "application/vnd.jupyter.widget-view+json": {
       "model_id": "4b26ae9018574d00a10b9ae57831a309",
       "version_major": 2,
       "version_minor": 0
      },
      "text/plain": [
       "HBox(children=(FloatProgress(value=0.0, max=203380.0), HTML(value='')))"
      ]
     },
     "metadata": {},
     "output_type": "display_data"
    },
    {
     "name": "stdout",
     "output_type": "stream",
     "text": [
      "\n"
     ]
    }
   ],
   "source": [
    "from kinoml.datasets.chembl import ChEMBLDatasetProvider\n",
    "chembl = ChEMBLDatasetProvider.from_source()"
   ]
  },
  {
   "cell_type": "code",
   "execution_count": 62,
   "metadata": {},
   "outputs": [
    {
     "data": {
      "text/plain": [
       "<ChEMBLDatasetProvider with 203380 pIC50Measurement measurements and 162584 systems>"
      ]
     },
     "execution_count": 62,
     "metadata": {},
     "output_type": "execute_result"
    }
   ],
   "source": [
    "chembl"
   ]
  },
  {
   "cell_type": "code",
   "execution_count": 63,
   "metadata": {},
   "outputs": [
    {
     "data": {
      "text/html": [
       "<div>\n",
       "<style scoped>\n",
       "    .dataframe tbody tr th:only-of-type {\n",
       "        vertical-align: middle;\n",
       "    }\n",
       "\n",
       "    .dataframe tbody tr th {\n",
       "        vertical-align: top;\n",
       "    }\n",
       "\n",
       "    .dataframe thead th {\n",
       "        text-align: right;\n",
       "    }\n",
       "</style>\n",
       "<table border=\"1\" class=\"dataframe\">\n",
       "  <thead>\n",
       "    <tr style=\"text-align: right;\">\n",
       "      <th></th>\n",
       "      <th>Systems</th>\n",
       "      <th>n_components</th>\n",
       "      <th>Measurement</th>\n",
       "      <th>MeasurementType</th>\n",
       "    </tr>\n",
       "  </thead>\n",
       "  <tbody>\n",
       "    <tr>\n",
       "      <th>0</th>\n",
       "      <td>P00533 &amp; Cc1cc(C)c(/C=C2\\C(=O)Nc3ncnc(Nc4ccc(F...</td>\n",
       "      <td>2</td>\n",
       "      <td>7.387216</td>\n",
       "      <td>pIC50Measurement</td>\n",
       "    </tr>\n",
       "    <tr>\n",
       "      <th>1</th>\n",
       "      <td>P35968 &amp; Cc1cc(C)c(/C=C2\\C(=O)Nc3ncnc(Nc4ccc(F...</td>\n",
       "      <td>2</td>\n",
       "      <td>4.782516</td>\n",
       "      <td>pIC50Measurement</td>\n",
       "    </tr>\n",
       "    <tr>\n",
       "      <th>2</th>\n",
       "      <td>P00533 &amp; Cc1cc(C(=O)N2CCOCC2)[nH]c1/C=C1\\C(=O)...</td>\n",
       "      <td>2</td>\n",
       "      <td>6.769551</td>\n",
       "      <td>pIC50Measurement</td>\n",
       "    </tr>\n",
       "    <tr>\n",
       "      <th>3</th>\n",
       "      <td>P06239 &amp; Nc1ncnc2c1c(-c1cccc(Oc3ccccc3)c1)cn2C...</td>\n",
       "      <td>2</td>\n",
       "      <td>6.853872</td>\n",
       "      <td>pIC50Measurement</td>\n",
       "    </tr>\n",
       "    <tr>\n",
       "      <th>4</th>\n",
       "      <td>P06239 &amp; Nc1ncnc2c1c(-c1cccc(Oc3ccccc3)c1)cn2C...</td>\n",
       "      <td>2</td>\n",
       "      <td>5.928118</td>\n",
       "      <td>pIC50Measurement</td>\n",
       "    </tr>\n",
       "    <tr>\n",
       "      <th>...</th>\n",
       "      <td>...</td>\n",
       "      <td>...</td>\n",
       "      <td>...</td>\n",
       "      <td>...</td>\n",
       "    </tr>\n",
       "    <tr>\n",
       "      <th>203375</th>\n",
       "      <td>P42345 &amp; CC(C)n1nc(-c2cc3cc(O)ccc3[nH]2)c2c(N)...</td>\n",
       "      <td>2</td>\n",
       "      <td>8.522879</td>\n",
       "      <td>pKdMeasurement</td>\n",
       "    </tr>\n",
       "    <tr>\n",
       "      <th>203376</th>\n",
       "      <td>P42345 &amp; CO[C@H]1CC[C@H](N2C(=O)CNc3ncc(-c4ccc...</td>\n",
       "      <td>2</td>\n",
       "      <td>7.552842</td>\n",
       "      <td>pKdMeasurement</td>\n",
       "    </tr>\n",
       "    <tr>\n",
       "      <th>203377</th>\n",
       "      <td>P42345 &amp; CNC(=O)c1cccc(-c2ccc3c(N4CCOC[C@@H]4C...</td>\n",
       "      <td>2</td>\n",
       "      <td>9.853872</td>\n",
       "      <td>pKdMeasurement</td>\n",
       "    </tr>\n",
       "    <tr>\n",
       "      <th>203378</th>\n",
       "      <td>P42345 &amp; CO[C@H]1C[C@@H]2CC[C@@H](C)[C@@](O)(O...</td>\n",
       "      <td>2</td>\n",
       "      <td>9.221849</td>\n",
       "      <td>pKdMeasurement</td>\n",
       "    </tr>\n",
       "    <tr>\n",
       "      <th>203379</th>\n",
       "      <td>P42345 &amp; CO[C@H]1C[C@@H]2CC[C@@H](C)[C@@](O)(O...</td>\n",
       "      <td>2</td>\n",
       "      <td>8.698970</td>\n",
       "      <td>pKdMeasurement</td>\n",
       "    </tr>\n",
       "  </tbody>\n",
       "</table>\n",
       "<p>203380 rows × 4 columns</p>\n",
       "</div>"
      ],
      "text/plain": [
       "                                                  Systems  n_components  \\\n",
       "0       P00533 & Cc1cc(C)c(/C=C2\\C(=O)Nc3ncnc(Nc4ccc(F...             2   \n",
       "1       P35968 & Cc1cc(C)c(/C=C2\\C(=O)Nc3ncnc(Nc4ccc(F...             2   \n",
       "2       P00533 & Cc1cc(C(=O)N2CCOCC2)[nH]c1/C=C1\\C(=O)...             2   \n",
       "3       P06239 & Nc1ncnc2c1c(-c1cccc(Oc3ccccc3)c1)cn2C...             2   \n",
       "4       P06239 & Nc1ncnc2c1c(-c1cccc(Oc3ccccc3)c1)cn2C...             2   \n",
       "...                                                   ...           ...   \n",
       "203375  P42345 & CC(C)n1nc(-c2cc3cc(O)ccc3[nH]2)c2c(N)...             2   \n",
       "203376  P42345 & CO[C@H]1CC[C@H](N2C(=O)CNc3ncc(-c4ccc...             2   \n",
       "203377  P42345 & CNC(=O)c1cccc(-c2ccc3c(N4CCOC[C@@H]4C...             2   \n",
       "203378  P42345 & CO[C@H]1C[C@@H]2CC[C@@H](C)[C@@](O)(O...             2   \n",
       "203379  P42345 & CO[C@H]1C[C@@H]2CC[C@@H](C)[C@@](O)(O...             2   \n",
       "\n",
       "        Measurement   MeasurementType  \n",
       "0          7.387216  pIC50Measurement  \n",
       "1          4.782516  pIC50Measurement  \n",
       "2          6.769551  pIC50Measurement  \n",
       "3          6.853872  pIC50Measurement  \n",
       "4          5.928118  pIC50Measurement  \n",
       "...             ...               ...  \n",
       "203375     8.522879    pKdMeasurement  \n",
       "203376     7.552842    pKdMeasurement  \n",
       "203377     9.853872    pKdMeasurement  \n",
       "203378     9.221849    pKdMeasurement  \n",
       "203379     8.698970    pKdMeasurement  \n",
       "\n",
       "[203380 rows x 4 columns]"
      ]
     },
     "execution_count": 63,
     "metadata": {},
     "output_type": "execute_result"
    }
   ],
   "source": [
    "df = chembl.to_dataframe()\n",
    "df"
   ]
  },
  {
   "cell_type": "code",
   "execution_count": 67,
   "metadata": {},
   "outputs": [
    {
     "name": "stdout",
     "output_type": "stream",
     "text": [
      "Min values:  3.0\n",
      "Max values:  14.096910013008056\n"
     ]
    },
    {
     "data": {
      "image/png": "[encoded data removed]",
      "text/plain": [
       "<Figure size 432x288 with 1 Axes>"
      ]
     },
     "metadata": {
      "needs_background": "light"
     },
     "output_type": "display_data"
    }
   ],
   "source": [
    "import pandas as pd\n",
    "from matplotlib import pyplot as plt\n",
    "def hist_plot(values):\n",
    "    '''\n",
    "    Plots the histogram of given values.\n",
    "    '''\n",
    "    print('Min values: ' , pd.np.min(values))\n",
    "    print('Max values: ' , pd.np.max(values))\n",
    "    f = plt.figure()\n",
    "    plt.title(\"Histogram\")\n",
    "    plt.xlabel(\"values\")\n",
    "    plt.ylabel(\"counts\")\n",
    "    plt.hist(values, bins=50)\n",
    "    plt.show()\n",
    "\n",
    "hist_plot(df.Measurement)"
   ]
  },
  {
   "cell_type": "code",
   "execution_count": 68,
   "metadata": {},
   "outputs": [
    {
     "name": "stdout",
     "output_type": "stream",
     "text": [
      "Measurements: 203380\n",
      "Systems: 162584\n",
      "Proteins: 422\n",
      "Ligands: 103097\n"
     ]
    }
   ],
   "source": [
    "print(\"Measurements:\", len(chembl.measurements))\n",
    "print(\"Systems:\", len(chembl.systems))\n",
    "print(\"Proteins:\", len(set([s.protein for s in chembl.systems])))\n",
    "print(\"Ligands:\",len(set([s.ligand.name for s in chembl.systems])))"
   ]
  },
  {
   "cell_type": "markdown",
   "metadata": {},
   "source": [
    "Having this many ligands (compared to PKIS2) makes this dataset take much more memory and longer (~10 mins) to initialize!"
   ]
  },
  {
   "cell_type": "code",
   "execution_count": 78,
   "metadata": {},
   "outputs": [],
   "source": [
    "from kinoml.features.ligand import SmilesToLigandFeaturizer, MorganFingerprintFeaturizer\n",
    "from kinoml.features.protein import AminoAcidCompositionFeaturizer\n",
    "from kinoml.features.core import ScaleFeaturizer, Concatenated, Pipeline\n",
    "\n",
    "morgan_featurizer = Pipeline([SmilesToLigandFeaturizer(), MorganFingerprintFeaturizer(nbits=1024, radius=2)])\n",
    "composition_featurizer = Pipeline([AminoAcidCompositionFeaturizer(), ScaleFeaturizer()])\n",
    "concat_featurizers = Concatenated([morgan_featurizer, composition_featurizer], axis=0)"
   ]
  },
  {
   "cell_type": "markdown",
   "metadata": {},
   "source": [
    "You can prefeaturize everything before the loop, or delay the featurization until the systems are needed by passing the featurizer to the `to_pytorch` constructor."
   ]
  },
  {
   "cell_type": "code",
   "execution_count": 72,
   "metadata": {},
   "outputs": [
    {
     "data": {
      "text/plain": [
       "[<kinoml.datasets.torch_datasets.TorchDataset at 0x7f2da3a5a710>]"
      ]
     },
     "execution_count": 72,
     "metadata": {},
     "output_type": "execute_result"
    }
   ],
   "source": [
    "# # prefeaturize everything\n",
    "# subchembl.featurize(concat_featurizers)\n",
    "# # pass the featurizer to pytorch to featurize on the fly while optimizing\n",
    "# datasets = subchembl.to_pytorch(featurizer=concat_featurizers)\n",
    "# datasets"
   ]
  },
  {
   "cell_type": "markdown",
   "metadata": {},
   "source": [
    "We are creating a small subset here with just pIC50 measurements:"
   ]
  },
  {
   "cell_type": "code",
   "execution_count": 71,
   "metadata": {},
   "outputs": [
    {
     "data": {
      "text/plain": [
       "<ChEMBLDatasetProvider with 10000 pIC50Measurement measurements and 8514 systems>"
      ]
     },
     "execution_count": 71,
     "metadata": {},
     "output_type": "execute_result"
    }
   ],
   "source": [
    "from kinoml.core.measurements import pIC50Measurement\n",
    "from kinoml.datasets.chembl import ChEMBLDatasetProvider, _SingleTypeChEMBLDatasetProvider\n",
    "subset = []\n",
    "count = 0\n",
    "for ms in chembl.measurements:\n",
    "    if isinstance(ms, pIC50Measurement):\n",
    "        subset.append(ms)\n",
    "        count += 1\n",
    "    if count >= 10000:\n",
    "        break\n",
    "\n",
    "subchembl = ChEMBLDatasetProvider([_SingleTypeChEMBLDatasetProvider(subset)])\n",
    "subchembl"
   ]
  },
  {
   "cell_type": "code",
   "execution_count": 73,
   "metadata": {},
   "outputs": [
    {
     "data": {
      "text/plain": [
       "[<function kinoml.core.measurements.pIC50Measurement._observation_model_pytorch(dG_over_KT, substrate_conc=1e-06, michaelis_constant=1, inhibitor_conc=1e-06, **kwargs)>]"
      ]
     },
     "execution_count": 73,
     "metadata": {},
     "output_type": "execute_result"
    }
   ],
   "source": [
    "observation_models = subchembl.observation_models(backend=\"pytorch\")\n",
    "observation_models"
   ]
  },
  {
   "cell_type": "code",
   "execution_count": 82,
   "metadata": {},
   "outputs": [
    {
     "name": "stderr",
     "output_type": "stream",
     "text": [
      "Featurizing systems...:  90%|█████████ | 7700/8514 [03:29<00:26, 30.83it/s]RDKit WARNING: [17:15:19] Conflicting single bond directions around double bond at index 14.\n",
      "RDKit WARNING: [17:15:19]   BondStereo set to STEREONONE and single bond directions set to NONE.\n",
      "RDKit WARNING: [17:15:19] Conflicting single bond directions around double bond at index 14.\n",
      "RDKit WARNING: [17:15:19]   BondStereo set to STEREONONE and single bond directions set to NONE.\n",
      "Featurizing systems...: 100%|██████████| 8514/8514 [03:52<00:00, 36.64it/s]\n"
     ]
    }
   ],
   "source": [
    "# prefeaturize everything\n",
    "subchembl.featurize(concat_featurizers)"
   ]
  },
  {
   "cell_type": "code",
   "execution_count": 88,
   "metadata": {},
   "outputs": [],
   "source": [
    "import torch\n",
    "from kinoml.ml.torch_models import NeuralNetworkRegression\n",
    "from tqdm.auto import trange, tqdm\n",
    "from kinoml.core.measurements import null_observation_model\n",
    "\n",
    "# Use DataLoader for minibatches\n",
    "datasets = subchembl.to_pytorch()\n",
    "loaders = [dataset.as_dataloader(batch_size=5, shuffle=True) for dataset in datasets]"
   ]
  },
  {
   "cell_type": "code",
   "execution_count": 89,
   "metadata": {},
   "outputs": [
    {
     "data": {
      "application/vnd.jupyter.widget-view+json": {
       "model_id": "e34765bb7fc744f8b5fbd96eb15fa79f",
       "version_major": 2,
       "version_minor": 0
      },
      "text/plain": [
       "HBox(children=(FloatProgress(value=0.0, description='Epochs (+ featurization...)', style=ProgressStyle(descrip…"
      ]
     },
     "metadata": {},
     "output_type": "display_data"
    },
    {
     "name": "stdout",
     "output_type": "stream",
     "text": [
      "\n"
     ]
    }
   ],
   "source": [
    "# precompute input size\n",
    "input_size = datasets[0].estimate_input_size()\n",
    "model = NeuralNetworkRegression(input_size=input_size[0])\n",
    "optimizer = torch.optim.Adam(model.parameters(), lr=0.005)\n",
    "loss_function = torch.nn.MSELoss() # Mean squared error\n",
    "\n",
    "nb_epoch = 100\n",
    "loss_timeseries = []\n",
    "ys = []\n",
    "range_epochs = trange(nb_epoch, desc=\"Epochs (+ featurization...)\")\n",
    "for epoch in range_epochs:\n",
    "    # Single cumulative loss / or loss per loader? look into this!\n",
    "    cumulative_loss = 0.0\n",
    "    ys.append([])\n",
    "    for i, loader in enumerate(loaders):\n",
    "        for j, (x, y) in enumerate(loader):\n",
    "            # assert not (torch.isnan(x).any() or torch.isinf(x).any()), f\"x has nan and/or infs!\"\n",
    "            # assert not (torch.isnan(y).any() or torch.isinf(y).any()), f\"y has nan and/or infs!\"\n",
    "\n",
    "            # Clear gradients\n",
    "            optimizer.zero_grad()\n",
    "\n",
    "            # Obtain model prediction given model input\n",
    "            delta_g = model(x)\n",
    "\n",
    "            # with observation model\n",
    "            prediction = loader.dataset.observation_model(delta_g)\n",
    "            #IC50_prediction = physics_informed_IC50(delta_g)\n",
    "            #prediction = logp_transformation(IC50_prediction)\n",
    "            \n",
    "            # !!!!!!!!!!!!!!!!!!!!!!!!!!!!!!!!!!!!!!!!!!!!!!!\n",
    "            # !!! Make sure prediction and y match shapes !!!\n",
    "            # !!!!!!!!!!!!!!!!!!!!!!!!!!!!!!!!!!!!!!!!!!!!!!!\n",
    "            y = y.reshape(prediction.shape)\n",
    "\n",
    "            ys[-1].append((delta_g, prediction, y))\n",
    "\n",
    "            # prediction = delta_g\n",
    "            loss = loss_function(prediction, y)\n",
    "\n",
    "            # Obtain loss for the predicted output\n",
    "            # if cumulative loss is global, change this i to 0, or viceversa\n",
    "            cumulative_loss += loss.item()\n",
    "\n",
    "            # Gradients w.r.t. parameters\n",
    "            loss.backward()\n",
    "\n",
    "            # Optimizer\n",
    "            optimizer.step()\n",
    "            if j % 2000 == 0:    # print every 2000 mini-batches\n",
    "                range_epochs.set_description(f\"Epochs (loss={cumulative_loss / 2000:.2e})\")\n",
    "                cumulative_loss = 0.0\n",
    "            \n",
    "    loss_timeseries.append(cumulative_loss)\n",
    "    "
   ]
  },
  {
   "cell_type": "code",
   "execution_count": 92,
   "metadata": {},
   "outputs": [
    {
     "data": {
      "text/plain": [
       "[<matplotlib.lines.Line2D at 0x7f2da1e656d0>]"
      ]
     },
     "execution_count": 92,
     "metadata": {},
     "output_type": "execute_result"
    },
    {
     "data": {
      "image/png": "[encoded data removed]",
      "text/plain": [
       "<Figure size 432x288 with 1 Axes>"
      ]
     },
     "metadata": {
      "needs_background": "light"
     },
     "output_type": "display_data"
    }
   ],
   "source": [
    "plt.plot(loss_timeseries)"
   ]
  },
  {
   "cell_type": "code",
   "execution_count": 90,
   "metadata": {},
   "outputs": [
    {
     "data": {
      "application/vnd.jupyter.widget-view+json": {
       "model_id": "079224a254a542e7ab2c683a3b0374b9",
       "version_major": 2,
       "version_minor": 0
      },
      "text/plain": [
       "interactive(children=(IntSlider(value=99, description='i', max=99), Output()), _dom_classes=('widget-interact'…"
      ]
     },
     "metadata": {},
     "output_type": "display_data"
    }
   ],
   "source": [
    "import numpy as np\n",
    "from ipywidgets import interact\n",
    "from matplotlib import pyplot as plt\n",
    "from sklearn.metrics import r2_score, mean_squared_error\n",
    "\n",
    "def predicted_vs_true(i=100):\n",
    "    fig, ax = plt.subplots()\n",
    "    predicted = np.concatenate([y[1].detach().numpy() for y in ys[i]])\n",
    "    true = np.concatenate([y[2].detach().numpy() for y in ys[i]]).reshape(-1, 1)\n",
    "    ax.scatter(predicted, true)\n",
    "    ax.set(xlim=(0, 15), ylim=(0, 15))\n",
    "    ax.set_xlabel(\"Predicted y\")\n",
    "    ax.set_ylabel(\"True y\")\n",
    "    x = np.linspace(0, 15, 10)\n",
    "    ax.plot(x, x)\n",
    "    ax.set_aspect('equal', adjustable='box')\n",
    "    plt.show()\n",
    "\n",
    "    print('R2: Goodness of fit measure: ', r2_score(true, predicted))\n",
    "    print(\"All outputs are equal: \", all(elem==predicted[0] for elem in predicted))\n",
    "    mse = mean_squared_error(true, predicted)\n",
    "    print(\"MSE: %f\" % (mse))\n",
    "    print(\"RMSE: %f\" % (np.sqrt(mse)))\n",
    "\n",
    "interact(predicted_vs_true, i=(0, len(ys)-1));"
   ]
  },
  {
   "cell_type": "markdown",
   "metadata": {},
   "source": [
    "Let's see how the model predicts the whole dataset!"
   ]
  },
  {
   "cell_type": "code",
   "execution_count": 93,
   "metadata": {},
   "outputs": [
    {
     "data": {
      "image/png": "[encoded data removed]",
      "text/plain": [
       "<Figure size 432x288 with 1 Axes>"
      ]
     },
     "metadata": {
      "needs_background": "light"
     },
     "output_type": "display_data"
    },
    {
     "name": "stdout",
     "output_type": "stream",
     "text": [
      "R2: Goodness of fit measure:  0.8942098979156023\n",
      "All outputs are equal:  False\n",
      "MSE: 0.193806\n",
      "RMSE: 0.440234\n"
     ]
    }
   ],
   "source": [
    "model_input = torch.tensor(datasets[0].systems).type(torch.FloatTensor)\n",
    "true = datasets[0].measurements\n",
    "\n",
    "delta_g = model(model_input)\n",
    "prediction = datasets[0].observation_model(delta_g).detach().numpy()\n",
    "\n",
    "\n",
    "fig, ax = plt.subplots()\n",
    "ax.scatter(prediction, true)\n",
    "ax.set(xlim=(0, 15), ylim=(0, 15))\n",
    "ax.set_xlabel(\"Predicted y\")\n",
    "ax.set_ylabel(\"True y\")\n",
    "ax.set_title(\"pIC50 values for a 10k ChEMBL subset\")\n",
    "x = np.linspace(0, 15, 10)\n",
    "ax.plot(x, x)\n",
    "ax.set_aspect('equal', adjustable='box')\n",
    "plt.show()\n",
    "\n",
    "print('R2: Goodness of fit measure: ', r2_score(true, prediction))\n",
    "print(\"All outputs are equal: \", all(elem==prediction[0] for elem in prediction))\n",
    "mse = mean_squared_error(true, prediction)\n",
    "print(\"MSE: %f\" % (mse))\n",
    "print(\"RMSE: %f\" % (np.sqrt(mse)))"
   ]
  }
 ],
 "metadata": {
  "kernelspec": {
   "display_name": "Python 3",
   "language": "python",
   "name": "python3"
  },
  "language_info": {
   "codemirror_mode": {
    "name": "ipython",
    "version": 3
   },
   "file_extension": ".py",
   "mimetype": "text/x-python",
   "name": "python",
   "nbconvert_exporter": "python",
   "pygments_lexer": "ipython3",
   "version": "3.7.6"
  }
 },
 "nbformat": 4,
 "nbformat_minor": 4
}
