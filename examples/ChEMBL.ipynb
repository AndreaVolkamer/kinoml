{
 "cells": [
  {
   "cell_type": "code",
   "execution_count": 1,
   "metadata": {},
   "outputs": [],
   "source": [
    "%load_ext autoreload"
   ]
  },
  {
   "cell_type": "code",
   "execution_count": 2,
   "metadata": {},
   "outputs": [],
   "source": [
    "%autoreload 2"
   ]
  },
  {
   "cell_type": "code",
   "execution_count": 2,
   "metadata": {},
   "outputs": [],
   "source": [
    "import warnings\n",
    "warnings.simplefilter(\"ignore\") \n",
    "import logging\n",
    "logging.basicConfig(level=logging.ERROR)"
   ]
  },
  {
   "cell_type": "code",
   "execution_count": 31,
   "metadata": {},
   "outputs": [
    {
     "name": "stderr",
     "output_type": "stream",
     "text": [
      "100%|██████████| 203752/203752 [00:07<00:00, 26913.63it/s]\n"
     ]
    }
   ],
   "source": [
    "from kinoml.datasets.chembl import ChEMBLDatasetProvider\n",
    "chembl = ChEMBLDatasetProvider.from_source() #sample=20000)"
   ]
  },
  {
   "cell_type": "code",
   "execution_count": 32,
   "metadata": {},
   "outputs": [
    {
     "data": {
      "text/plain": [
       "<ChEMBLDatasetProvider with 203752 IC50Measurement measurements and 162839 systems>"
      ]
     },
     "execution_count": 32,
     "metadata": {},
     "output_type": "execute_result"
    }
   ],
   "source": [
    "chembl"
   ]
  },
  {
   "cell_type": "code",
   "execution_count": 33,
   "metadata": {},
   "outputs": [
    {
     "data": {
      "text/html": [
       "<div>\n",
       "<style scoped>\n",
       "    .dataframe tbody tr th:only-of-type {\n",
       "        vertical-align: middle;\n",
       "    }\n",
       "\n",
       "    .dataframe tbody tr th {\n",
       "        vertical-align: top;\n",
       "    }\n",
       "\n",
       "    .dataframe thead th {\n",
       "        text-align: right;\n",
       "    }\n",
       "</style>\n",
       "<table border=\"1\" class=\"dataframe\">\n",
       "  <thead>\n",
       "    <tr style=\"text-align: right;\">\n",
       "      <th></th>\n",
       "      <th>Systems</th>\n",
       "      <th>n_components</th>\n",
       "      <th>Measurement</th>\n",
       "      <th>MeasurementType</th>\n",
       "    </tr>\n",
       "  </thead>\n",
       "  <tbody>\n",
       "    <tr>\n",
       "      <th>0</th>\n",
       "      <td>P00533 &amp; Cc1cc(C)c(/C=C2\\C(=O)Nc3ncnc(Nc4ccc(F...</td>\n",
       "      <td>2</td>\n",
       "      <td>41.00</td>\n",
       "      <td>IC50Measurement</td>\n",
       "    </tr>\n",
       "    <tr>\n",
       "      <th>1</th>\n",
       "      <td>P35968 &amp; Cc1cc(C)c(/C=C2\\C(=O)Nc3ncnc(Nc4ccc(F...</td>\n",
       "      <td>2</td>\n",
       "      <td>16500.00</td>\n",
       "      <td>IC50Measurement</td>\n",
       "    </tr>\n",
       "    <tr>\n",
       "      <th>2</th>\n",
       "      <td>P00533 &amp; Cc1cc(C(=O)N2CCOCC2)[nH]c1/C=C1\\C(=O)...</td>\n",
       "      <td>2</td>\n",
       "      <td>170.00</td>\n",
       "      <td>IC50Measurement</td>\n",
       "    </tr>\n",
       "    <tr>\n",
       "      <th>3</th>\n",
       "      <td>P06239 &amp; Nc1ncnc2c1c(-c1cccc(Oc3ccccc3)c1)cn2C...</td>\n",
       "      <td>2</td>\n",
       "      <td>140.00</td>\n",
       "      <td>IC50Measurement</td>\n",
       "    </tr>\n",
       "    <tr>\n",
       "      <th>4</th>\n",
       "      <td>P06239 &amp; Nc1ncnc2c1c(-c1cccc(Oc3ccccc3)c1)cn2C...</td>\n",
       "      <td>2</td>\n",
       "      <td>1180.00</td>\n",
       "      <td>IC50Measurement</td>\n",
       "    </tr>\n",
       "    <tr>\n",
       "      <th>...</th>\n",
       "      <td>...</td>\n",
       "      <td>...</td>\n",
       "      <td>...</td>\n",
       "      <td>...</td>\n",
       "    </tr>\n",
       "    <tr>\n",
       "      <th>203747</th>\n",
       "      <td>P42345 &amp; CC(C)n1nc(-c2cc3cc(O)ccc3[nH]2)c2c(N)...</td>\n",
       "      <td>2</td>\n",
       "      <td>3.00</td>\n",
       "      <td>KdMeasurement</td>\n",
       "    </tr>\n",
       "    <tr>\n",
       "      <th>203748</th>\n",
       "      <td>P42345 &amp; CO[C@H]1CC[C@H](N2C(=O)CNc3ncc(-c4ccc...</td>\n",
       "      <td>2</td>\n",
       "      <td>28.00</td>\n",
       "      <td>KdMeasurement</td>\n",
       "    </tr>\n",
       "    <tr>\n",
       "      <th>203749</th>\n",
       "      <td>P42345 &amp; CNC(=O)c1cccc(-c2ccc3c(N4CCOC[C@@H]4C...</td>\n",
       "      <td>2</td>\n",
       "      <td>0.14</td>\n",
       "      <td>KdMeasurement</td>\n",
       "    </tr>\n",
       "    <tr>\n",
       "      <th>203750</th>\n",
       "      <td>P42345 &amp; CO[C@H]1C[C@@H]2CC[C@@H](C)[C@@](O)(O...</td>\n",
       "      <td>2</td>\n",
       "      <td>0.60</td>\n",
       "      <td>KdMeasurement</td>\n",
       "    </tr>\n",
       "    <tr>\n",
       "      <th>203751</th>\n",
       "      <td>P42345 &amp; CO[C@H]1C[C@@H]2CC[C@@H](C)[C@@](O)(O...</td>\n",
       "      <td>2</td>\n",
       "      <td>2.00</td>\n",
       "      <td>KdMeasurement</td>\n",
       "    </tr>\n",
       "  </tbody>\n",
       "</table>\n",
       "<p>203752 rows × 4 columns</p>\n",
       "</div>"
      ],
      "text/plain": [
       "                                                  Systems  n_components  \\\n",
       "0       P00533 & Cc1cc(C)c(/C=C2\\C(=O)Nc3ncnc(Nc4ccc(F...             2   \n",
       "1       P35968 & Cc1cc(C)c(/C=C2\\C(=O)Nc3ncnc(Nc4ccc(F...             2   \n",
       "2       P00533 & Cc1cc(C(=O)N2CCOCC2)[nH]c1/C=C1\\C(=O)...             2   \n",
       "3       P06239 & Nc1ncnc2c1c(-c1cccc(Oc3ccccc3)c1)cn2C...             2   \n",
       "4       P06239 & Nc1ncnc2c1c(-c1cccc(Oc3ccccc3)c1)cn2C...             2   \n",
       "...                                                   ...           ...   \n",
       "203747  P42345 & CC(C)n1nc(-c2cc3cc(O)ccc3[nH]2)c2c(N)...             2   \n",
       "203748  P42345 & CO[C@H]1CC[C@H](N2C(=O)CNc3ncc(-c4ccc...             2   \n",
       "203749  P42345 & CNC(=O)c1cccc(-c2ccc3c(N4CCOC[C@@H]4C...             2   \n",
       "203750  P42345 & CO[C@H]1C[C@@H]2CC[C@@H](C)[C@@](O)(O...             2   \n",
       "203751  P42345 & CO[C@H]1C[C@@H]2CC[C@@H](C)[C@@](O)(O...             2   \n",
       "\n",
       "        Measurement  MeasurementType  \n",
       "0             41.00  IC50Measurement  \n",
       "1          16500.00  IC50Measurement  \n",
       "2            170.00  IC50Measurement  \n",
       "3            140.00  IC50Measurement  \n",
       "4           1180.00  IC50Measurement  \n",
       "...             ...              ...  \n",
       "203747         3.00    KdMeasurement  \n",
       "203748        28.00    KdMeasurement  \n",
       "203749         0.14    KdMeasurement  \n",
       "203750         0.60    KdMeasurement  \n",
       "203751         2.00    KdMeasurement  \n",
       "\n",
       "[203752 rows x 4 columns]"
      ]
     },
     "execution_count": 33,
     "metadata": {},
     "output_type": "execute_result"
    }
   ],
   "source": [
    "df = chembl.to_dataframe()\n",
    "df"
   ]
  },
  {
   "cell_type": "code",
   "execution_count": 34,
   "metadata": {},
   "outputs": [
    {
     "name": "stdout",
     "output_type": "stream",
     "text": [
      "Measurements: 203752\n",
      "Systems: 162839\n",
      "Proteins: 422\n",
      "Ligands: 103302\n"
     ]
    }
   ],
   "source": [
    "print(\"Measurements:\", len(chembl.measurements))\n",
    "print(\"Systems:\", len(chembl.systems))\n",
    "print(\"Proteins:\", len(set([s.protein for s in chembl.systems])))\n",
    "print(\"Ligands:\",len(set([s.ligand.name for s in chembl.systems])))"
   ]
  },
  {
   "cell_type": "markdown",
   "metadata": {},
   "source": [
    "Having this many ligands (compared to PKIS2) makes this dataset take much more memory and longer (~10 mins) to initialize!"
   ]
  },
  {
   "cell_type": "code",
   "execution_count": 46,
   "metadata": {},
   "outputs": [],
   "source": [
    "from kinoml.features.ligand import SmilesToLigandFeaturizer, MorganFingerprintFeaturizer\n",
    "from kinoml.features.protein import AminoAcidCompositionFeaturizer\n",
    "from kinoml.features.core import HashFeaturizer, Concatenated, Pipeline\n",
    "\n",
    "morgan_featurizer = Pipeline([SmilesToLigandFeaturizer(), MorganFingerprintFeaturizer(nbits=1024, radius=2)])\n",
    "composition_featurizer = AminoAcidCompositionFeaturizer()\n",
    "concat_featurizers = Concatenated([morgan_featurizer, composition_featurizer], axis=0)"
   ]
  },
  {
   "cell_type": "markdown",
   "metadata": {},
   "source": [
    "You can prefeaturize everything before the loop with this cell:"
   ]
  },
  {
   "cell_type": "code",
   "execution_count": 8,
   "metadata": {},
   "outputs": [],
   "source": [
    "# %%time\n",
    "# chembl.featurize(concat_featurizers)"
   ]
  },
  {
   "cell_type": "markdown",
   "metadata": {},
   "source": [
    "Or delay the featurization until the systems are needed by passing the featurizer to the `to_pytorch` constructor. We will use this strategy!"
   ]
  },
  {
   "cell_type": "markdown",
   "metadata": {},
   "source": [
    "## Temporary workaround\n",
    "\n",
    "To debug the loss problem, we will only consider one protein for now:"
   ]
  },
  {
   "cell_type": "code",
   "execution_count": 47,
   "metadata": {},
   "outputs": [
    {
     "data": {
      "text/plain": [
       "[('P35968', 10035),\n",
       " ('P00533', 8582),\n",
       " ('O60674-O60674', 5659),\n",
       " ('P15056', 5248),\n",
       " ('Q16539', 5057)]"
      ]
     },
     "execution_count": 47,
     "metadata": {},
     "output_type": "execute_result"
    }
   ],
   "source": [
    "from collections import Counter\n",
    "counts = Counter([s.system.protein.name for s in chembl.measurements])\n",
    "sorted_counts = sorted(counts.items(), key=lambda kv: kv[1], reverse=True)[:5]\n",
    "sorted_counts"
   ]
  },
  {
   "cell_type": "code",
   "execution_count": 48,
   "metadata": {},
   "outputs": [
    {
     "data": {
      "text/plain": [
       "9629"
      ]
     },
     "execution_count": 48,
     "metadata": {},
     "output_type": "execute_result"
    }
   ],
   "source": [
    "from kinoml.core.measurements import IC50Measurement\n",
    "measurements = []\n",
    "for ms in chembl.measurements:\n",
    "    if ms.system.protein.name == sorted_counts[0][0] and isinstance(ms, IC50Measurement):\n",
    "        measurements.append(ms)\n",
    "len(measurements)"
   ]
  },
  {
   "cell_type": "code",
   "execution_count": 49,
   "metadata": {},
   "outputs": [],
   "source": [
    "from kinoml.datasets.chembl import _SingleTypeChEMBLDatasetProvider\n",
    "subchembl = ChEMBLDatasetProvider([_SingleTypeChEMBLDatasetProvider(measurements)])"
   ]
  },
  {
   "cell_type": "code",
   "execution_count": 50,
   "metadata": {},
   "outputs": [
    {
     "data": {
      "text/plain": [
       "<ChEMBLDatasetProvider with 9629 IC50Measurement measurements and 7426 systems>"
      ]
     },
     "execution_count": 50,
     "metadata": {},
     "output_type": "execute_result"
    }
   ],
   "source": [
    "subchembl"
   ]
  },
  {
   "cell_type": "code",
   "execution_count": 20,
   "metadata": {},
   "outputs": [],
   "source": [
    "# End of temporary workaround; subchembl used from now on, instead of chembl"
   ]
  },
  {
   "cell_type": "code",
   "execution_count": 53,
   "metadata": {},
   "outputs": [
    {
     "data": {
      "text/plain": [
       "[<kinoml.datasets.torch_datasets.TorchDataset at 0x7fe60fc337d0>]"
      ]
     },
     "execution_count": 53,
     "metadata": {},
     "output_type": "execute_result"
    }
   ],
   "source": [
    "datasets = subchembl.to_pytorch(featurizer=concat_featurizers, minus_log10=False)\n",
    "datasets"
   ]
  },
  {
   "cell_type": "code",
   "execution_count": 54,
   "metadata": {},
   "outputs": [
    {
     "data": {
      "text/plain": [
       "[<function kinoml.core.measurements.IC50Measurement._observation_model_pytorch(dG_over_KT, substrate_conc=1e-06, michaelis_constant=1, inhibitor_conc=1e-06, **kwargs)>]"
      ]
     },
     "execution_count": 54,
     "metadata": {},
     "output_type": "execute_result"
    }
   ],
   "source": [
    "observation_models = subchembl.observation_models(backend=\"pytorch\", minus_log10=False)\n",
    "observation_models"
   ]
  },
  {
   "cell_type": "code",
   "execution_count": 58,
   "metadata": {},
   "outputs": [
    {
     "data": {
      "application/vnd.jupyter.widget-view+json": {
       "model_id": "40802456a68b442cbf715dcae14198c3",
       "version_major": 2,
       "version_minor": 0
      },
      "text/plain": [
       "HBox(children=(FloatProgress(value=0.0, description='Epochs (+ featurization...)', style=ProgressStyle(descrip…"
      ]
     },
     "metadata": {},
     "output_type": "display_data"
    },
    {
     "name": "stdout",
     "output_type": "stream",
     "text": [
      "\n"
     ]
    },
    {
     "ename": "KeyboardInterrupt",
     "evalue": "",
     "output_type": "error",
     "traceback": [
      "\u001b[0;31m---------------------------------------------------------------------------\u001b[0m",
      "\u001b[0;31mKeyboardInterrupt\u001b[0m                         Traceback (most recent call last)",
      "\u001b[0;32m<ipython-input-58-7c9ae54f6729>\u001b[0m in \u001b[0;36m<module>\u001b[0;34m\u001b[0m\n\u001b[1;32m     40\u001b[0m \u001b[0;34m\u001b[0m\u001b[0m\n\u001b[1;32m     41\u001b[0m             \u001b[0;31m# Gradients w.r.t. parameters\u001b[0m\u001b[0;34m\u001b[0m\u001b[0;34m\u001b[0m\u001b[0;34m\u001b[0m\u001b[0m\n\u001b[0;32m---> 42\u001b[0;31m             \u001b[0mloss\u001b[0m\u001b[0;34m.\u001b[0m\u001b[0mbackward\u001b[0m\u001b[0;34m(\u001b[0m\u001b[0;34m)\u001b[0m\u001b[0;34m\u001b[0m\u001b[0;34m\u001b[0m\u001b[0m\n\u001b[0m\u001b[1;32m     43\u001b[0m \u001b[0;34m\u001b[0m\u001b[0m\n\u001b[1;32m     44\u001b[0m             \u001b[0;31m# Optimizer\u001b[0m\u001b[0;34m\u001b[0m\u001b[0;34m\u001b[0m\u001b[0;34m\u001b[0m\u001b[0m\n",
      "\u001b[0;32m~/.conda/envs/kinoml/lib/python3.7/site-packages/torch/tensor.py\u001b[0m in \u001b[0;36mbackward\u001b[0;34m(self, gradient, retain_graph, create_graph)\u001b[0m\n\u001b[1;32m    164\u001b[0m                 \u001b[0mproducts\u001b[0m\u001b[0;34m.\u001b[0m \u001b[0mDefaults\u001b[0m \u001b[0mto\u001b[0m\u001b[0;31m \u001b[0m\u001b[0;31m`\u001b[0m\u001b[0;31m`\u001b[0m\u001b[0;32mFalse\u001b[0m\u001b[0;31m`\u001b[0m\u001b[0;31m`\u001b[0m\u001b[0;34m.\u001b[0m\u001b[0;34m\u001b[0m\u001b[0;34m\u001b[0m\u001b[0m\n\u001b[1;32m    165\u001b[0m         \"\"\"\n\u001b[0;32m--> 166\u001b[0;31m         \u001b[0mtorch\u001b[0m\u001b[0;34m.\u001b[0m\u001b[0mautograd\u001b[0m\u001b[0;34m.\u001b[0m\u001b[0mbackward\u001b[0m\u001b[0;34m(\u001b[0m\u001b[0mself\u001b[0m\u001b[0;34m,\u001b[0m \u001b[0mgradient\u001b[0m\u001b[0;34m,\u001b[0m \u001b[0mretain_graph\u001b[0m\u001b[0;34m,\u001b[0m \u001b[0mcreate_graph\u001b[0m\u001b[0;34m)\u001b[0m\u001b[0;34m\u001b[0m\u001b[0;34m\u001b[0m\u001b[0m\n\u001b[0m\u001b[1;32m    167\u001b[0m \u001b[0;34m\u001b[0m\u001b[0m\n\u001b[1;32m    168\u001b[0m     \u001b[0;32mdef\u001b[0m \u001b[0mregister_hook\u001b[0m\u001b[0;34m(\u001b[0m\u001b[0mself\u001b[0m\u001b[0;34m,\u001b[0m \u001b[0mhook\u001b[0m\u001b[0;34m)\u001b[0m\u001b[0;34m:\u001b[0m\u001b[0;34m\u001b[0m\u001b[0;34m\u001b[0m\u001b[0m\n",
      "\u001b[0;32m~/.conda/envs/kinoml/lib/python3.7/site-packages/torch/autograd/__init__.py\u001b[0m in \u001b[0;36mbackward\u001b[0;34m(tensors, grad_tensors, retain_graph, create_graph, grad_variables)\u001b[0m\n\u001b[1;32m     97\u001b[0m     Variable._execution_engine.run_backward(\n\u001b[1;32m     98\u001b[0m         \u001b[0mtensors\u001b[0m\u001b[0;34m,\u001b[0m \u001b[0mgrad_tensors\u001b[0m\u001b[0;34m,\u001b[0m \u001b[0mretain_graph\u001b[0m\u001b[0;34m,\u001b[0m \u001b[0mcreate_graph\u001b[0m\u001b[0;34m,\u001b[0m\u001b[0;34m\u001b[0m\u001b[0;34m\u001b[0m\u001b[0m\n\u001b[0;32m---> 99\u001b[0;31m         allow_unreachable=True)  # allow_unreachable flag\n\u001b[0m\u001b[1;32m    100\u001b[0m \u001b[0;34m\u001b[0m\u001b[0m\n\u001b[1;32m    101\u001b[0m \u001b[0;34m\u001b[0m\u001b[0m\n",
      "\u001b[0;31mKeyboardInterrupt\u001b[0m: "
     ]
    }
   ],
   "source": [
    "import torch\n",
    "from kinoml.ml.torch_models import NeuralNetworkRegression\n",
    "from tqdm.auto import trange, tqdm\n",
    "from kinoml.core.measurements import null_observation_model\n",
    "\n",
    "# Use DataLoader for minibatches\n",
    "datasets = subchembl.to_pytorch(featurizer=concat_featurizers, minus_log10=False)\n",
    "loaders = [dataset.as_dataloader(batch_size=64) for dataset in datasets]\n",
    "\n",
    "# precompute input size\n",
    "input_size = datasets[0].estimate_input_size()\n",
    "model = NeuralNetworkRegression(input_size=input_size[0])\n",
    "optimizer = torch.optim.Adam(model.parameters(), lr=0.001)\n",
    "loss_function = torch.nn.MSELoss() # Mean squared error\n",
    "\n",
    "nb_epoch = 100\n",
    "loss_timeseries = []\n",
    "ys = []\n",
    "range_epochs = trange(nb_epoch, desc=\"Epochs (+ featurization...)\")\n",
    "for epoch in range_epochs:\n",
    "    # Single cumulative loss / or loss per loader? look into this!\n",
    "    cumulative_loss = torch.zeros(len(loaders), dtype=torch.float64)\n",
    "    for i, loader in enumerate(loaders):\n",
    "        for x, y in loader:\n",
    "            # Clear gradients\n",
    "            optimizer.zero_grad()\n",
    "            \n",
    "            # Obtain model prediction given model input\n",
    "            delta_g = model(x)\n",
    "\n",
    "            # with observation model\n",
    "            prediction = loader.dataset.observation_model(delta_g)\n",
    "            \n",
    "            loss = loss_function(-torch.log10(prediction), -torch.log10(y))\n",
    "            ys.append([-torch.log10(prediction), -torch.log10(y)])\n",
    "            \n",
    "            # Obtain loss for the predicted output\n",
    "            # if cumulative loss is global, change this i to 0, or viceversa\n",
    "            cumulative_loss[0] += loss.item()\n",
    "\n",
    "            # Gradients w.r.t. parameters\n",
    "            loss.backward()\n",
    "            \n",
    "            # Optimizer\n",
    "            optimizer.step()\n",
    "            \n",
    "    loss_timeseries.append(cumulative_loss[0])\n",
    "    range_epochs.set_description(f\"Epochs (loss={loss_timeseries[-1]:.2e})\")"
   ]
  },
  {
   "cell_type": "code",
   "execution_count": 59,
   "metadata": {},
   "outputs": [],
   "source": [
    "from matplotlib import pyplot as plt"
   ]
  },
  {
   "cell_type": "code",
   "execution_count": 67,
   "metadata": {},
   "outputs": [
    {
     "data": {
      "text/plain": [
       "[(-5, 5), (-5, 5)]"
      ]
     },
     "execution_count": 67,
     "metadata": {},
     "output_type": "execute_result"
    },
    {
     "data": {
      "image/png": "[encoded data removed]",
      "text/plain": [
       "<Figure size 432x288 with 1 Axes>"
      ]
     },
     "metadata": {
      "needs_background": "light"
     },
     "output_type": "display_data"
    }
   ],
   "source": [
    "i = 4\n",
    "fig, ax = plt.subplots()\n",
    "ax.scatter(ys[i][0].detach().numpy(), ys[i][1].detach().numpy())\n",
    "ax.set(xlim=(-5, +5), ylim=(-5, +5))"
   ]
  }
 ],
 "metadata": {
  "kernelspec": {
   "display_name": "Python 3",
   "language": "python",
   "name": "python3"
  },
  "language_info": {
   "codemirror_mode": {
    "name": "ipython",
    "version": 3
   },
   "file_extension": ".py",
   "mimetype": "text/x-python",
   "name": "python",
   "nbconvert_exporter": "python",
   "pygments_lexer": "ipython3",
   "version": "3.7.6"
  }
 },
 "nbformat": 4,
 "nbformat_minor": 4
}
