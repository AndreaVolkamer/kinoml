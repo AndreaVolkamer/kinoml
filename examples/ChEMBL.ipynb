{
 "cells": [
  {
   "cell_type": "code",
   "execution_count": 1,
   "metadata": {},
   "outputs": [],
   "source": [
    "%load_ext autoreload"
   ]
  },
  {
   "cell_type": "code",
   "execution_count": 2,
   "metadata": {},
   "outputs": [],
   "source": [
    "%autoreload 2"
   ]
  },
  {
   "cell_type": "code",
   "execution_count": 3,
   "metadata": {},
   "outputs": [],
   "source": [
    "import warnings\n",
    "warnings.simplefilter(\"ignore\") \n",
    "import logging\n",
    "logging.basicConfig(level=logging.ERROR)"
   ]
  },
  {
   "cell_type": "code",
   "execution_count": 4,
   "metadata": {},
   "outputs": [
    {
     "name": "stderr",
     "output_type": "stream",
     "text": [
      "RDKit WARNING: [18:36:32] Enabling RDKit 2019.09.2 jupyter extensions\n",
      "100%|██████████| 170458/170458 [08:18<00:00, 341.90it/s] \n"
     ]
    }
   ],
   "source": [
    "from kinoml.datasets.chembl import ChEMBLDatasetProvider\n",
    "chembl = ChEMBLDatasetProvider.from_source(measurement_types=(\"IC50\",))"
   ]
  },
  {
   "cell_type": "code",
   "execution_count": 5,
   "metadata": {},
   "outputs": [
    {
     "data": {
      "text/plain": [
       "<ChEMBLDatasetProvider with 170458 IC50Measurement measurements and 141680 systems>"
      ]
     },
     "execution_count": 5,
     "metadata": {},
     "output_type": "execute_result"
    }
   ],
   "source": [
    "chembl"
   ]
  },
  {
   "cell_type": "code",
   "execution_count": 6,
   "metadata": {},
   "outputs": [
    {
     "data": {
      "text/html": [
       "<div>\n",
       "<style scoped>\n",
       "    .dataframe tbody tr th:only-of-type {\n",
       "        vertical-align: middle;\n",
       "    }\n",
       "\n",
       "    .dataframe tbody tr th {\n",
       "        vertical-align: top;\n",
       "    }\n",
       "\n",
       "    .dataframe thead th {\n",
       "        text-align: right;\n",
       "    }\n",
       "</style>\n",
       "<table border=\"1\" class=\"dataframe\">\n",
       "  <thead>\n",
       "    <tr style=\"text-align: right;\">\n",
       "      <th></th>\n",
       "      <th>Systems</th>\n",
       "      <th>n_components</th>\n",
       "      <th>Measurement</th>\n",
       "      <th>MeasurementType</th>\n",
       "    </tr>\n",
       "  </thead>\n",
       "  <tbody>\n",
       "    <tr>\n",
       "      <th>0</th>\n",
       "      <td>P00533 &amp; Cc1cc(C)c(/C=C2\\C(=O)Nc3ncnc(Nc4ccc(F...</td>\n",
       "      <td>2</td>\n",
       "      <td>41.0</td>\n",
       "      <td>IC50Measurement</td>\n",
       "    </tr>\n",
       "    <tr>\n",
       "      <th>1</th>\n",
       "      <td>P35968 &amp; Cc1cc(C)c(/C=C2\\C(=O)Nc3ncnc(Nc4ccc(F...</td>\n",
       "      <td>2</td>\n",
       "      <td>16500.0</td>\n",
       "      <td>IC50Measurement</td>\n",
       "    </tr>\n",
       "    <tr>\n",
       "      <th>2</th>\n",
       "      <td>P00533 &amp; Cc1cc(C(=O)N2CCOCC2)[nH]c1/C=C1\\C(=O)...</td>\n",
       "      <td>2</td>\n",
       "      <td>170.0</td>\n",
       "      <td>IC50Measurement</td>\n",
       "    </tr>\n",
       "    <tr>\n",
       "      <th>3</th>\n",
       "      <td>P06239 &amp; Nc1ncnc2c1c(-c1cccc(Oc3ccccc3)c1)cn2C...</td>\n",
       "      <td>2</td>\n",
       "      <td>140.0</td>\n",
       "      <td>IC50Measurement</td>\n",
       "    </tr>\n",
       "    <tr>\n",
       "      <th>4</th>\n",
       "      <td>P06239 &amp; Nc1ncnc2c1c(-c1cccc(Oc3ccccc3)c1)cn2C...</td>\n",
       "      <td>2</td>\n",
       "      <td>1180.0</td>\n",
       "      <td>IC50Measurement</td>\n",
       "    </tr>\n",
       "    <tr>\n",
       "      <th>...</th>\n",
       "      <td>...</td>\n",
       "      <td>...</td>\n",
       "      <td>...</td>\n",
       "      <td>...</td>\n",
       "    </tr>\n",
       "    <tr>\n",
       "      <th>170453</th>\n",
       "      <td>P36888 &amp; CCC[C@H](C)Nc1ncc2c(-c3cnn(C4CCNCC4)c...</td>\n",
       "      <td>2</td>\n",
       "      <td>45.0</td>\n",
       "      <td>IC50Measurement</td>\n",
       "    </tr>\n",
       "    <tr>\n",
       "      <th>170454</th>\n",
       "      <td>Q12866 &amp; CCC[C@H](C)Nc1ncc2c(-c3ccc4nc(C)oc4c3...</td>\n",
       "      <td>2</td>\n",
       "      <td>22.0</td>\n",
       "      <td>IC50Measurement</td>\n",
       "    </tr>\n",
       "    <tr>\n",
       "      <th>170455</th>\n",
       "      <td>P30530 &amp; CCC[C@H](C)Nc1ncc2c(-c3ccc4nc(C)oc4c3...</td>\n",
       "      <td>2</td>\n",
       "      <td>3295.0</td>\n",
       "      <td>IC50Measurement</td>\n",
       "    </tr>\n",
       "    <tr>\n",
       "      <th>170456</th>\n",
       "      <td>Q06418 &amp; CCC[C@H](C)Nc1ncc2c(-c3ccc4nc(C)oc4c3...</td>\n",
       "      <td>2</td>\n",
       "      <td>268.0</td>\n",
       "      <td>IC50Measurement</td>\n",
       "    </tr>\n",
       "    <tr>\n",
       "      <th>170457</th>\n",
       "      <td>P36888 &amp; CCC[C@H](C)Nc1ncc2c(-c3ccc4nc(C)oc4c3...</td>\n",
       "      <td>2</td>\n",
       "      <td>3729.0</td>\n",
       "      <td>IC50Measurement</td>\n",
       "    </tr>\n",
       "  </tbody>\n",
       "</table>\n",
       "<p>170458 rows × 4 columns</p>\n",
       "</div>"
      ],
      "text/plain": [
       "                                                  Systems  n_components  \\\n",
       "0       P00533 & Cc1cc(C)c(/C=C2\\C(=O)Nc3ncnc(Nc4ccc(F...             2   \n",
       "1       P35968 & Cc1cc(C)c(/C=C2\\C(=O)Nc3ncnc(Nc4ccc(F...             2   \n",
       "2       P00533 & Cc1cc(C(=O)N2CCOCC2)[nH]c1/C=C1\\C(=O)...             2   \n",
       "3       P06239 & Nc1ncnc2c1c(-c1cccc(Oc3ccccc3)c1)cn2C...             2   \n",
       "4       P06239 & Nc1ncnc2c1c(-c1cccc(Oc3ccccc3)c1)cn2C...             2   \n",
       "...                                                   ...           ...   \n",
       "170453  P36888 & CCC[C@H](C)Nc1ncc2c(-c3cnn(C4CCNCC4)c...             2   \n",
       "170454  Q12866 & CCC[C@H](C)Nc1ncc2c(-c3ccc4nc(C)oc4c3...             2   \n",
       "170455  P30530 & CCC[C@H](C)Nc1ncc2c(-c3ccc4nc(C)oc4c3...             2   \n",
       "170456  Q06418 & CCC[C@H](C)Nc1ncc2c(-c3ccc4nc(C)oc4c3...             2   \n",
       "170457  P36888 & CCC[C@H](C)Nc1ncc2c(-c3ccc4nc(C)oc4c3...             2   \n",
       "\n",
       "        Measurement  MeasurementType  \n",
       "0              41.0  IC50Measurement  \n",
       "1           16500.0  IC50Measurement  \n",
       "2             170.0  IC50Measurement  \n",
       "3             140.0  IC50Measurement  \n",
       "4            1180.0  IC50Measurement  \n",
       "...             ...              ...  \n",
       "170453         45.0  IC50Measurement  \n",
       "170454         22.0  IC50Measurement  \n",
       "170455       3295.0  IC50Measurement  \n",
       "170456        268.0  IC50Measurement  \n",
       "170457       3729.0  IC50Measurement  \n",
       "\n",
       "[170458 rows x 4 columns]"
      ]
     },
     "execution_count": 6,
     "metadata": {},
     "output_type": "execute_result"
    }
   ],
   "source": [
    "df = chembl.to_dataframe()\n",
    "df"
   ]
  },
  {
   "cell_type": "code",
   "execution_count": 13,
   "metadata": {},
   "outputs": [
    {
     "name": "stdout",
     "output_type": "stream",
     "text": [
      "Measurements: 170458\n",
      "Systems: 141680\n",
      "Proteins: 347\n",
      "Ligands: 93855\n"
     ]
    }
   ],
   "source": [
    "print(\"Measurements:\", len(chembl.measurements))\n",
    "print(\"Systems:\", len(chembl.systems))\n",
    "print(\"Proteins:\", len(set([s.protein for s in chembl.systems])))\n",
    "print(\"Ligands:\",len(set([s.ligand.name for s in chembl.systems])))"
   ]
  },
  {
   "cell_type": "markdown",
   "metadata": {},
   "source": [
    "Having this many ligands (compared to PKIS2) makes this dataset take much more memory and longer (~10 mins) to initialize!"
   ]
  }
 ],
 "metadata": {
  "kernelspec": {
   "display_name": "Python 3",
   "language": "python",
   "name": "python3"
  },
  "language_info": {
   "codemirror_mode": {
    "name": "ipython",
    "version": 3
   },
   "file_extension": ".py",
   "mimetype": "text/x-python",
   "name": "python",
   "nbconvert_exporter": "python",
   "pygments_lexer": "ipython3",
   "version": "3.7.6"
  }
 },
 "nbformat": 4,
 "nbformat_minor": 4
}
