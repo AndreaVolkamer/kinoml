{
 "cells": [
  {
   "cell_type": "code",
   "execution_count": 1,
   "metadata": {},
   "outputs": [],
   "source": [
    "%load_ext autoreload"
   ]
  },
  {
   "cell_type": "code",
   "execution_count": 2,
   "metadata": {},
   "outputs": [],
   "source": [
    "%autoreload 2"
   ]
  },
  {
   "cell_type": "code",
   "execution_count": 3,
   "metadata": {},
   "outputs": [],
   "source": [
    "import warnings\n",
    "warnings.simplefilter(\"ignore\") \n",
    "import logging\n",
    "logging.basicConfig(level=logging.ERROR)"
   ]
  },
  {
   "cell_type": "code",
   "execution_count": 4,
   "metadata": {},
   "outputs": [
    {
     "data": {
      "application/vnd.jupyter.widget-view+json": {
       "model_id": "afe42c22d80b497b91e90b886a12a1a0",
       "version_major": 2,
       "version_minor": 0
      },
      "text/plain": []
     },
     "metadata": {},
     "output_type": "display_data"
    },
    {
     "data": {
      "application/vnd.jupyter.widget-view+json": {
       "model_id": "dc7c83d10af04ba882d66d6d7b17949f",
       "version_major": 2,
       "version_minor": 0
      },
      "text/plain": [
       "HBox(children=(FloatProgress(value=0.0, max=203380.0), HTML(value='')))"
      ]
     },
     "metadata": {},
     "output_type": "display_data"
    },
    {
     "name": "stdout",
     "output_type": "stream",
     "text": [
      "\n"
     ]
    }
   ],
   "source": [
    "from kinoml.datasets.chembl import ChEMBLDatasetProvider\n",
    "chembl = ChEMBLDatasetProvider.from_source()"
   ]
  },
  {
   "cell_type": "code",
   "execution_count": 5,
   "metadata": {},
   "outputs": [
    {
     "data": {
      "text/plain": [
       "<ChEMBLDatasetProvider with 203380 pIC50Measurement measurements and 162584 systems>"
      ]
     },
     "execution_count": 5,
     "metadata": {},
     "output_type": "execute_result"
    }
   ],
   "source": [
    "chembl"
   ]
  },
  {
   "cell_type": "code",
   "execution_count": 6,
   "metadata": {},
   "outputs": [
    {
     "data": {
      "text/html": [
       "<div>\n",
       "<style scoped>\n",
       "    .dataframe tbody tr th:only-of-type {\n",
       "        vertical-align: middle;\n",
       "    }\n",
       "\n",
       "    .dataframe tbody tr th {\n",
       "        vertical-align: top;\n",
       "    }\n",
       "\n",
       "    .dataframe thead th {\n",
       "        text-align: right;\n",
       "    }\n",
       "</style>\n",
       "<table border=\"1\" class=\"dataframe\">\n",
       "  <thead>\n",
       "    <tr style=\"text-align: right;\">\n",
       "      <th></th>\n",
       "      <th>Systems</th>\n",
       "      <th>n_components</th>\n",
       "      <th>Measurement</th>\n",
       "      <th>MeasurementType</th>\n",
       "    </tr>\n",
       "  </thead>\n",
       "  <tbody>\n",
       "    <tr>\n",
       "      <th>0</th>\n",
       "      <td>P00533 &amp; Cc1cc(C)c(/C=C2\\C(=O)Nc3ncnc(Nc4ccc(F...</td>\n",
       "      <td>2</td>\n",
       "      <td>7.387216</td>\n",
       "      <td>pIC50Measurement</td>\n",
       "    </tr>\n",
       "    <tr>\n",
       "      <th>1</th>\n",
       "      <td>P35968 &amp; Cc1cc(C)c(/C=C2\\C(=O)Nc3ncnc(Nc4ccc(F...</td>\n",
       "      <td>2</td>\n",
       "      <td>4.782516</td>\n",
       "      <td>pIC50Measurement</td>\n",
       "    </tr>\n",
       "    <tr>\n",
       "      <th>2</th>\n",
       "      <td>P00533 &amp; Cc1cc(C(=O)N2CCOCC2)[nH]c1/C=C1\\C(=O)...</td>\n",
       "      <td>2</td>\n",
       "      <td>6.769551</td>\n",
       "      <td>pIC50Measurement</td>\n",
       "    </tr>\n",
       "    <tr>\n",
       "      <th>3</th>\n",
       "      <td>P06239 &amp; Nc1ncnc2c1c(-c1cccc(Oc3ccccc3)c1)cn2C...</td>\n",
       "      <td>2</td>\n",
       "      <td>6.853872</td>\n",
       "      <td>pIC50Measurement</td>\n",
       "    </tr>\n",
       "    <tr>\n",
       "      <th>4</th>\n",
       "      <td>P06239 &amp; Nc1ncnc2c1c(-c1cccc(Oc3ccccc3)c1)cn2C...</td>\n",
       "      <td>2</td>\n",
       "      <td>5.928118</td>\n",
       "      <td>pIC50Measurement</td>\n",
       "    </tr>\n",
       "    <tr>\n",
       "      <th>...</th>\n",
       "      <td>...</td>\n",
       "      <td>...</td>\n",
       "      <td>...</td>\n",
       "      <td>...</td>\n",
       "    </tr>\n",
       "    <tr>\n",
       "      <th>203375</th>\n",
       "      <td>P42345 &amp; Nc1cc(C(F)F)c(-c2nc(N3CCOCC3)cc(N3CCO...</td>\n",
       "      <td>2</td>\n",
       "      <td>7.376751</td>\n",
       "      <td>pKiMeasurement</td>\n",
       "    </tr>\n",
       "    <tr>\n",
       "      <th>203376</th>\n",
       "      <td>P42345 &amp; Nc1cc(C(F)(F)F)c(-c2cc(N3C4CCC3COC4)n...</td>\n",
       "      <td>2</td>\n",
       "      <td>7.522879</td>\n",
       "      <td>pKiMeasurement</td>\n",
       "    </tr>\n",
       "    <tr>\n",
       "      <th>203377</th>\n",
       "      <td>P42345 &amp; Nc1cc(C(F)F)c(-c2cc(N3C4CCC3COC4)nc(N...</td>\n",
       "      <td>2</td>\n",
       "      <td>7.920819</td>\n",
       "      <td>pKiMeasurement</td>\n",
       "    </tr>\n",
       "    <tr>\n",
       "      <th>203378</th>\n",
       "      <td>P42345 &amp; Nc1cc(C(F)(F)F)c(-c2nc(N3C4CCC3COC4)c...</td>\n",
       "      <td>2</td>\n",
       "      <td>6.361511</td>\n",
       "      <td>pKiMeasurement</td>\n",
       "    </tr>\n",
       "    <tr>\n",
       "      <th>203379</th>\n",
       "      <td>P42345 &amp; Nc1cc(C(F)F)c(-c2nc(N3C4CCC3COC4)cc(N...</td>\n",
       "      <td>2</td>\n",
       "      <td>7.221849</td>\n",
       "      <td>pKiMeasurement</td>\n",
       "    </tr>\n",
       "  </tbody>\n",
       "</table>\n",
       "<p>203380 rows × 4 columns</p>\n",
       "</div>"
      ],
      "text/plain": [
       "                                                  Systems  n_components  \\\n",
       "0       P00533 & Cc1cc(C)c(/C=C2\\C(=O)Nc3ncnc(Nc4ccc(F...             2   \n",
       "1       P35968 & Cc1cc(C)c(/C=C2\\C(=O)Nc3ncnc(Nc4ccc(F...             2   \n",
       "2       P00533 & Cc1cc(C(=O)N2CCOCC2)[nH]c1/C=C1\\C(=O)...             2   \n",
       "3       P06239 & Nc1ncnc2c1c(-c1cccc(Oc3ccccc3)c1)cn2C...             2   \n",
       "4       P06239 & Nc1ncnc2c1c(-c1cccc(Oc3ccccc3)c1)cn2C...             2   \n",
       "...                                                   ...           ...   \n",
       "203375  P42345 & Nc1cc(C(F)F)c(-c2nc(N3CCOCC3)cc(N3CCO...             2   \n",
       "203376  P42345 & Nc1cc(C(F)(F)F)c(-c2cc(N3C4CCC3COC4)n...             2   \n",
       "203377  P42345 & Nc1cc(C(F)F)c(-c2cc(N3C4CCC3COC4)nc(N...             2   \n",
       "203378  P42345 & Nc1cc(C(F)(F)F)c(-c2nc(N3C4CCC3COC4)c...             2   \n",
       "203379  P42345 & Nc1cc(C(F)F)c(-c2nc(N3C4CCC3COC4)cc(N...             2   \n",
       "\n",
       "        Measurement   MeasurementType  \n",
       "0          7.387216  pIC50Measurement  \n",
       "1          4.782516  pIC50Measurement  \n",
       "2          6.769551  pIC50Measurement  \n",
       "3          6.853872  pIC50Measurement  \n",
       "4          5.928118  pIC50Measurement  \n",
       "...             ...               ...  \n",
       "203375     7.376751    pKiMeasurement  \n",
       "203376     7.522879    pKiMeasurement  \n",
       "203377     7.920819    pKiMeasurement  \n",
       "203378     6.361511    pKiMeasurement  \n",
       "203379     7.221849    pKiMeasurement  \n",
       "\n",
       "[203380 rows x 4 columns]"
      ]
     },
     "execution_count": 6,
     "metadata": {},
     "output_type": "execute_result"
    }
   ],
   "source": [
    "df = chembl.to_dataframe()\n",
    "df"
   ]
  },
  {
   "cell_type": "code",
   "execution_count": 7,
   "metadata": {},
   "outputs": [
    {
     "name": "stdout",
     "output_type": "stream",
     "text": [
      "Measurements: 203380\n",
      "Systems: 162584\n",
      "Proteins: 422\n",
      "Ligands: 103097\n",
      "Measurement types: pIC50Measurement pKdMeasurement pKiMeasurement\n"
     ]
    }
   ],
   "source": [
    "print(\"Measurements:\", len(chembl.measurements))\n",
    "print(\"Systems:\", len(chembl.systems))\n",
    "print(\"Proteins:\", len(set([s.protein for s in chembl.systems])))\n",
    "print(\"Ligands:\", len(set([s.ligand.name for s in chembl.systems])))\n",
    "print(\"Measurement types:\", *df['MeasurementType'].unique())"
   ]
  },
  {
   "cell_type": "markdown",
   "metadata": {},
   "source": [
    "Having this many ligands (compared to PKIS2) makes this dataset take much more memory and longer (~10 mins) to initialize!"
   ]
  },
  {
   "cell_type": "code",
   "execution_count": 8,
   "metadata": {},
   "outputs": [],
   "source": [
    "from kinoml.features.ligand import SmilesToLigandFeaturizer, MorganFingerprintFeaturizer\n",
    "from kinoml.features.protein import AminoAcidCompositionFeaturizer\n",
    "from kinoml.features.core import ScaleFeaturizer, Concatenated, Pipeline\n",
    "\n",
    "morgan_featurizer = Pipeline([SmilesToLigandFeaturizer(), MorganFingerprintFeaturizer(nbits=1024, radius=2)])\n",
    "composition_featurizer = Pipeline([AminoAcidCompositionFeaturizer(), ScaleFeaturizer()])\n",
    "concat_featurizers = Concatenated([morgan_featurizer, composition_featurizer], axis=0)"
   ]
  },
  {
   "cell_type": "markdown",
   "metadata": {},
   "source": [
    "You can prefeaturize everything before the loop, or delay the featurization until the systems are needed by passing the featurizer to the `to_pytorch` constructor."
   ]
  },
  {
   "cell_type": "code",
   "execution_count": 9,
   "metadata": {},
   "outputs": [],
   "source": [
    "# # prefeaturize everything\n",
    "# subchembl.featurize(concat_featurizers)\n",
    "# # pass the featurizer to pytorch to featurize on the fly while optimizing\n",
    "# datasets = subchembl.to_pytorch(featurizer=concat_featurizers)\n",
    "# datasets"
   ]
  },
  {
   "cell_type": "markdown",
   "metadata": {},
   "source": [
    "We are creating a small subset here with just pIC50 measurements:"
   ]
  },
  {
   "cell_type": "code",
   "execution_count": 10,
   "metadata": {},
   "outputs": [
    {
     "data": {
      "text/plain": [
       "<ChEMBLDatasetProvider with 10000 pIC50Measurement measurements and 8514 systems>"
      ]
     },
     "execution_count": 10,
     "metadata": {},
     "output_type": "execute_result"
    }
   ],
   "source": [
    "from kinoml.core.measurements import pIC50Measurement\n",
    "from kinoml.datasets.chembl import ChEMBLDatasetProvider\n",
    "subset = []\n",
    "count = 0\n",
    "for ms in chembl.measurements:\n",
    "    if isinstance(ms, pIC50Measurement):\n",
    "        subset.append(ms)\n",
    "        count += 1\n",
    "    if count >= 10000:\n",
    "        break\n",
    "\n",
    "subchembl = ChEMBLDatasetProvider(subset)\n",
    "subchembl"
   ]
  },
  {
   "cell_type": "code",
   "execution_count": 11,
   "metadata": {},
   "outputs": [],
   "source": [
    "subdf = subchembl.to_dataframe()"
   ]
  },
  {
   "cell_type": "code",
   "execution_count": 12,
   "metadata": {},
   "outputs": [
    {
     "data": {
      "text/html": [
       "<div>\n",
       "<style scoped>\n",
       "    .dataframe tbody tr th:only-of-type {\n",
       "        vertical-align: middle;\n",
       "    }\n",
       "\n",
       "    .dataframe tbody tr th {\n",
       "        vertical-align: top;\n",
       "    }\n",
       "\n",
       "    .dataframe thead th {\n",
       "        text-align: right;\n",
       "    }\n",
       "</style>\n",
       "<table border=\"1\" class=\"dataframe\">\n",
       "  <thead>\n",
       "    <tr style=\"text-align: right;\">\n",
       "      <th></th>\n",
       "      <th>Systems</th>\n",
       "      <th>n_components</th>\n",
       "      <th>Measurement</th>\n",
       "      <th>MeasurementType</th>\n",
       "    </tr>\n",
       "  </thead>\n",
       "  <tbody>\n",
       "    <tr>\n",
       "      <th>0</th>\n",
       "      <td>P00533 &amp; Cc1cc(C)c(/C=C2\\C(=O)Nc3ncnc(Nc4ccc(F...</td>\n",
       "      <td>2</td>\n",
       "      <td>7.387216</td>\n",
       "      <td>pIC50Measurement</td>\n",
       "    </tr>\n",
       "    <tr>\n",
       "      <th>1</th>\n",
       "      <td>P35968 &amp; Cc1cc(C)c(/C=C2\\C(=O)Nc3ncnc(Nc4ccc(F...</td>\n",
       "      <td>2</td>\n",
       "      <td>4.782516</td>\n",
       "      <td>pIC50Measurement</td>\n",
       "    </tr>\n",
       "    <tr>\n",
       "      <th>2</th>\n",
       "      <td>P00533 &amp; Cc1cc(C(=O)N2CCOCC2)[nH]c1/C=C1\\C(=O)...</td>\n",
       "      <td>2</td>\n",
       "      <td>6.769551</td>\n",
       "      <td>pIC50Measurement</td>\n",
       "    </tr>\n",
       "    <tr>\n",
       "      <th>3</th>\n",
       "      <td>P06239 &amp; Nc1ncnc2c1c(-c1cccc(Oc3ccccc3)c1)cn2C...</td>\n",
       "      <td>2</td>\n",
       "      <td>6.853872</td>\n",
       "      <td>pIC50Measurement</td>\n",
       "    </tr>\n",
       "    <tr>\n",
       "      <th>4</th>\n",
       "      <td>P06239 &amp; Nc1ncnc2c1c(-c1cccc(Oc3ccccc3)c1)cn2C...</td>\n",
       "      <td>2</td>\n",
       "      <td>5.928118</td>\n",
       "      <td>pIC50Measurement</td>\n",
       "    </tr>\n",
       "    <tr>\n",
       "      <th>...</th>\n",
       "      <td>...</td>\n",
       "      <td>...</td>\n",
       "      <td>...</td>\n",
       "      <td>...</td>\n",
       "    </tr>\n",
       "    <tr>\n",
       "      <th>9995</th>\n",
       "      <td>Q9Y243 &amp; CC(C)Cc1nc(-c2ccccc2)c(-c2ccc(CN3CCC(...</td>\n",
       "      <td>2</td>\n",
       "      <td>4.660151</td>\n",
       "      <td>pIC50Measurement</td>\n",
       "    </tr>\n",
       "    <tr>\n",
       "      <th>9996</th>\n",
       "      <td>P31749 &amp; O=C(O)c1ccc2nc(-c3ccc(CN4CCC(n5c(=O)[...</td>\n",
       "      <td>2</td>\n",
       "      <td>6.619789</td>\n",
       "      <td>pIC50Measurement</td>\n",
       "    </tr>\n",
       "    <tr>\n",
       "      <th>9997</th>\n",
       "      <td>P31751 &amp; O=C(O)c1ccc2nc(-c3ccc(CN4CCC(n5c(=O)[...</td>\n",
       "      <td>2</td>\n",
       "      <td>6.551294</td>\n",
       "      <td>pIC50Measurement</td>\n",
       "    </tr>\n",
       "    <tr>\n",
       "      <th>9998</th>\n",
       "      <td>P31749 &amp; O=C(O)c1ccc2nc(-c3ccccc3)c(-c3ccc(CN4...</td>\n",
       "      <td>2</td>\n",
       "      <td>6.779892</td>\n",
       "      <td>pIC50Measurement</td>\n",
       "    </tr>\n",
       "    <tr>\n",
       "      <th>9999</th>\n",
       "      <td>P30291 &amp; Cn1c(=O)c(-c2c(Cl)cccc2Cl)cc2cnc(Nc3c...</td>\n",
       "      <td>2</td>\n",
       "      <td>7.161151</td>\n",
       "      <td>pIC50Measurement</td>\n",
       "    </tr>\n",
       "  </tbody>\n",
       "</table>\n",
       "<p>10000 rows × 4 columns</p>\n",
       "</div>"
      ],
      "text/plain": [
       "                                                Systems  n_components  \\\n",
       "0     P00533 & Cc1cc(C)c(/C=C2\\C(=O)Nc3ncnc(Nc4ccc(F...             2   \n",
       "1     P35968 & Cc1cc(C)c(/C=C2\\C(=O)Nc3ncnc(Nc4ccc(F...             2   \n",
       "2     P00533 & Cc1cc(C(=O)N2CCOCC2)[nH]c1/C=C1\\C(=O)...             2   \n",
       "3     P06239 & Nc1ncnc2c1c(-c1cccc(Oc3ccccc3)c1)cn2C...             2   \n",
       "4     P06239 & Nc1ncnc2c1c(-c1cccc(Oc3ccccc3)c1)cn2C...             2   \n",
       "...                                                 ...           ...   \n",
       "9995  Q9Y243 & CC(C)Cc1nc(-c2ccccc2)c(-c2ccc(CN3CCC(...             2   \n",
       "9996  P31749 & O=C(O)c1ccc2nc(-c3ccc(CN4CCC(n5c(=O)[...             2   \n",
       "9997  P31751 & O=C(O)c1ccc2nc(-c3ccc(CN4CCC(n5c(=O)[...             2   \n",
       "9998  P31749 & O=C(O)c1ccc2nc(-c3ccccc3)c(-c3ccc(CN4...             2   \n",
       "9999  P30291 & Cn1c(=O)c(-c2c(Cl)cccc2Cl)cc2cnc(Nc3c...             2   \n",
       "\n",
       "      Measurement   MeasurementType  \n",
       "0        7.387216  pIC50Measurement  \n",
       "1        4.782516  pIC50Measurement  \n",
       "2        6.769551  pIC50Measurement  \n",
       "3        6.853872  pIC50Measurement  \n",
       "4        5.928118  pIC50Measurement  \n",
       "...           ...               ...  \n",
       "9995     4.660151  pIC50Measurement  \n",
       "9996     6.619789  pIC50Measurement  \n",
       "9997     6.551294  pIC50Measurement  \n",
       "9998     6.779892  pIC50Measurement  \n",
       "9999     7.161151  pIC50Measurement  \n",
       "\n",
       "[10000 rows x 4 columns]"
      ]
     },
     "execution_count": 12,
     "metadata": {},
     "output_type": "execute_result"
    }
   ],
   "source": [
    "subdf"
   ]
  },
  {
   "cell_type": "code",
   "execution_count": 13,
   "metadata": {},
   "outputs": [
    {
     "name": "stdout",
     "output_type": "stream",
     "text": [
      "Min values: 3.00\n",
      "Max values: 11.52\n"
     ]
    },
    {
     "data": {
      "image/png": "[encoded data removed]",
      "text/plain": [
       "<Figure size 432x288 with 1 Axes>"
      ]
     },
     "metadata": {
      "needs_background": "light"
     },
     "output_type": "display_data"
    }
   ],
   "source": [
    "import pandas as pd\n",
    "from matplotlib import pyplot as plt\n",
    "def hist_plot(values):\n",
    "    '''\n",
    "    Plots the histogram of given values.\n",
    "    '''\n",
    "    print(f'Min values: {pd.np.min(values):.2f}')\n",
    "    print(f'Max values: {pd.np.max(values):.2f}')\n",
    "    fig, ax = plt.subplots()\n",
    "    ax.set_title(\"Histogram\")\n",
    "    ax.set_xlabel(\"pIC50 values in [M]\")\n",
    "    ax.set_ylabel(\"counts\")\n",
    "    ax.hist(values, bins=50)\n",
    "    return fig\n",
    "\n",
    "hist_plot(subdf.Measurement);"
   ]
  },
  {
   "cell_type": "code",
   "execution_count": 14,
   "metadata": {},
   "outputs": [
    {
     "data": {
      "text/plain": [
       "[<function kinoml.core.measurements.pIC50Measurement._observation_model_pytorch(dG_over_KT, substrate_conc=1e-06, michaelis_constant=1, inhibitor_conc=1, **kwargs)>]"
      ]
     },
     "execution_count": 14,
     "metadata": {},
     "output_type": "execute_result"
    }
   ],
   "source": [
    "observation_models = subchembl.observation_models(backend=\"pytorch\")\n",
    "observation_models"
   ]
  },
  {
   "cell_type": "code",
   "execution_count": 16,
   "metadata": {},
   "outputs": [
    {
     "data": {
      "application/vnd.jupyter.widget-view+json": {
       "model_id": "61cb9323e03849f0ac3b778bca434f7f",
       "version_major": 2,
       "version_minor": 0
      },
      "text/plain": [
       "HBox(children=(FloatProgress(value=0.0, description='Featurizing systems...', max=8514.0, style=ProgressStyle(…"
      ]
     },
     "metadata": {},
     "output_type": "display_data"
    },
    {
     "name": "stderr",
     "output_type": "stream",
     "text": [
      "RDKit WARNING: [17:21:40] Conflicting single bond directions around double bond at index 14.\n",
      "RDKit WARNING: [17:21:40]   BondStereo set to STEREONONE and single bond directions set to NONE.\n",
      "RDKit WARNING: [17:21:40] Conflicting single bond directions around double bond at index 14.\n",
      "RDKit WARNING: [17:21:40]   BondStereo set to STEREONONE and single bond directions set to NONE.\n"
     ]
    },
    {
     "name": "stdout",
     "output_type": "stream",
     "text": [
      "\n"
     ]
    }
   ],
   "source": [
    "# prefeaturize everything\n",
    "subchembl.featurize(concat_featurizers)"
   ]
  },
  {
   "cell_type": "markdown",
   "metadata": {},
   "source": [
    "## Train/test split\n",
    "\n",
    "Filters and splitters have been reduced to the same concept: groups! You can find lots of groupers in `kinoml.datasets.groups`. A random split, for example:"
   ]
  },
  {
   "cell_type": "code",
   "execution_count": 19,
   "metadata": {},
   "outputs": [
    {
     "data": {
      "text/plain": [
       "<ChEMBLDatasetProvider with 10000 pIC50Measurement measurements and 8514 systems>"
      ]
     },
     "execution_count": 19,
     "metadata": {},
     "output_type": "execute_result"
    }
   ],
   "source": [
    "from kinoml.datasets.groups import RandomGrouper\n",
    "\n",
    "grouper = RandomGrouper(ratios={\"train\": 0.8, \"test\": 0.2})\n",
    "grouper.assign(subchembl, overwrite=True)"
   ]
  },
  {
   "cell_type": "code",
   "execution_count": 20,
   "metadata": {},
   "outputs": [
    {
     "data": {
      "text/plain": [
       "(8000, 2000)"
      ]
     },
     "execution_count": 20,
     "metadata": {},
     "output_type": "execute_result"
    }
   ],
   "source": [
    "groups = subchembl.split_by_groups()\n",
    "len(groups[\"train\"]), len(groups[\"test\"])"
   ]
  },
  {
   "cell_type": "code",
   "execution_count": 21,
   "metadata": {},
   "outputs": [],
   "source": [
    "import torch\n",
    "from kinoml.ml.torch_models import NeuralNetworkRegression\n",
    "from tqdm.auto import trange, tqdm\n",
    "\n",
    "# Use DataLoader for minibatches\n",
    "datasets = groups[\"train\"].to_pytorch()\n",
    "loaders = [dataset.as_dataloader(batch_size=5, shuffle=True) for dataset in datasets]"
   ]
  },
  {
   "cell_type": "code",
   "execution_count": 22,
   "metadata": {},
   "outputs": [
    {
     "data": {
      "application/vnd.jupyter.widget-view+json": {
       "model_id": "5467f4690cbf42ea94c153585534edcf",
       "version_major": 2,
       "version_minor": 0
      },
      "text/plain": [
       "HBox(children=(FloatProgress(value=0.0, description='Epochs (+ featurization...)', style=ProgressStyle(descrip…"
      ]
     },
     "metadata": {},
     "output_type": "display_data"
    },
    {
     "name": "stdout",
     "output_type": "stream",
     "text": [
      "\n"
     ]
    }
   ],
   "source": [
    "# precompute input size\n",
    "input_size = datasets[0].estimate_input_size()\n",
    "model = NeuralNetworkRegression(input_size=input_size[0])\n",
    "optimizer = torch.optim.Adam(model.parameters(), lr=0.005)\n",
    "loss_function = torch.nn.MSELoss() # Mean squared error\n",
    "\n",
    "nb_epoch = 100\n",
    "loss_timeseries = []\n",
    "ys = []\n",
    "range_epochs = trange(nb_epoch, desc=\"Epochs (+ featurization...)\")\n",
    "for epoch in range_epochs:\n",
    "    # Single cumulative loss / or loss per loader? look into this!\n",
    "    cumulative_loss = 0.0\n",
    "    ys.append([])\n",
    "    for i, loader in enumerate(loaders):\n",
    "        for j, (x, y) in enumerate(loader):\n",
    "\n",
    "            # Clear gradients\n",
    "            optimizer.zero_grad()\n",
    "\n",
    "            # Obtain model prediction given model input\n",
    "            delta_g = model(x)\n",
    "\n",
    "            # with observation model\n",
    "            prediction = loader.dataset.observation_model(delta_g)\n",
    "            \n",
    "            # !!!!!!!!!!!!!!!!!!!!!!!!!!!!!!!!!!!!!!!!!!!!!!!\n",
    "            # !!! Make sure prediction and y match shapes !!!\n",
    "            # !!!!!!!!!!!!!!!!!!!!!!!!!!!!!!!!!!!!!!!!!!!!!!!\n",
    "            \n",
    "            y = y.reshape(prediction.shape)\n",
    "\n",
    "            ys[-1].append((delta_g, prediction, y))\n",
    "\n",
    "            # prediction = delta_g\n",
    "            loss = loss_function(prediction, y)\n",
    "\n",
    "            # Obtain loss for the predicted output\n",
    "            # if cumulative loss is global, change this i to 0, or viceversa\n",
    "            cumulative_loss += loss.item()\n",
    "\n",
    "            # Gradients w.r.t. parameters\n",
    "            loss.backward()\n",
    "\n",
    "            # Optimizer\n",
    "            optimizer.step()\n",
    "            if j % 2000 == 0:    # print every 2000 mini-batches\n",
    "                range_epochs.set_description(f\"Epochs (loss={cumulative_loss / 2000:.2e})\")\n",
    "                cumulative_loss = 0.0\n",
    "            \n",
    "    loss_timeseries.append(cumulative_loss)\n",
    "    "
   ]
  },
  {
   "cell_type": "code",
   "execution_count": 23,
   "metadata": {},
   "outputs": [
    {
     "data": {
      "image/png": "[encoded data removed]",
      "text/plain": [
       "<Figure size 432x288 with 1 Axes>"
      ]
     },
     "metadata": {
      "needs_background": "light"
     },
     "output_type": "display_data"
    }
   ],
   "source": [
    "f = plt.figure()\n",
    "plt.plot(loss_timeseries)\n",
    "plt.xlabel('epoch')\n",
    "plt.ylabel('loss')\n",
    "plt.show()"
   ]
  },
  {
   "cell_type": "code",
   "execution_count": 24,
   "metadata": {},
   "outputs": [
    {
     "data": {
      "application/vnd.jupyter.widget-view+json": {
       "model_id": "bb52c7ea8a2d4278aa80b566981be5aa",
       "version_major": 2,
       "version_minor": 0
      },
      "text/plain": [
       "interactive(children=(IntSlider(value=99, description='i', max=99), Output()), _dom_classes=('widget-interact'…"
      ]
     },
     "metadata": {},
     "output_type": "display_data"
    }
   ],
   "source": [
    "import numpy as np\n",
    "from ipywidgets import interact\n",
    "from matplotlib import pyplot as plt\n",
    "from sklearn.metrics import r2_score, mean_squared_error, mean_absolute_error\n",
    "\n",
    "def predicted_vs_true(i=100):\n",
    "    fig, ax = plt.subplots()\n",
    "    predicted = np.concatenate([y[1].detach().numpy() for y in ys[i]])\n",
    "    true = np.concatenate([y[2].detach().numpy() for y in ys[i]]).reshape(-1, 1)\n",
    "    ax.scatter(predicted, true)\n",
    "    ax.set(xlim=(0, 15), ylim=(0, 15))\n",
    "    ax.set_xlabel(\"Predicted y\")\n",
    "    ax.set_ylabel(\"True y\")\n",
    "    x = np.linspace(0, 15, 10)\n",
    "    ax.plot(x, x)\n",
    "    ax.set_aspect('equal', adjustable='box')\n",
    "    plt.show()\n",
    "\n",
    "    r2 = r2_score(true, predicted)\n",
    "    print(f\"R2: Goodness of fit measure: {r2:.2f}\")\n",
    "    if all(elem==predicted[0] for elem in predicted):\n",
    "        print(\"All outputs are equal: \")\n",
    "    mse = mean_squared_error(true, predicted)\n",
    "    mae = mean_absolute_error(true, predicted)\n",
    "    rmse = np.sqrt(mse)\n",
    "    print(f\"MSE: {mse:.2f}\")\n",
    "    print(f\"RMSE: {rmse:.2f}\")\n",
    "    print(f\"MAE: {mae:.2f}\")\n",
    "\n",
    "interact(predicted_vs_true, i=(0, len(ys)-1));"
   ]
  },
  {
   "cell_type": "markdown",
   "metadata": {},
   "source": [
    "Let's see how the model predicts the whole dataset!"
   ]
  },
  {
   "cell_type": "code",
   "execution_count": 29,
   "metadata": {},
   "outputs": [
    {
     "data": {
      "image/png": "[encoded data removed]",
      "text/plain": [
       "<Figure size 432x288 with 1 Axes>"
      ]
     },
     "metadata": {
      "needs_background": "light"
     },
     "output_type": "display_data"
    },
    {
     "name": "stdout",
     "output_type": "stream",
     "text": [
      "R2: Goodness of fit measure: 0.89\n",
      "MSE: 0.19\n",
      "RMSE: 0.44\n",
      "MAE: 0.31\n"
     ]
    }
   ],
   "source": [
    "model_input = torch.tensor(datasets[0].systems).type(torch.FloatTensor)\n",
    "true = datasets[0].measurements\n",
    "\n",
    "delta_g = model(model_input)\n",
    "prediction = datasets[0].observation_model(delta_g).detach().numpy()\n",
    "\n",
    "\n",
    "fig, ax = plt.subplots()\n",
    "ax.scatter(prediction, true)\n",
    "ax.set(xlim=(0, 15), ylim=(0, 15))\n",
    "ax.set_xlabel(\"Predicted y\")\n",
    "ax.set_ylabel(\"True y\")\n",
    "ax.set_title(f\"pIC50 values for a {len(datasets[0])//1000}k ChEMBL subset (train)\")\n",
    "x = np.linspace(0, 15, 10)\n",
    "ax.plot(x, x)\n",
    "ax.set_aspect('equal', adjustable='box')\n",
    "plt.show()\n",
    "\n",
    "r2 = r2_score(true, prediction)\n",
    "print(f\"R2: Goodness of fit measure: {r2:.2f}\")\n",
    "if all(elem==prediction[0] for elem in prediction):\n",
    "    print(\"All outputs are equal: \")\n",
    "mse = mean_squared_error(true, prediction)\n",
    "mae = mean_absolute_error(true, prediction)\n",
    "rmse = np.sqrt(mse)\n",
    "print(f\"MSE: {mse:.2f}\")\n",
    "print(f\"RMSE: {rmse:.2f}\")\n",
    "print(f\"MAE: {mae:.2f}\")"
   ]
  },
  {
   "cell_type": "markdown",
   "metadata": {},
   "source": [
    "### Performance vs the test set"
   ]
  },
  {
   "cell_type": "code",
   "execution_count": 28,
   "metadata": {},
   "outputs": [
    {
     "data": {
      "image/png": "[encoded data removed]",
      "text/plain": [
       "<Figure size 432x288 with 1 Axes>"
      ]
     },
     "metadata": {
      "needs_background": "light"
     },
     "output_type": "display_data"
    },
    {
     "name": "stdout",
     "output_type": "stream",
     "text": [
      "R2: Goodness of fit measure: 0.60\n",
      "MSE: 0.72\n",
      "RMSE: 0.85\n",
      "MAE: 0.63\n"
     ]
    }
   ],
   "source": [
    "test_datasets = groups[\"test\"].to_pytorch()\n",
    "\n",
    "model_input = torch.tensor(test_datasets[0].systems).type(torch.FloatTensor)\n",
    "true = test_datasets[0].measurements\n",
    "\n",
    "delta_g = model(model_input)\n",
    "prediction = test_datasets[0].observation_model(delta_g).detach().numpy()\n",
    "\n",
    "\n",
    "fig, ax = plt.subplots()\n",
    "ax.scatter(prediction, true)\n",
    "ax.set(xlim=(0, 15), ylim=(0, 15))\n",
    "ax.set_xlabel(\"Predicted y\")\n",
    "ax.set_ylabel(\"True y\")\n",
    "ax.set_title(f\"pIC50 values for a {len(test_datasets[0])//1000}k ChEMBL subset (test)\")\n",
    "x = np.linspace(0, 15, 10)\n",
    "ax.plot(x, x)\n",
    "ax.set_aspect('equal', adjustable='box')\n",
    "plt.show()\n",
    "\n",
    "r2 = r2_score(true, prediction)\n",
    "print(f\"R2: Goodness of fit measure: {r2:.2f}\")\n",
    "if all(elem==prediction[0] for elem in prediction):\n",
    "    print(\"All outputs are equal: \")\n",
    "mse = mean_squared_error(true, prediction)\n",
    "mae = mean_absolute_error(true, prediction)\n",
    "rmse = np.sqrt(mse)\n",
    "print(f\"MSE: {mse:.2f}\")\n",
    "print(f\"RMSE: {rmse:.2f}\")\n",
    "print(f\"MAE: {mae:.2f}\")"
   ]
  },
  {
   "cell_type": "markdown",
   "metadata": {},
   "source": [
    "## Gradient boosting algorithm (tree-based)\n",
    "Let us check how a tree-based method worked compared to the neural network.\n",
    "We use the XGBoost package for the implementation."
   ]
  },
  {
   "cell_type": "markdown",
   "metadata": {},
   "source": [
    "### Create XGBoost format input data"
   ]
  },
  {
   "cell_type": "code",
   "execution_count": 30,
   "metadata": {},
   "outputs": [
    {
     "data": {
      "text/plain": [
       "<xgboost.core.DMatrix at 0x7f9ba9759990>"
      ]
     },
     "execution_count": 30,
     "metadata": {},
     "output_type": "execute_result"
    }
   ],
   "source": [
    "data_xgb = groups[\"train\"].to_xgboost()[0]\n",
    "data_xgb"
   ]
  },
  {
   "cell_type": "markdown",
   "metadata": {},
   "source": [
    "### Custom loss function\n",
    "Here we define a custom loss function for the observation model.\n",
    "- `labels` are the $pIC_{50}$ values that are the observed measurements. \n",
    "- `preds` are the values that are predicted by the model. In this case, the $\\Delta g$ values.\n",
    "We use the typical squared error as a loss:\n",
    "\n",
    "$$\n",
    "loss(y, \\hat y) = 1/2 * (y - \\hat y)^2\n",
    "$$\n",
    "\n",
    "In this situation, given an observation model, we define the following custom loss\n",
    "\n",
    "$$\n",
    "loss(labels, preds) = 1/2 * (labels-observation\\_model(preds))^2.\n",
    "$$\n",
    "\n",
    "In the $pIC_{50}$ case, the observation model is\n",
    "\n",
    "$$\n",
    "\\mathbf{F}_{pIC_{50}}(\\Delta g) = -\\log10\\Big(\\big({1+\\frac{[S]}{K_m}}\\big) * \\exp[\\Delta g] * C\\Big),\n",
    "$$\n",
    "\n",
    "or written differently\n",
    "\n",
    "$$\n",
    "\\mathbf{F}_{pIC_{50}}(\\Delta g) = - \\frac{\\Delta g + \\ln\\Big(\\big(1+\\frac{[S]}{K_m}\\big)*C\\Big)}{\\ln(10)}.\n",
    "$$\n",
    "\n",
    "Therefore, we have\n",
    "\n",
    "$$\n",
    "loss(labels, \\Delta g) = 1/2 * \\big(labels - \\mathbf{F}_{pIC_{50}}(\\Delta g) \\big) ^2 \\\\\n",
    "=  1/2 * \\Big(labels +  \\frac{\\Delta g + \\ln\\Big(\\big(1+\\frac{[S]}{K_m}\\big)*C\\Big)}{\\ln(10)} \\Big)^2 \\\\\n",
    "=  1/2 * \\big(labels +  \\frac{\\Delta g}{\\ln(10)} + K \\big)^2,\n",
    "$$\n",
    "where $K = \\frac{\\ln\\Big(\\big(1+\\frac{[S]}{K_m}\\big)*C\\Big)}{\\ln(10)}$."
   ]
  },
  {
   "cell_type": "markdown",
   "metadata": {},
   "source": [
    "The gradient of the loss w.r.t $\\Delta g$ is\n",
    "\n",
    "$$\n",
    "\\frac{\\partial loss}{\\Delta g}(labels, \\Delta g) = \\big(labels +  \\frac{\\Delta g}{\\ln(10)} + K \\big) * \\frac{1}{\\ln(10)}\n",
    "$$\n",
    "\n",
    "The hessian of the loss w.r.t $\\Delta g$ is\n",
    "\n",
    "$$\n",
    "\\frac{\\partial^2 loss}{\\Delta g ^2}(labels, \\Delta g) = \\frac{1}{\\ln(10)^2}\n",
    "$$"
   ]
  },
  {
   "cell_type": "code",
   "execution_count": 22,
   "metadata": {},
   "outputs": [],
   "source": [
    "def custom_loss(preds, dtrain):\n",
    "    '''\n",
    "    loss = 1/2 * (observation_pIC50(preds)-labels)^2\n",
    "    '''\n",
    "    import numpy as np\n",
    "    \n",
    "    substrate_conc=1e-6\n",
    "    michaelis_constant=1\n",
    "    inhibitor_conc=1\n",
    "    \n",
    "    \n",
    "    labels = dtrain.get_label()\n",
    "    \n",
    "    constant = np.log((1 + substrate_conc / michaelis_constant) * inhibitor_conc) / np.log(10)\n",
    "    \n",
    "    grad = (labels + preds/np.log(10) + constant) * 1/np.log(10)\n",
    "    hess = np.ones(grad.shape) * 1/np.log(10)**2\n",
    "    \n",
    "    return grad, hess"
   ]
  },
  {
   "cell_type": "markdown",
   "metadata": {},
   "source": [
    "We have also included the observation model (plus the MSE loss) in the MeasurementType classes, so we can also do:"
   ]
  },
  {
   "cell_type": "code",
   "execution_count": 31,
   "metadata": {},
   "outputs": [
    {
     "data": {
      "text/plain": [
       "<function kinoml.core.measurements.pIC50Measurement._observation_model_xgboost(dG_over_KT, dmatrix, substrate_conc=1e-06, michaelis_constant=1, inhibitor_conc=1, **kwargs)>"
      ]
     },
     "execution_count": 31,
     "metadata": {},
     "output_type": "execute_result"
    }
   ],
   "source": [
    "obj_function = groups[\"train\"].observation_model(backend=\"xgboost\")\n",
    "obj_function"
   ]
  },
  {
   "cell_type": "markdown",
   "metadata": {},
   "source": [
    "### Define model with the custom loss"
   ]
  },
  {
   "cell_type": "code",
   "execution_count": 32,
   "metadata": {},
   "outputs": [],
   "source": [
    "import xgboost as xgb\n",
    "params = {'learning_rate': 1.0}\n",
    "model = xgb.train(dtrain=data_xgb, params=params, obj=obj_function)"
   ]
  },
  {
   "cell_type": "markdown",
   "metadata": {},
   "source": [
    "Evaluate the model:"
   ]
  },
  {
   "cell_type": "code",
   "execution_count": 44,
   "metadata": {},
   "outputs": [],
   "source": [
    "deltag_train = model.predict(data_xgb)\n",
    "prediction = datasets[0].observation_model(deltag_train)\n",
    "\n",
    "true = data_xgb.get_label()"
   ]
  },
  {
   "cell_type": "code",
   "execution_count": 45,
   "metadata": {},
   "outputs": [
    {
     "data": {
      "image/png": "[encoded data removed]",
      "text/plain": [
       "<Figure size 432x288 with 1 Axes>"
      ]
     },
     "metadata": {
      "needs_background": "light"
     },
     "output_type": "display_data"
    },
    {
     "name": "stdout",
     "output_type": "stream",
     "text": [
      "R2: Goodness of fit measure: 0.65\n",
      "MSE: 0.64\n",
      "RMSE: 0.80\n",
      "MAE: 0.62\n"
     ]
    }
   ],
   "source": [
    "fig, ax = plt.subplots()\n",
    "ax.scatter(prediction, true)\n",
    "ax.set(xlim=(0, 15), ylim=(0, 15))\n",
    "ax.set_xlabel(\"Predicted y\")\n",
    "ax.set_ylabel(\"True y\")\n",
    "ax.set_title(f\"pIC50 values for a {len(datasets[0])//1000}k ChEMBL subset (train)\")\n",
    "x = np.linspace(0, 15, 10)\n",
    "ax.plot(x, x)\n",
    "ax.set_aspect('equal', adjustable='box')\n",
    "plt.show()\n",
    "\n",
    "r2 = r2_score(true, prediction)\n",
    "print(f\"R2: Goodness of fit measure: {r2:.2f}\")\n",
    "if all(elem==prediction[0] for elem in prediction):\n",
    "    print(\"All outputs are equal: \")\n",
    "mse = mean_squared_error(true, prediction)\n",
    "mae = mean_absolute_error(true, prediction)\n",
    "rmse = np.sqrt(mse)\n",
    "print(f\"MSE: {mse:.2f}\")\n",
    "print(f\"RMSE: {rmse:.2f}\")\n",
    "print(f\"MAE: {mae:.2f}\")"
   ]
  },
  {
   "cell_type": "markdown",
   "metadata": {},
   "source": [
    "#### Performance vs test"
   ]
  },
  {
   "cell_type": "code",
   "execution_count": 42,
   "metadata": {},
   "outputs": [
    {
     "data": {
      "image/png": "[encoded data removed]",
      "text/plain": [
       "<Figure size 432x288 with 1 Axes>"
      ]
     },
     "metadata": {
      "needs_background": "light"
     },
     "output_type": "display_data"
    },
    {
     "name": "stdout",
     "output_type": "stream",
     "text": [
      "R2: Goodness of fit measure: 0.54\n",
      "MSE: 0.84\n",
      "RMSE: 0.92\n",
      "MAE: 0.70\n"
     ]
    }
   ],
   "source": [
    "data_xgb_test = groups[\"test\"].to_xgboost()[0]\n",
    "deltag_test = model.predict(data_xgb_test)\n",
    "prediction_test = datasets[0].observation_model(deltag_test)\n",
    "\n",
    "true = data_xgb_test.get_label()\n",
    "\n",
    "fig, ax = plt.subplots()\n",
    "ax.scatter(prediction_test, true)\n",
    "ax.set(xlim=(0, 15), ylim=(0, 15))\n",
    "ax.set_xlabel(\"Predicted y\")\n",
    "ax.set_ylabel(\"True y\")\n",
    "ax.set_title(f\"pIC50 values for a {len(groups['test'])//1000}k ChEMBL subset (test)\")\n",
    "x = np.linspace(0, 15, 10)\n",
    "ax.plot(x, x)\n",
    "ax.set_aspect('equal', adjustable='box')\n",
    "plt.show()\n",
    "\n",
    "r2 = r2_score(true, prediction_test)\n",
    "print(f\"R2: Goodness of fit measure: {r2:.2f}\")\n",
    "if all(elem==prediction_test[0] for elem in prediction_test):\n",
    "    print(\"All outputs are equal: \")\n",
    "mse = mean_squared_error(true, prediction_test)\n",
    "mae = mean_absolute_error(true, prediction_test)\n",
    "rmse = np.sqrt(mse)\n",
    "print(f\"MSE: {mse:.2f}\")\n",
    "print(f\"RMSE: {rmse:.2f}\")\n",
    "print(f\"MAE: {mae:.2f}\")"
   ]
  }
 ],
 "metadata": {
  "kernelspec": {
   "display_name": "Python 3",
   "language": "python",
   "name": "python3"
  },
  "language_info": {
   "codemirror_mode": {
    "name": "ipython",
    "version": 3
   },
   "file_extension": ".py",
   "mimetype": "text/x-python",
   "name": "python",
   "nbconvert_exporter": "python",
   "pygments_lexer": "ipython3",
   "version": "3.7.8"
  }
 },
 "nbformat": 4,
 "nbformat_minor": 4
}
