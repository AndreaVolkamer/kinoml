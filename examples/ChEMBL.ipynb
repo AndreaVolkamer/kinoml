{
 "cells": [
  {
   "cell_type": "code",
   "execution_count": 1,
   "metadata": {},
   "outputs": [],
   "source": [
    "%load_ext autoreload"
   ]
  },
  {
   "cell_type": "code",
   "execution_count": 2,
   "metadata": {},
   "outputs": [],
   "source": [
    "%autoreload 2"
   ]
  },
  {
   "cell_type": "code",
   "execution_count": 3,
   "metadata": {},
   "outputs": [],
   "source": [
    "import warnings\n",
    "warnings.simplefilter(\"ignore\") \n",
    "import logging\n",
    "logging.basicConfig(level=logging.ERROR)"
   ]
  },
  {
   "cell_type": "code",
   "execution_count": 4,
   "metadata": {},
   "outputs": [
    {
     "name": "stderr",
     "output_type": "stream",
     "text": [
      "RDKit WARNING: [16:36:07] Enabling RDKit 2019.09.2 jupyter extensions\n"
     ]
    },
    {
     "data": {
      "application/vnd.jupyter.widget-view+json": {
       "model_id": "2e13f6229baa46518c983f75cfc12efb",
       "version_major": 2,
       "version_minor": 0
      },
      "text/plain": [
       "HBox(children=(FloatProgress(value=0.0, max=203730.0), HTML(value='')))"
      ]
     },
     "metadata": {},
     "output_type": "display_data"
    },
    {
     "name": "stdout",
     "output_type": "stream",
     "text": [
      "\n"
     ]
    }
   ],
   "source": [
    "from kinoml.datasets.chembl import ChEMBLDatasetProvider\n",
    "chembl = ChEMBLDatasetProvider.from_source() #sample=20000)"
   ]
  },
  {
   "cell_type": "code",
   "execution_count": 5,
   "metadata": {},
   "outputs": [
    {
     "data": {
      "text/plain": [
       "<ChEMBLDatasetProvider with 203730 pIC50Measurement measurements and 162819 systems>"
      ]
     },
     "execution_count": 5,
     "metadata": {},
     "output_type": "execute_result"
    }
   ],
   "source": [
    "chembl"
   ]
  },
  {
   "cell_type": "code",
   "execution_count": 6,
   "metadata": {},
   "outputs": [
    {
     "data": {
      "text/html": [
       "<div>\n",
       "<style scoped>\n",
       "    .dataframe tbody tr th:only-of-type {\n",
       "        vertical-align: middle;\n",
       "    }\n",
       "\n",
       "    .dataframe tbody tr th {\n",
       "        vertical-align: top;\n",
       "    }\n",
       "\n",
       "    .dataframe thead th {\n",
       "        text-align: right;\n",
       "    }\n",
       "</style>\n",
       "<table border=\"1\" class=\"dataframe\">\n",
       "  <thead>\n",
       "    <tr style=\"text-align: right;\">\n",
       "      <th></th>\n",
       "      <th>Systems</th>\n",
       "      <th>n_components</th>\n",
       "      <th>Measurement</th>\n",
       "      <th>MeasurementType</th>\n",
       "    </tr>\n",
       "  </thead>\n",
       "  <tbody>\n",
       "    <tr>\n",
       "      <th>0</th>\n",
       "      <td>P00533 &amp; Cc1cc(C)c(/C=C2\\C(=O)Nc3ncnc(Nc4ccc(F...</td>\n",
       "      <td>2</td>\n",
       "      <td>7.387216</td>\n",
       "      <td>pIC50Measurement</td>\n",
       "    </tr>\n",
       "    <tr>\n",
       "      <th>1</th>\n",
       "      <td>P35968 &amp; Cc1cc(C)c(/C=C2\\C(=O)Nc3ncnc(Nc4ccc(F...</td>\n",
       "      <td>2</td>\n",
       "      <td>4.782516</td>\n",
       "      <td>pIC50Measurement</td>\n",
       "    </tr>\n",
       "    <tr>\n",
       "      <th>2</th>\n",
       "      <td>P00533 &amp; Cc1cc(C(=O)N2CCOCC2)[nH]c1/C=C1\\C(=O)...</td>\n",
       "      <td>2</td>\n",
       "      <td>6.769551</td>\n",
       "      <td>pIC50Measurement</td>\n",
       "    </tr>\n",
       "    <tr>\n",
       "      <th>3</th>\n",
       "      <td>P06239 &amp; Nc1ncnc2c1c(-c1cccc(Oc3ccccc3)c1)cn2C...</td>\n",
       "      <td>2</td>\n",
       "      <td>6.853872</td>\n",
       "      <td>pIC50Measurement</td>\n",
       "    </tr>\n",
       "    <tr>\n",
       "      <th>4</th>\n",
       "      <td>P06239 &amp; Nc1ncnc2c1c(-c1cccc(Oc3ccccc3)c1)cn2C...</td>\n",
       "      <td>2</td>\n",
       "      <td>5.928118</td>\n",
       "      <td>pIC50Measurement</td>\n",
       "    </tr>\n",
       "    <tr>\n",
       "      <th>...</th>\n",
       "      <td>...</td>\n",
       "      <td>...</td>\n",
       "      <td>...</td>\n",
       "      <td>...</td>\n",
       "    </tr>\n",
       "    <tr>\n",
       "      <th>203725</th>\n",
       "      <td>P42345 &amp; CC(C)n1nc(-c2cc3cc(O)ccc3[nH]2)c2c(N)...</td>\n",
       "      <td>2</td>\n",
       "      <td>8.522879</td>\n",
       "      <td>pKdMeasurement</td>\n",
       "    </tr>\n",
       "    <tr>\n",
       "      <th>203726</th>\n",
       "      <td>P42345 &amp; CO[C@H]1CC[C@H](N2C(=O)CNc3ncc(-c4ccc...</td>\n",
       "      <td>2</td>\n",
       "      <td>7.552842</td>\n",
       "      <td>pKdMeasurement</td>\n",
       "    </tr>\n",
       "    <tr>\n",
       "      <th>203727</th>\n",
       "      <td>P42345 &amp; CNC(=O)c1cccc(-c2ccc3c(N4CCOC[C@@H]4C...</td>\n",
       "      <td>2</td>\n",
       "      <td>9.853872</td>\n",
       "      <td>pKdMeasurement</td>\n",
       "    </tr>\n",
       "    <tr>\n",
       "      <th>203728</th>\n",
       "      <td>P42345 &amp; CO[C@H]1C[C@@H]2CC[C@@H](C)[C@@](O)(O...</td>\n",
       "      <td>2</td>\n",
       "      <td>9.221849</td>\n",
       "      <td>pKdMeasurement</td>\n",
       "    </tr>\n",
       "    <tr>\n",
       "      <th>203729</th>\n",
       "      <td>P42345 &amp; CO[C@H]1C[C@@H]2CC[C@@H](C)[C@@](O)(O...</td>\n",
       "      <td>2</td>\n",
       "      <td>8.698970</td>\n",
       "      <td>pKdMeasurement</td>\n",
       "    </tr>\n",
       "  </tbody>\n",
       "</table>\n",
       "<p>203730 rows × 4 columns</p>\n",
       "</div>"
      ],
      "text/plain": [
       "                                                  Systems  n_components  \\\n",
       "0       P00533 & Cc1cc(C)c(/C=C2\\C(=O)Nc3ncnc(Nc4ccc(F...             2   \n",
       "1       P35968 & Cc1cc(C)c(/C=C2\\C(=O)Nc3ncnc(Nc4ccc(F...             2   \n",
       "2       P00533 & Cc1cc(C(=O)N2CCOCC2)[nH]c1/C=C1\\C(=O)...             2   \n",
       "3       P06239 & Nc1ncnc2c1c(-c1cccc(Oc3ccccc3)c1)cn2C...             2   \n",
       "4       P06239 & Nc1ncnc2c1c(-c1cccc(Oc3ccccc3)c1)cn2C...             2   \n",
       "...                                                   ...           ...   \n",
       "203725  P42345 & CC(C)n1nc(-c2cc3cc(O)ccc3[nH]2)c2c(N)...             2   \n",
       "203726  P42345 & CO[C@H]1CC[C@H](N2C(=O)CNc3ncc(-c4ccc...             2   \n",
       "203727  P42345 & CNC(=O)c1cccc(-c2ccc3c(N4CCOC[C@@H]4C...             2   \n",
       "203728  P42345 & CO[C@H]1C[C@@H]2CC[C@@H](C)[C@@](O)(O...             2   \n",
       "203729  P42345 & CO[C@H]1C[C@@H]2CC[C@@H](C)[C@@](O)(O...             2   \n",
       "\n",
       "        Measurement   MeasurementType  \n",
       "0          7.387216  pIC50Measurement  \n",
       "1          4.782516  pIC50Measurement  \n",
       "2          6.769551  pIC50Measurement  \n",
       "3          6.853872  pIC50Measurement  \n",
       "4          5.928118  pIC50Measurement  \n",
       "...             ...               ...  \n",
       "203725     8.522879    pKdMeasurement  \n",
       "203726     7.552842    pKdMeasurement  \n",
       "203727     9.853872    pKdMeasurement  \n",
       "203728     9.221849    pKdMeasurement  \n",
       "203729     8.698970    pKdMeasurement  \n",
       "\n",
       "[203730 rows x 4 columns]"
      ]
     },
     "execution_count": 6,
     "metadata": {},
     "output_type": "execute_result"
    }
   ],
   "source": [
    "df = chembl.to_dataframe()\n",
    "df"
   ]
  },
  {
   "cell_type": "code",
   "execution_count": 7,
   "metadata": {},
   "outputs": [
    {
     "name": "stdout",
     "output_type": "stream",
     "text": [
      "Measurements: 203730\n",
      "Systems: 162819\n",
      "Proteins: 422\n",
      "Ligands: 103296\n"
     ]
    }
   ],
   "source": [
    "print(\"Measurements:\", len(chembl.measurements))\n",
    "print(\"Systems:\", len(chembl.systems))\n",
    "print(\"Proteins:\", len(set([s.protein for s in chembl.systems])))\n",
    "print(\"Ligands:\",len(set([s.ligand.name for s in chembl.systems])))"
   ]
  },
  {
   "cell_type": "markdown",
   "metadata": {},
   "source": [
    "Having this many ligands (compared to PKIS2) makes this dataset take much more memory and longer (~10 mins) to initialize!"
   ]
  },
  {
   "cell_type": "code",
   "execution_count": 8,
   "metadata": {},
   "outputs": [],
   "source": [
    "from kinoml.features.ligand import SmilesToLigandFeaturizer, MorganFingerprintFeaturizer\n",
    "from kinoml.features.protein import AminoAcidCompositionFeaturizer\n",
    "from kinoml.features.core import HashFeaturizer, Concatenated, Pipeline\n",
    "\n",
    "morgan_featurizer = Pipeline([SmilesToLigandFeaturizer(), MorganFingerprintFeaturizer(nbits=1024, radius=2)])\n",
    "composition_featurizer = AminoAcidCompositionFeaturizer()\n",
    "concat_featurizers = Concatenated([morgan_featurizer, composition_featurizer], axis=0)"
   ]
  },
  {
   "cell_type": "markdown",
   "metadata": {},
   "source": [
    "You can prefeaturize everything before the loop with this cell:"
   ]
  },
  {
   "cell_type": "code",
   "execution_count": 9,
   "metadata": {},
   "outputs": [],
   "source": [
    "# %%time\n",
    "# chembl.featurize(concat_featurizers)"
   ]
  },
  {
   "cell_type": "markdown",
   "metadata": {},
   "source": [
    "Or delay the featurization until the systems are needed by passing the featurizer to the `to_pytorch` constructor. We will use this strategy!"
   ]
  },
  {
   "cell_type": "markdown",
   "metadata": {},
   "source": [
    "## Temporary workaround\n",
    "\n",
    "To debug the loss problem, we will only consider one protein for now:"
   ]
  },
  {
   "cell_type": "code",
   "execution_count": 10,
   "metadata": {},
   "outputs": [
    {
     "data": {
      "text/plain": [
       "[('P35968', 10034),\n",
       " ('P00533', 8581),\n",
       " ('O60674-O60674', 5659),\n",
       " ('P15056', 5248),\n",
       " ('Q16539', 5057)]"
      ]
     },
     "execution_count": 10,
     "metadata": {},
     "output_type": "execute_result"
    }
   ],
   "source": [
    "from collections import Counter\n",
    "counts = Counter([s.system.protein.name for s in chembl.measurements])\n",
    "sorted_counts = sorted(counts.items(), key=lambda kv: kv[1], reverse=True)[:5]\n",
    "sorted_counts"
   ]
  },
  {
   "cell_type": "code",
   "execution_count": 11,
   "metadata": {},
   "outputs": [
    {
     "data": {
      "text/plain": [
       "9628"
      ]
     },
     "execution_count": 11,
     "metadata": {},
     "output_type": "execute_result"
    }
   ],
   "source": [
    "from kinoml.core.measurements import pIC50Measurement\n",
    "measurements = []\n",
    "for ms in chembl.measurements:\n",
    "    if ms.system.protein.name == sorted_counts[0][0] and isinstance(ms, pIC50Measurement):\n",
    "        measurements.append(ms)\n",
    "len(measurements)"
   ]
  },
  {
   "cell_type": "code",
   "execution_count": 12,
   "metadata": {},
   "outputs": [],
   "source": [
    "from kinoml.datasets.chembl import _SingleTypeChEMBLDatasetProvider\n",
    "subchembl = ChEMBLDatasetProvider([_SingleTypeChEMBLDatasetProvider(measurements)])"
   ]
  },
  {
   "cell_type": "code",
   "execution_count": 13,
   "metadata": {},
   "outputs": [
    {
     "data": {
      "text/plain": [
       "<ChEMBLDatasetProvider with 9628 pIC50Measurement measurements and 7426 systems>"
      ]
     },
     "execution_count": 13,
     "metadata": {},
     "output_type": "execute_result"
    }
   ],
   "source": [
    "subchembl"
   ]
  },
  {
   "cell_type": "markdown",
   "metadata": {},
   "source": [
    "### /End of temporary workaround; subchembl used from now on, instead of chembl"
   ]
  },
  {
   "cell_type": "code",
   "execution_count": 14,
   "metadata": {},
   "outputs": [
    {
     "data": {
      "text/plain": [
       "[<kinoml.datasets.torch_datasets.TorchDataset at 0x7fd94d5f33d0>]"
      ]
     },
     "execution_count": 14,
     "metadata": {},
     "output_type": "execute_result"
    }
   ],
   "source": [
    "datasets = subchembl.to_pytorch(featurizer=concat_featurizers)\n",
    "datasets"
   ]
  },
  {
   "cell_type": "code",
   "execution_count": 15,
   "metadata": {},
   "outputs": [
    {
     "data": {
      "text/plain": [
       "[<function kinoml.core.measurements.pIC50Measurement._observation_model_pytorch(dG_over_KT, substrate_conc=1e-06, michaelis_constant=1, inhibitor_conc=1e-06, **kwargs)>]"
      ]
     },
     "execution_count": 15,
     "metadata": {},
     "output_type": "execute_result"
    }
   ],
   "source": [
    "observation_models = subchembl.observation_models(backend=\"pytorch\")\n",
    "observation_models"
   ]
  },
  {
   "cell_type": "code",
   "execution_count": 16,
   "metadata": {},
   "outputs": [],
   "source": [
    "import torch\n",
    "from kinoml.ml.torch_models import NeuralNetworkRegression\n",
    "from tqdm.auto import trange, tqdm\n",
    "from kinoml.core.measurements import null_observation_model\n",
    "\n",
    "# Use DataLoader for minibatches\n",
    "datasets = subchembl.to_pytorch(featurizer=concat_featurizers)\n",
    "loaders = [dataset.as_dataloader(batch_size=256) for dataset in datasets]"
   ]
  },
  {
   "cell_type": "code",
   "execution_count": 17,
   "metadata": {},
   "outputs": [
    {
     "data": {
      "application/vnd.jupyter.widget-view+json": {
       "model_id": "0f7f7cf716e4434da7e62b13717875c3",
       "version_major": 2,
       "version_minor": 0
      },
      "text/plain": [
       "HBox(children=(FloatProgress(value=0.0, description='Epochs (+ featurization...)', style=ProgressStyle(descrip…"
      ]
     },
     "metadata": {},
     "output_type": "display_data"
    },
    {
     "name": "stdout",
     "output_type": "stream",
     "text": [
      "\n"
     ]
    }
   ],
   "source": [
    "# precompute input size\n",
    "input_size = datasets[0].estimate_input_size()\n",
    "model = NeuralNetworkRegression(input_size=input_size[0])\n",
    "optimizer = torch.optim.Adam(model.parameters(), lr=0.0001)\n",
    "loss_function = torch.nn.MSELoss() # Mean squared error\n",
    "\n",
    "nb_epoch = 100\n",
    "loss_timeseries = []\n",
    "ys = []\n",
    "range_epochs = trange(nb_epoch, desc=\"Epochs (+ featurization...)\")\n",
    "for epoch in range_epochs:\n",
    "    # Single cumulative loss / or loss per loader? look into this!\n",
    "    cumulative_loss = 0\n",
    "    ys.append([])\n",
    "    for i, loader in enumerate(loaders):  # FIXME: make sure we are balancing across measurement types\n",
    "        for j, (x, y) in enumerate(loader):\n",
    "            # assert not (torch.isnan(x).any() or torch.isinf(x).any()), f\"x has nan and/or infs!\"\n",
    "            # assert not (torch.isnan(y).any() or torch.isinf(y).any()), f\"y has nan and/or infs!\"\n",
    "            \n",
    "            # Obtain model prediction given model input\n",
    "            delta_g = model(x)\n",
    "            # with observation model\n",
    "            prediction = loader.dataset.observation_model(delta_g)\n",
    "            prediction.retain_grad()\n",
    "\n",
    "            ys[-1].append((delta_g, prediction, y))\n",
    "            \n",
    "            # prediction = delta_g\n",
    "            loss = loss_function(prediction, y)\n",
    "            \n",
    "            # Obtain loss for the predicted output\n",
    "            # if cumulative loss is global, change this i to 0, or viceversa\n",
    "            cumulative_loss += loss.item()\n",
    "\n",
    "            # Clear gradients\n",
    "            # added after loss is computed! https://pytorch.org/tutorials/beginner/pytorch_with_examples.html\n",
    "            optimizer.zero_grad()\n",
    "            \n",
    "            # Gradients w.r.t. parameters\n",
    "            loss.backward()\n",
    "            \n",
    "            # Optimizer\n",
    "            optimizer.step()\n",
    "            \n",
    "    loss_timeseries.append(cumulative_loss)\n",
    "    range_epochs.set_description(f\"Epochs (loss={loss_timeseries[-1]:.2e})\")"
   ]
  },
  {
   "cell_type": "code",
   "execution_count": 24,
   "metadata": {},
   "outputs": [
    {
     "data": {
      "application/vnd.jupyter.widget-view+json": {
       "model_id": "cbe383c2d98c42cebcfb5b1da9120df6",
       "version_major": 2,
       "version_minor": 0
      },
      "text/plain": [
       "interactive(children=(IntSlider(value=99, description='i', max=99), Output()), _dom_classes=('widget-interact'…"
      ]
     },
     "metadata": {},
     "output_type": "display_data"
    }
   ],
   "source": [
    "import numpy as np\n",
    "from ipywidgets import interact\n",
    "from matplotlib import pyplot as plt\n",
    "\n",
    "def predicted_vs_true(i=100):\n",
    "    fig, ax = plt.subplots()\n",
    "    predicted = np.concatenate([y[1].detach().numpy() for y in ys[i]])\n",
    "    true = np.concatenate([y[2].detach().numpy() for y in ys[i]])\n",
    "    ax.scatter(predicted, true)\n",
    "    ax.set(xlim=(0, 15), ylim=(0, 15))\n",
    "    ax.set_xlabel(\"Predicted y\")\n",
    "    ax.set_ylabel(\"True y\")\n",
    "    plt.show()\n",
    "    \n",
    "\n",
    "interact(predicted_vs_true, i=(0, len(ys)-1));"
   ]
  },
  {
   "cell_type": "code",
   "execution_count": 21,
   "metadata": {},
   "outputs": [
    {
     "data": {
      "application/vnd.jupyter.widget-view+json": {
       "model_id": "a3b9f750eb064253b75202c83f5dad73",
       "version_major": 2,
       "version_minor": 0
      },
      "text/plain": [
       "interactive(children=(IntSlider(value=99, description='i', max=99), Output()), _dom_classes=('widget-interact'…"
      ]
     },
     "metadata": {},
     "output_type": "display_data"
    }
   ],
   "source": [
    "def predicted_grad_vs_true(i=100):\n",
    "    fig, ax = plt.subplots()\n",
    "    predicted = np.concatenate([y[1].grad.detach().numpy() for y in ys[i]])\n",
    "    ax.hist(predicted)\n",
    "    ax.set(xlim=(-1, 1), ylim=(0, 3000))\n",
    "    ax.set_xlabel(\"Gradients\")\n",
    "    plt.show()\n",
    "    \n",
    "interact(predicted_grad_vs_true, i=(0, len(ys)-1));"
   ]
  }
 ],
 "metadata": {
  "kernelspec": {
   "display_name": "Python 3",
   "language": "python",
   "name": "python3"
  },
  "language_info": {
   "codemirror_mode": {
    "name": "ipython",
    "version": 3
   },
   "file_extension": ".py",
   "mimetype": "text/x-python",
   "name": "python",
   "nbconvert_exporter": "python",
   "pygments_lexer": "ipython3",
   "version": "3.7.6"
  }
 },
 "nbformat": 4,
 "nbformat_minor": 4
}
