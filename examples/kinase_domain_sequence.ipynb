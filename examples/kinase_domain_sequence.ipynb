{
 "cells": [
  {
   "cell_type": "markdown",
   "metadata": {},
   "source": [
    "# Kinase Domain Sequences\n",
    "\n",
    "This notebook shows how to retrieve the amino acid sequence of kinase domains.\n",
    "\n",
    "## Content\n",
    "\n",
    "1. From Uniprot"
   ]
  },
  {
   "cell_type": "markdown",
   "metadata": {},
   "source": [
    "## 1. From Uniprot"
   ]
  },
  {
   "cell_type": "code",
   "execution_count": 1,
   "metadata": {},
   "outputs": [],
   "source": [
    "import math\n",
    "import pandas as pd\n",
    "from tqdm import tqdm\n",
    "from kinoml.core.sequences import KinaseDomainAminoAcidSequence"
   ]
  },
  {
   "cell_type": "markdown",
   "metadata": {},
   "source": [
    "Sequences are retrieved by querying the [Uniprot proteins API](https://www.ebi.ac.uk/proteins/api/doc/). You can provide single or mutliple identifiers. In case a kinase has multiple domains, multiple sequences will be returned."
   ]
  },
  {
   "cell_type": "code",
   "execution_count": 2,
   "metadata": {},
   "outputs": [
    {
     "name": "stdout",
     "output_type": "stream",
     "text": [
      "Number of kinase domains: 2\n"
     ]
    }
   ],
   "source": [
    "# multiple Uniprot identifiers\n",
    "sequences = KinaseDomainAminoAcidSequence.from_uniprot(\"P04629\", \"Q96GX5\")\n",
    "print(f\"Number of kinase domains: {len(sequences)}\")"
   ]
  },
  {
   "cell_type": "code",
   "execution_count": 3,
   "metadata": {},
   "outputs": [
    {
     "name": "stdout",
     "output_type": "stream",
     "text": [
      "Number of kinase domains: 2\n"
     ]
    }
   ],
   "source": [
    "# multiple kinase domains in one kinase\n",
    "sequences = KinaseDomainAminoAcidSequence.from_uniprot(\"A0A010QB14\")\n",
    "print(f\"Number of kinase domains: {len(sequences)}\")"
   ]
  },
  {
   "cell_type": "markdown",
   "metadata": {},
   "source": [
    "`KinaseDomainAminoAcidSequence` is a subclass of `Biosequence` and stores a `name` and a `metadata` dictionary."
   ]
  },
  {
   "cell_type": "code",
   "execution_count": 4,
   "metadata": {},
   "outputs": [
    {
     "name": "stdout",
     "output_type": "stream",
     "text": [
      "Kinase name: NTRK1_HUMAN\n",
      "Sequence metadata: {'uniprot_id': 'P04629', 'begin': 510, 'end': 781, 'true_N_terminus': False, 'true_C_terminus': False}\n"
     ]
    }
   ],
   "source": [
    "# single kinase domain in one kinase\n",
    "sequence = KinaseDomainAminoAcidSequence.from_uniprot(\"P04629\")\n",
    "print(f\"Kinase name: {sequence.name}\")\n",
    "print(f\"Sequence metadata: {sequence.metadata}\")"
   ]
  },
  {
   "cell_type": "markdown",
   "metadata": {},
   "source": [
    "Let's check how many kinase domains we find in a collection of kinases."
   ]
  },
  {
   "cell_type": "code",
   "execution_count": 5,
   "metadata": {},
   "outputs": [
    {
     "data": {
      "text/html": [
       "<div>\n",
       "<style scoped>\n",
       "    .dataframe tbody tr th:only-of-type {\n",
       "        vertical-align: middle;\n",
       "    }\n",
       "\n",
       "    .dataframe tbody tr th {\n",
       "        vertical-align: top;\n",
       "    }\n",
       "\n",
       "    .dataframe thead th {\n",
       "        text-align: right;\n",
       "    }\n",
       "</style>\n",
       "<table border=\"1\" class=\"dataframe\">\n",
       "  <thead>\n",
       "    <tr style=\"text-align: right;\">\n",
       "      <th></th>\n",
       "      <th>UniprotID</th>\n",
       "      <th>Name</th>\n",
       "      <th>kinhub</th>\n",
       "      <th>klifs</th>\n",
       "      <th>pkinfam</th>\n",
       "      <th>reviewed_uniprot</th>\n",
       "      <th>dunbrack_msa</th>\n",
       "    </tr>\n",
       "  </thead>\n",
       "  <tbody>\n",
       "    <tr>\n",
       "      <th>0</th>\n",
       "      <td>A0A0B4J2F2</td>\n",
       "      <td>SIK1B</td>\n",
       "      <td>False</td>\n",
       "      <td>False</td>\n",
       "      <td>True</td>\n",
       "      <td>True</td>\n",
       "      <td>True</td>\n",
       "    </tr>\n",
       "    <tr>\n",
       "      <th>1</th>\n",
       "      <td>A2A3N6</td>\n",
       "      <td>PIPSL</td>\n",
       "      <td>False</td>\n",
       "      <td>False</td>\n",
       "      <td>False</td>\n",
       "      <td>True</td>\n",
       "      <td>False</td>\n",
       "    </tr>\n",
       "    <tr>\n",
       "      <th>2</th>\n",
       "      <td>A2RU49</td>\n",
       "      <td>HYKK</td>\n",
       "      <td>False</td>\n",
       "      <td>False</td>\n",
       "      <td>False</td>\n",
       "      <td>True</td>\n",
       "      <td>False</td>\n",
       "    </tr>\n",
       "    <tr>\n",
       "      <th>3</th>\n",
       "      <td>A4D2B8</td>\n",
       "      <td>PM2P1</td>\n",
       "      <td>False</td>\n",
       "      <td>False</td>\n",
       "      <td>False</td>\n",
       "      <td>True</td>\n",
       "      <td>False</td>\n",
       "    </tr>\n",
       "    <tr>\n",
       "      <th>4</th>\n",
       "      <td>A4QPH2</td>\n",
       "      <td>PI4KAP2|PI4P2</td>\n",
       "      <td>False</td>\n",
       "      <td>True</td>\n",
       "      <td>False</td>\n",
       "      <td>True</td>\n",
       "      <td>False</td>\n",
       "    </tr>\n",
       "    <tr>\n",
       "      <th>...</th>\n",
       "      <td>...</td>\n",
       "      <td>...</td>\n",
       "      <td>...</td>\n",
       "      <td>...</td>\n",
       "      <td>...</td>\n",
       "      <td>...</td>\n",
       "      <td>...</td>\n",
       "    </tr>\n",
       "    <tr>\n",
       "      <th>756</th>\n",
       "      <td>Q9Y6K8</td>\n",
       "      <td>KAD5</td>\n",
       "      <td>False</td>\n",
       "      <td>False</td>\n",
       "      <td>False</td>\n",
       "      <td>True</td>\n",
       "      <td>False</td>\n",
       "    </tr>\n",
       "    <tr>\n",
       "      <th>757</th>\n",
       "      <td>Q9Y6M4</td>\n",
       "      <td>KC1G3|CSNK1G3</td>\n",
       "      <td>True</td>\n",
       "      <td>True</td>\n",
       "      <td>True</td>\n",
       "      <td>True</td>\n",
       "      <td>True</td>\n",
       "    </tr>\n",
       "    <tr>\n",
       "      <th>758</th>\n",
       "      <td>Q9Y6R4</td>\n",
       "      <td>M3K4|MAP3K4</td>\n",
       "      <td>True</td>\n",
       "      <td>True</td>\n",
       "      <td>True</td>\n",
       "      <td>True</td>\n",
       "      <td>True</td>\n",
       "    </tr>\n",
       "    <tr>\n",
       "      <th>759</th>\n",
       "      <td>Q9Y6S9</td>\n",
       "      <td>RPKL1|RPS6KL1</td>\n",
       "      <td>True</td>\n",
       "      <td>True</td>\n",
       "      <td>True</td>\n",
       "      <td>True</td>\n",
       "      <td>True</td>\n",
       "    </tr>\n",
       "    <tr>\n",
       "      <th>760</th>\n",
       "      <td>Q9Y6T7</td>\n",
       "      <td>DGKB</td>\n",
       "      <td>False</td>\n",
       "      <td>False</td>\n",
       "      <td>False</td>\n",
       "      <td>True</td>\n",
       "      <td>False</td>\n",
       "    </tr>\n",
       "  </tbody>\n",
       "</table>\n",
       "<p>761 rows × 7 columns</p>\n",
       "</div>"
      ],
      "text/plain": [
       "      UniprotID           Name  kinhub  klifs  pkinfam  reviewed_uniprot  \\\n",
       "0    A0A0B4J2F2          SIK1B   False  False     True              True   \n",
       "1        A2A3N6          PIPSL   False  False    False              True   \n",
       "2        A2RU49           HYKK   False  False    False              True   \n",
       "3        A4D2B8          PM2P1   False  False    False              True   \n",
       "4        A4QPH2  PI4KAP2|PI4P2   False   True    False              True   \n",
       "..          ...            ...     ...    ...      ...               ...   \n",
       "756      Q9Y6K8           KAD5   False  False    False              True   \n",
       "757      Q9Y6M4  KC1G3|CSNK1G3    True   True     True              True   \n",
       "758      Q9Y6R4    M3K4|MAP3K4    True   True     True              True   \n",
       "759      Q9Y6S9  RPKL1|RPS6KL1    True   True     True              True   \n",
       "760      Q9Y6T7           DGKB   False  False    False              True   \n",
       "\n",
       "     dunbrack_msa  \n",
       "0            True  \n",
       "1           False  \n",
       "2           False  \n",
       "3           False  \n",
       "4           False  \n",
       "..            ...  \n",
       "756         False  \n",
       "757          True  \n",
       "758          True  \n",
       "759          True  \n",
       "760         False  \n",
       "\n",
       "[761 rows x 7 columns]"
      ]
     },
     "execution_count": 5,
     "metadata": {},
     "output_type": "execute_result"
    }
   ],
   "source": [
    "url = \"https://raw.githubusercontent.com/openkinome/datascripts/more-kinases/data/human_kinases.aggregated.csv\"\n",
    "kinases = pd.read_csv(url, index_col=0)\n",
    "kinases"
   ]
  },
  {
   "cell_type": "markdown",
   "metadata": {},
   "source": [
    "Actually, we could pass the Uniprot identifiers all at once. But we want wo have a progress bar and there is no speed difference."
   ]
  },
  {
   "cell_type": "code",
   "execution_count": 6,
   "metadata": {},
   "outputs": [
    {
     "name": "stderr",
     "output_type": "stream",
     "text": [
      "100%|██████████| 761/761 [08:56<00:00,  1.42it/s]\n"
     ]
    }
   ],
   "source": [
    "kinase_domains = []\n",
    "num_kinases = len(kinases)\n",
    "for uniprot_id in tqdm(kinases.UniprotID):\n",
    "    kinase_domains.append(KinaseDomainAminoAcidSequence.from_uniprot(uniprot_id))"
   ]
  },
  {
   "cell_type": "code",
   "execution_count": 7,
   "metadata": {},
   "outputs": [
    {
     "name": "stdout",
     "output_type": "stream",
     "text": [
      "287 entries do not have a kinase domain according to Uniprot.\n",
      "474 entries have exactly one kinase domain according to Uniprot.\n",
      "0 entries have more than one kinase domain according to Uniprot.\n",
      "2 kinase domains have a true N terminus according to Uniprot.\n",
      "16 kinase domains have a true C terminus according to Uniprot.\n"
     ]
    }
   ],
   "source": [
    "# statistics\n",
    "no_domain = [kinase_domain for kinase_domain in kinase_domains if kinase_domain is None]\n",
    "print(f\"{len(no_domain)} entries do not have a kinase domain according to Uniprot.\")\n",
    "one_domain = [kinase_domain for kinase_domain in kinase_domains if isinstance(kinase_domain, str)]\n",
    "print(f\"{len(one_domain)} entries have exactly one kinase domain according to Uniprot.\")\n",
    "multiple_domains = [kinase_domain for kinase_domain in kinase_domains if isinstance(kinase_domain, list)]\n",
    "print(f\"{len(multiple_domains)} entries have more than one kinase domain according to Uniprot.\")\n",
    "true_N_terminus = [kinase_domain for kinase_domain in one_domain if kinase_domain.metadata[\"true_N_terminus\"] == True]\n",
    "print(f\"{len(true_N_terminus)} kinase domains have a true N terminus according to Uniprot.\")\n",
    "true_C_terminus = [kinase_domain for kinase_domain in one_domain if kinase_domain.metadata[\"true_C_terminus\"] == True]\n",
    "print(f\"{len(true_C_terminus)} kinase domains have a true C terminus according to Uniprot.\")"
   ]
  },
  {
   "cell_type": "markdown",
   "metadata": {},
   "source": [
    "The information about the termini might be important to decide if a terminus should be charged or capped during kinase modeling. Next let's find out how long the kinase domains are."
   ]
  },
  {
   "cell_type": "code",
   "execution_count": 8,
   "metadata": {},
   "outputs": [
    {
     "name": "stdout",
     "output_type": "stream",
     "text": [
      "Maximal length of a kinase domain is 801 according to Uniprot.\n",
      "Minimal length of a kinase domain is 168 according to Uniprot.\n"
     ]
    },
    {
     "data": {
      "image/png": "[encoded data removed]",
      "text/plain": [
       "<Figure size 432x288 with 1 Axes>"
      ]
     },
     "metadata": {
      "needs_background": "light"
     },
     "output_type": "display_data"
    }
   ],
   "source": [
    "max_length = max([len(kinase_domain) for kinase_domain in one_domain])\n",
    "print(f\"Maximal length of a kinase domain is {max_length} according to Uniprot.\")\n",
    "min_length = min([len(kinase_domain) for kinase_domain in one_domain])\n",
    "print(f\"Minimal length of a kinase domain is {min_length} according to Uniprot.\")\n",
    "bins = [x * 100 for x in range(math.floor(min_length/100), math.ceil(max_length/100) + 1)]\n",
    "hist = pd.DataFrame({\"sequence length\": [len(kinase_domain) for kinase_domain in one_domain]}).hist(bins=bins)"
   ]
  },
  {
   "cell_type": "markdown",
   "metadata": {},
   "source": [
    "The longest kinase domain is found for [Q96GX5](https://www.uniprot.org/uniprot/Q96GX5). [5LOH](https://www.rcsb.org/structure/5LOH) (x-ray of Q96GX5) suggests a big insertion within the kinase domain."
   ]
  },
  {
   "cell_type": "code",
   "execution_count": null,
   "metadata": {},
   "outputs": [],
   "source": []
  }
 ],
 "metadata": {
  "kernelspec": {
   "display_name": "Python 3",
   "language": "python",
   "name": "python3"
  },
  "language_info": {
   "codemirror_mode": {
    "name": "ipython",
    "version": 3
   },
   "file_extension": ".py",
   "mimetype": "text/x-python",
   "name": "python",
   "nbconvert_exporter": "python",
   "pygments_lexer": "ipython3",
   "version": "3.7.8"
  }
 },
 "nbformat": 4,
 "nbformat_minor": 4
}
